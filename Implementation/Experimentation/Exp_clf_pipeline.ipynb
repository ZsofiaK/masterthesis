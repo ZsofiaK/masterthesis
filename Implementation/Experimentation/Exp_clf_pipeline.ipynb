{
  "nbformat": 4,
  "nbformat_minor": 0,
  "metadata": {
    "colab": {
      "provenance": [],
      "gpuType": "T4",
      "include_colab_link": true
    },
    "kernelspec": {
      "name": "python3",
      "display_name": "Python 3"
    },
    "language_info": {
      "name": "python"
    },
    "accelerator": "GPU"
  },
  "cells": [
    {
      "cell_type": "markdown",
      "metadata": {
        "id": "view-in-github",
        "colab_type": "text"
      },
      "source": [
        "<a href=\"https://colab.research.google.com/github/ZsofiaK/masterthesis/blob/main/Implementation/Experimentation/Exp_clf_pipeline.ipynb\" target=\"_parent\"><img src=\"https://colab.research.google.com/assets/colab-badge.svg\" alt=\"Open In Colab\"/></a>"
      ]
    },
    {
      "cell_type": "markdown",
      "source": [
        "# Classification pipeline"
      ],
      "metadata": {
        "id": "qkZq3GTWJvqz"
      }
    },
    {
      "cell_type": "markdown",
      "source": [
        "## Importing data and modules."
      ],
      "metadata": {
        "id": "OCI_Qtz3J6q1"
      }
    },
    {
      "cell_type": "code",
      "source": [
        "from google.colab import drive\n",
        "\n",
        "drive.mount('/content/drive')"
      ],
      "metadata": {
        "colab": {
          "base_uri": "https://localhost:8080/"
        },
        "id": "wuugJX1LZjkt",
        "outputId": "f7ac1e31-c552-4936-cedd-0c450935d560"
      },
      "execution_count": 6,
      "outputs": [
        {
          "output_type": "stream",
          "name": "stdout",
          "text": [
            "Drive already mounted at /content/drive; to attempt to forcibly remount, call drive.mount(\"/content/drive\", force_remount=True).\n"
          ]
        }
      ]
    },
    {
      "cell_type": "code",
      "source": [
        "import zipfile\n",
        "\n",
        "# Path to the zipped data in Drive\n",
        "zip_file_path = '/content/drive/My Drive/UvA/M Thesis/Data/fish_mock_sample.zip'\n",
        "\n",
        "# Directory to extract the contents\n",
        "extract_dir = '/content/'\n",
        "\n",
        "# Create the extract directory if it does not yet exist\n",
        "import os\n",
        "os.makedirs(extract_dir, exist_ok=True)\n",
        "\n",
        "# Extract the contents of the zip file\n",
        "with zipfile.ZipFile(zip_file_path, 'r') as zip_ref:\n",
        "    zip_ref.extractall(extract_dir)"
      ],
      "metadata": {
        "id": "X3c3XfFEZts5"
      },
      "execution_count": 3,
      "outputs": []
    },
    {
      "cell_type": "code",
      "source": [
        "# Importing any additional modules.\n",
        "\n",
        "import shutil\n",
        "\n",
        "module_files = ['frame_selection.py']\n",
        "\n",
        "for module in module_files:\n",
        "  # Path to the .py file in your Google Drive\n",
        "  source_file_path = f'/content/drive/My Drive/UvA/M Thesis/Modules/{module}'\n",
        "\n",
        "  # Destination path.\n",
        "  destination_file_path = f'/content/{module}'\n",
        "\n",
        "  # Copy the file from Google Drive to the content folder\n",
        "  shutil.copy(source_file_path, destination_file_path)\n",
        "\n",
        "  # Verify that the file has been copied\n",
        "  print(f\"File copied from '{source_file_path}' to '{destination_file_path}'.\")"
      ],
      "metadata": {
        "colab": {
          "base_uri": "https://localhost:8080/"
        },
        "id": "aO6KKjKNa7ZA",
        "outputId": "68376e52-17f7-4362-817e-b1d9f2b78fe8"
      },
      "execution_count": 7,
      "outputs": [
        {
          "output_type": "stream",
          "name": "stdout",
          "text": [
            "File copied from '/content/drive/My Drive/UvA/M Thesis/Modules/frame_selection.py' to '/content/frame_selection.py'.\n"
          ]
        }
      ]
    },
    {
      "cell_type": "markdown",
      "source": [
        "## Classification pipeline"
      ],
      "metadata": {
        "id": "ndRJNHBIVWwI"
      }
    },
    {
      "cell_type": "code",
      "source": [
        "from frame_selection import count_frames, calculate_ssim, select_frames_ssim, select_frames_evenly\n",
        "import os\n",
        "import numpy as np\n",
        "import torch\n",
        "from torch.utils.data import Dataset, DataLoader\n",
        "import torchvision.transforms as T\n",
        "from sklearn.linear_model import LogisticRegression\n",
        "from sklearn.model_selection import train_test_split\n",
        "from sklearn.preprocessing import StandardScaler\n",
        "from PIL import Image"
      ],
      "metadata": {
        "id": "Eb8H5StnVZJb"
      },
      "execution_count": 8,
      "outputs": []
    },
    {
      "cell_type": "code",
      "source": [
        "# Loading the DINOv2 model\n",
        "lvm = torch.hub.load('facebookresearch/dinov2', 'dinov2_vits14')"
      ],
      "metadata": {
        "colab": {
          "base_uri": "https://localhost:8080/"
        },
        "id": "ixjS-QjOWCzk",
        "outputId": "94683e25-988c-4b45-a054-a78c57ccd72c"
      },
      "execution_count": 9,
      "outputs": [
        {
          "output_type": "stream",
          "name": "stderr",
          "text": [
            "Downloading: \"https://github.com/facebookresearch/dinov2/zipball/main\" to /root/.cache/torch/hub/main.zip\n",
            "/root/.cache/torch/hub/facebookresearch_dinov2_main/dinov2/layers/swiglu_ffn.py:51: UserWarning: xFormers is not available (SwiGLU)\n",
            "  warnings.warn(\"xFormers is not available (SwiGLU)\")\n",
            "/root/.cache/torch/hub/facebookresearch_dinov2_main/dinov2/layers/attention.py:33: UserWarning: xFormers is not available (Attention)\n",
            "  warnings.warn(\"xFormers is not available (Attention)\")\n",
            "/root/.cache/torch/hub/facebookresearch_dinov2_main/dinov2/layers/block.py:40: UserWarning: xFormers is not available (Block)\n",
            "  warnings.warn(\"xFormers is not available (Block)\")\n",
            "Downloading: \"https://dl.fbaipublicfiles.com/dinov2/dinov2_vits14/dinov2_vits14_pretrain.pth\" to /root/.cache/torch/hub/checkpoints/dinov2_vits14_pretrain.pth\n",
            "100%|██████████| 84.2M/84.2M [00:00<00:00, 122MB/s]\n"
          ]
        }
      ]
    },
    {
      "cell_type": "code",
      "source": [
        "from IPython.display import clear_output"
      ],
      "metadata": {
        "id": "1NavMgDasU6g"
      },
      "execution_count": 10,
      "outputs": []
    },
    {
      "cell_type": "code",
      "source": [
        "# Loading data.\n",
        "\n",
        "data_dir = \"fish_mock_sample\"\n",
        "\n",
        "# Set the type of frame selection here.\n",
        "frame_selection = select_frames_evenly\n",
        "\n",
        "videos = []\n",
        "labels = []\n",
        "\n",
        "# Automatically discover subfolders and use their names as labels\n",
        "label_folders = [f for f in os.listdir(data_dir) \\\n",
        "                 if os.path.isdir(os.path.join(data_dir, f))]\n",
        "\n",
        "nr_labels = len(label_folders)\n",
        "label_counter = 1\n",
        "\n",
        "for label_counter, label in enumerate(label_folders):\n",
        "    # Construct the path to the subfolder\n",
        "    subfolder_path = os.path.join(data_dir, label)\n",
        "\n",
        "    nr_videos = len(os.listdir(subfolder_path))\n",
        "\n",
        "    for video_counter, video_filename in enumerate(os.listdir(subfolder_path)):\n",
        "        clear_output(wait=True)\n",
        "        print(f'Processing label {label_counter+1} / {nr_labels}')\n",
        "        print(f'Processing video {video_counter+1} / {nr_videos}')\n",
        "\n",
        "        video_path = os.path.join(subfolder_path, video_filename)\n",
        "\n",
        "        video_output = frame_selection(video_path)\n",
        "\n",
        "        videos.append(video_output)\n",
        "        labels.append(label)\n",
        "\n",
        "clear_output(wait=True)\n",
        "print(f\"Processed {len(videos)} videos.\")"
      ],
      "metadata": {
        "colab": {
          "base_uri": "https://localhost:8080/"
        },
        "id": "2EnaJhY7iBQm",
        "outputId": "1c801fe5-99ac-4dd1-a547-c8c4f24ffe2c"
      },
      "execution_count": 32,
      "outputs": [
        {
          "output_type": "stream",
          "name": "stdout",
          "text": [
            "Processed 10 videos.\n"
          ]
        }
      ]
    },
    {
      "cell_type": "code",
      "source": [
        "# Saving the selected frames of each video in a separate list.\n",
        "# This is because frame selection methods return the frames AND the selected indices in a tuple.\n",
        "# Only the frames are needed in this pipeline.\n",
        "\n",
        "video_frames = [item[0] for item in videos]"
      ],
      "metadata": {
        "id": "CTIumjv1nQV5"
      },
      "execution_count": 12,
      "outputs": []
    },
    {
      "cell_type": "code",
      "source": [
        "# Defining functions for image handling and embedding.\n",
        "\n",
        "transform = T.Compose([\n",
        "    T.Resize(224),\n",
        "    T.CenterCrop(224),\n",
        "    T.ToTensor()\n",
        "    ])\n",
        "\n",
        "def generate_embeddings(frames, transform):\n",
        "    embeddings = []\n",
        "\n",
        "    for frame in frames:\n",
        "      img = transform(Image.fromarray(frame))[:3].unsqueeze(0)\n",
        "\n",
        "      with torch.no_grad():\n",
        "        embedding = lvm(img)[0]\n",
        "\n",
        "        embeddings.append(embedding.squeeze().numpy())\n",
        "\n",
        "    return np.concatenate(embeddings)"
      ],
      "metadata": {
        "id": "jpOWDbdqWqew"
      },
      "execution_count": 21,
      "outputs": []
    },
    {
      "cell_type": "code",
      "source": [
        "# Generating embeddings for each selected frame of each video.\n",
        "\n",
        "embedded_videos = []\n",
        "\n",
        "for frames in video_frames:\n",
        "  embedding = generate_embeddings(frames, transform)\n",
        "\n",
        "  embedded_videos.append(embedding)"
      ],
      "metadata": {
        "id": "rbMXfCAdjjaQ"
      },
      "execution_count": 22,
      "outputs": []
    },
    {
      "cell_type": "markdown",
      "source": [
        "### Training a simple classifier on the embeddings."
      ],
      "metadata": {
        "id": "GT0jApLvpsB3"
      }
    },
    {
      "cell_type": "code",
      "source": [
        "from sklearn.model_selection import train_test_split\n",
        "from sklearn.linear_model import LogisticRegression\n",
        "from sklearn.metrics import accuracy_score"
      ],
      "metadata": {
        "id": "KqCYnKLtdduS"
      },
      "execution_count": 23,
      "outputs": []
    },
    {
      "cell_type": "code",
      "source": [
        "# Split the data into training and testing sets.\n",
        "X_train, X_test, y_train, y_test = train_test_split(embedded_videos, labels, test_size=0.2, random_state=23)"
      ],
      "metadata": {
        "id": "CAgboauPdi8h"
      },
      "execution_count": 28,
      "outputs": []
    },
    {
      "cell_type": "code",
      "source": [
        "# Initialize and train the logistic regression classifier.\n",
        "classifier = LogisticRegression()\n",
        "classifier.fit(X_train, y_train)"
      ],
      "metadata": {
        "colab": {
          "base_uri": "https://localhost:8080/",
          "height": 74
        },
        "id": "mWDSqdsddsY9",
        "outputId": "a928e2d6-2c5d-4fe5-e7bf-a88b79c96327"
      },
      "execution_count": 29,
      "outputs": [
        {
          "output_type": "execute_result",
          "data": {
            "text/plain": [
              "LogisticRegression()"
            ],
            "text/html": [
              "<style>#sk-container-id-2 {color: black;background-color: white;}#sk-container-id-2 pre{padding: 0;}#sk-container-id-2 div.sk-toggleable {background-color: white;}#sk-container-id-2 label.sk-toggleable__label {cursor: pointer;display: block;width: 100%;margin-bottom: 0;padding: 0.3em;box-sizing: border-box;text-align: center;}#sk-container-id-2 label.sk-toggleable__label-arrow:before {content: \"▸\";float: left;margin-right: 0.25em;color: #696969;}#sk-container-id-2 label.sk-toggleable__label-arrow:hover:before {color: black;}#sk-container-id-2 div.sk-estimator:hover label.sk-toggleable__label-arrow:before {color: black;}#sk-container-id-2 div.sk-toggleable__content {max-height: 0;max-width: 0;overflow: hidden;text-align: left;background-color: #f0f8ff;}#sk-container-id-2 div.sk-toggleable__content pre {margin: 0.2em;color: black;border-radius: 0.25em;background-color: #f0f8ff;}#sk-container-id-2 input.sk-toggleable__control:checked~div.sk-toggleable__content {max-height: 200px;max-width: 100%;overflow: auto;}#sk-container-id-2 input.sk-toggleable__control:checked~label.sk-toggleable__label-arrow:before {content: \"▾\";}#sk-container-id-2 div.sk-estimator input.sk-toggleable__control:checked~label.sk-toggleable__label {background-color: #d4ebff;}#sk-container-id-2 div.sk-label input.sk-toggleable__control:checked~label.sk-toggleable__label {background-color: #d4ebff;}#sk-container-id-2 input.sk-hidden--visually {border: 0;clip: rect(1px 1px 1px 1px);clip: rect(1px, 1px, 1px, 1px);height: 1px;margin: -1px;overflow: hidden;padding: 0;position: absolute;width: 1px;}#sk-container-id-2 div.sk-estimator {font-family: monospace;background-color: #f0f8ff;border: 1px dotted black;border-radius: 0.25em;box-sizing: border-box;margin-bottom: 0.5em;}#sk-container-id-2 div.sk-estimator:hover {background-color: #d4ebff;}#sk-container-id-2 div.sk-parallel-item::after {content: \"\";width: 100%;border-bottom: 1px solid gray;flex-grow: 1;}#sk-container-id-2 div.sk-label:hover label.sk-toggleable__label {background-color: #d4ebff;}#sk-container-id-2 div.sk-serial::before {content: \"\";position: absolute;border-left: 1px solid gray;box-sizing: border-box;top: 0;bottom: 0;left: 50%;z-index: 0;}#sk-container-id-2 div.sk-serial {display: flex;flex-direction: column;align-items: center;background-color: white;padding-right: 0.2em;padding-left: 0.2em;position: relative;}#sk-container-id-2 div.sk-item {position: relative;z-index: 1;}#sk-container-id-2 div.sk-parallel {display: flex;align-items: stretch;justify-content: center;background-color: white;position: relative;}#sk-container-id-2 div.sk-item::before, #sk-container-id-2 div.sk-parallel-item::before {content: \"\";position: absolute;border-left: 1px solid gray;box-sizing: border-box;top: 0;bottom: 0;left: 50%;z-index: -1;}#sk-container-id-2 div.sk-parallel-item {display: flex;flex-direction: column;z-index: 1;position: relative;background-color: white;}#sk-container-id-2 div.sk-parallel-item:first-child::after {align-self: flex-end;width: 50%;}#sk-container-id-2 div.sk-parallel-item:last-child::after {align-self: flex-start;width: 50%;}#sk-container-id-2 div.sk-parallel-item:only-child::after {width: 0;}#sk-container-id-2 div.sk-dashed-wrapped {border: 1px dashed gray;margin: 0 0.4em 0.5em 0.4em;box-sizing: border-box;padding-bottom: 0.4em;background-color: white;}#sk-container-id-2 div.sk-label label {font-family: monospace;font-weight: bold;display: inline-block;line-height: 1.2em;}#sk-container-id-2 div.sk-label-container {text-align: center;}#sk-container-id-2 div.sk-container {/* jupyter's `normalize.less` sets `[hidden] { display: none; }` but bootstrap.min.css set `[hidden] { display: none !important; }` so we also need the `!important` here to be able to override the default hidden behavior on the sphinx rendered scikit-learn.org. See: https://github.com/scikit-learn/scikit-learn/issues/21755 */display: inline-block !important;position: relative;}#sk-container-id-2 div.sk-text-repr-fallback {display: none;}</style><div id=\"sk-container-id-2\" class=\"sk-top-container\"><div class=\"sk-text-repr-fallback\"><pre>LogisticRegression()</pre><b>In a Jupyter environment, please rerun this cell to show the HTML representation or trust the notebook. <br />On GitHub, the HTML representation is unable to render, please try loading this page with nbviewer.org.</b></div><div class=\"sk-container\" hidden><div class=\"sk-item\"><div class=\"sk-estimator sk-toggleable\"><input class=\"sk-toggleable__control sk-hidden--visually\" id=\"sk-estimator-id-2\" type=\"checkbox\" checked><label for=\"sk-estimator-id-2\" class=\"sk-toggleable__label sk-toggleable__label-arrow\">LogisticRegression</label><div class=\"sk-toggleable__content\"><pre>LogisticRegression()</pre></div></div></div></div></div>"
            ]
          },
          "metadata": {},
          "execution_count": 29
        }
      ]
    },
    {
      "cell_type": "code",
      "source": [
        "# Make predictions on the test set.\n",
        "y_pred = classifier.predict(X_test)"
      ],
      "metadata": {
        "id": "OvV8Rr2kdxtA"
      },
      "execution_count": 30,
      "outputs": []
    },
    {
      "cell_type": "code",
      "source": [
        "# Calculate accuracy.\n",
        "accuracy = accuracy_score(y_test, y_pred)\n",
        "print(\"Accuracy:\", accuracy)"
      ],
      "metadata": {
        "colab": {
          "base_uri": "https://localhost:8080/"
        },
        "id": "6gRYWlCzdzBk",
        "outputId": "47ebc561-3fc8-4a3a-f1fa-d5a4997f3bc3"
      },
      "execution_count": 31,
      "outputs": [
        {
          "output_type": "stream",
          "name": "stdout",
          "text": [
            "Accuracy: 0.5\n"
          ]
        }
      ]
    }
  ]
}