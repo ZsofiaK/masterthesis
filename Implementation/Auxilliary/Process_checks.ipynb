{
  "nbformat": 4,
  "nbformat_minor": 0,
  "metadata": {
    "colab": {
      "provenance": [],
      "authorship_tag": "ABX9TyMt+C/zMRzkM44AFHDHGetb",
      "include_colab_link": true
    },
    "kernelspec": {
      "name": "python3",
      "display_name": "Python 3"
    },
    "language_info": {
      "name": "python"
    }
  },
  "cells": [
    {
      "cell_type": "markdown",
      "metadata": {
        "id": "view-in-github",
        "colab_type": "text"
      },
      "source": [
        "<a href=\"https://colab.research.google.com/github/ZsofiaK/masterthesis/blob/main/Implementation/Auxilliary/Process_checks.ipynb\" target=\"_parent\"><img src=\"https://colab.research.google.com/assets/colab-badge.svg\" alt=\"Open In Colab\"/></a>"
      ]
    },
    {
      "cell_type": "markdown",
      "source": [
        "# Checking process correctness for some thesis elements"
      ],
      "metadata": {
        "id": "KMzgnZom5nXA"
      }
    },
    {
      "cell_type": "markdown",
      "source": [
        "## Checking AK fish embeddings"
      ],
      "metadata": {
        "id": "iFEfhGCj5tlu"
      }
    },
    {
      "cell_type": "code",
      "execution_count": 1,
      "metadata": {
        "id": "e-TSRWOT5ioa"
      },
      "outputs": [],
      "source": [
        "vitg14_embedding_dir = '/content/drive/MyDrive/UvA/M Thesis/Data/AK fish/Embeddings/dinov2-vitg14-clf/448'\n",
        "vitg14_reg_embedding_dir = '/content/drive/MyDrive/UvA/M Thesis/Data/AK fish/Embeddings/dinov2-vitg14-reg-clf/448'"
      ]
    },
    {
      "cell_type": "code",
      "source": [
        "# Mount Drive.\n",
        "from google.colab import drive\n",
        "\n",
        "drive.mount('/content/drive')"
      ],
      "metadata": {
        "colab": {
          "base_uri": "https://localhost:8080/"
        },
        "id": "HHna61Yg6L7b",
        "outputId": "3371b8a5-b373-4ae0-8268-2d3e7d6374c9"
      },
      "execution_count": 2,
      "outputs": [
        {
          "output_type": "stream",
          "name": "stdout",
          "text": [
            "Mounted at /content/drive\n"
          ]
        }
      ]
    },
    {
      "cell_type": "code",
      "source": [
        "import os\n",
        "\n",
        "print('Number of videos embedded with vitg14:', len(os.listdir(vitg14_embedding_dir)))\n",
        "print('Number of videos embedded with vitg14-reg:', len(os.listdir(vitg14_reg_embedding_dir)))"
      ],
      "metadata": {
        "colab": {
          "base_uri": "https://localhost:8080/"
        },
        "id": "2lPdP0zu6P-8",
        "outputId": "c9043614-d544-41d2-b8fc-fa36d998e49a"
      },
      "execution_count": 8,
      "outputs": [
        {
          "output_type": "stream",
          "name": "stdout",
          "text": [
            "Number of videos embedded with vitg14: 887\n",
            "Number of videos embedded with vitg14-reg: 397\n"
          ]
        }
      ]
    },
    {
      "cell_type": "code",
      "source": [
        "# Check if embeddings in two directories are the same.\n",
        "import numpy as np\n",
        "from IPython.display import clear_output\n",
        "\n",
        "progress = 0\n",
        "nr_videos = len(os.listdir(vitg14_reg_embedding_dir))\n",
        "\n",
        "unequal = []\n",
        "not_found = []\n",
        "\n",
        "missing_embeddings = []\n",
        "\n",
        "for video in os.listdir(vitg14_reg_embedding_dir):\n",
        "  video_vitg14_reg_dir = f'{vitg14_reg_embedding_dir}/{video}'\n",
        "  video_vitg14_dir = f'{vitg14_embedding_dir}/{video}'\n",
        "\n",
        "  progress += 1\n",
        "  clear_output(wait=True)\n",
        "  print(f'Progress: {progress/nr_videos * 100:.2f}%')\n",
        "\n",
        "  if len(os.listdir(video_vitg14_reg_dir)) < 10:\n",
        "    missing_embeddings.append((video, len(os.listdir(video_vitg14_reg_dir))))\n",
        "    continue\n",
        "\n",
        "  for embedding in os.listdir(video_vitg14_reg_dir):\n",
        "    vitg14_reg_embedding = np.load(f'{video_vitg14_reg_dir}/{embedding}')\n",
        "\n",
        "    try:\n",
        "      vitg14_embedding = np.load(f'{video_vitg14_dir}/{embedding}')\n",
        "\n",
        "      if not np.array_equal(vitg14_reg_embedding, vitg14_embedding):\n",
        "        unequal.append(embedding)\n",
        "\n",
        "    except:\n",
        "      not_found.append(embedding)"
      ],
      "metadata": {
        "colab": {
          "base_uri": "https://localhost:8080/"
        },
        "id": "jMfGLT4I6t8e",
        "outputId": "0dcc0001-24de-4721-fa1b-a96a8b73c74b"
      },
      "execution_count": 11,
      "outputs": [
        {
          "output_type": "stream",
          "name": "stdout",
          "text": [
            "Progress: 100.00%\n"
          ]
        }
      ]
    },
    {
      "cell_type": "code",
      "source": [
        "print('Number of unequal embeddings:', len(unequal))\n",
        "print('Number of not found embeddings:', len(not_found))\n",
        "print('Number of incomplete embeddings:', len(missing_embeddings))"
      ],
      "metadata": {
        "colab": {
          "base_uri": "https://localhost:8080/"
        },
        "id": "I7rR2JnyCkRk",
        "outputId": "5b604fed-4a4c-4e30-be6b-3b0c2cd18543"
      },
      "execution_count": 12,
      "outputs": [
        {
          "output_type": "stream",
          "name": "stdout",
          "text": [
            "Number of unequal embeddings: 0\n",
            "Number of not found embeddings: 0\n",
            "Number of incomplete embeddings: 3\n"
          ]
        }
      ]
    },
    {
      "cell_type": "code",
      "source": [
        "print('Incomplete embeddings in ViT-g14-reg:')\n",
        "for embedding in missing_embeddings:\n",
        "  print(embedding)"
      ],
      "metadata": {
        "colab": {
          "base_uri": "https://localhost:8080/"
        },
        "id": "pkiPgZyZHb2Q",
        "outputId": "225e51a7-6cea-4248-c57b-6e36c5e2943f"
      },
      "execution_count": 14,
      "outputs": [
        {
          "output_type": "stream",
          "name": "stdout",
          "text": [
            "Incomplete embeddings in ViT-g14-reg:\n",
            "('UVHZNUPH', 7)\n",
            "('SZPVDMHZ', 9)\n",
            "('KPKBAKGZ', 7)\n"
          ]
        }
      ]
    },
    {
      "cell_type": "code",
      "source": [
        "# Check if all embeddings are there in the ViT-g14 directory:\n",
        "missing_embeddings_vitg14 = []\n",
        "\n",
        "progress = 0\n",
        "nr_videos = len(os.listdir(vitg14_embedding_dir))\n",
        "\n",
        "for video in os.listdir(vitg14_embedding_dir):\n",
        "  video_dir = f'{vitg14_embedding_dir}/{video}'\n",
        "\n",
        "  embeddings = [file for file in os.listdir(video_dir) if file.endswith('.npy')]\n",
        "\n",
        "  if len(embeddings) < 10:\n",
        "    missing_embeddings_vitg14.append((video, len(embeddings)))\n",
        "\n",
        "  progress += 1\n",
        "  clear_output(wait=True)\n",
        "  print(f'Progress: {progress / nr_videos * 100:.2f}%')"
      ],
      "metadata": {
        "colab": {
          "base_uri": "https://localhost:8080/"
        },
        "id": "pp1-r0ZoIDDY",
        "outputId": "baaf59ac-df9f-4d1c-b834-435ce05b76c9"
      },
      "execution_count": 15,
      "outputs": [
        {
          "output_type": "stream",
          "name": "stdout",
          "text": [
            "Progress: 100.00%\n"
          ]
        }
      ]
    },
    {
      "cell_type": "code",
      "source": [
        "print('Incomplete embeddings in ViT-g14:')\n",
        "\n",
        "for embedding in missing_embeddings_vitg14:\n",
        "  print(embedding)\n",
        "\n",
        "print(f'Total of {sum([item[1] for item in missing_embeddings_vitg14])} embeddings missing.')"
      ],
      "metadata": {
        "colab": {
          "base_uri": "https://localhost:8080/"
        },
        "id": "Pu3xhV6RI4bJ",
        "outputId": "04edfa41-74fc-44b8-a4f4-3ce900c66866"
      },
      "execution_count": 17,
      "outputs": [
        {
          "output_type": "stream",
          "name": "stdout",
          "text": [
            "Incomplete embeddings in ViT-g14:\n",
            "('UVHZNUPH', 7)\n",
            "('SZPVDMHZ', 9)\n",
            "('QDSYAFGA', 4)\n",
            "('ISOMHLHH', 4)\n",
            "('XZTDNQCJ', 7)\n",
            "('BJECMPAB', 9)\n",
            "Total of 40 embeddings missing.\n"
          ]
        }
      ]
    },
    {
      "cell_type": "code",
      "source": [
        "# CONCLUSION: Remove vitg14-reg directory as it is the same as the other one but incomplete.\n",
        "# vitg14-clf directory will be renamed to vitg14-reg-clf.\n",
        "import shutil\n",
        "shutil.rmtree('/content/drive/MyDrive/UvA/M Thesis/Data/AK fish/Embeddings/dinov2-vitg14-reg-clf')"
      ],
      "metadata": {
        "id": "HFfDNw3nHmLi"
      },
      "execution_count": 22,
      "outputs": []
    },
    {
      "cell_type": "code",
      "source": [
        "# Check if directory has correct size.\n",
        "print('Number of DINOv2-vitG14 register embeddings:',\n",
        "      len(os.listdir(vitg14_reg_embedding_dir)))"
      ],
      "metadata": {
        "colab": {
          "base_uri": "https://localhost:8080/"
        },
        "id": "UAWZSQesKnws",
        "outputId": "cab76a9f-26cc-4651-bd07-cf782f543ddc"
      },
      "execution_count": 24,
      "outputs": [
        {
          "output_type": "stream",
          "name": "stdout",
          "text": [
            "Number of DINOv2-vitG14 register embeddings: 887\n"
          ]
        }
      ]
    }
  ]
}