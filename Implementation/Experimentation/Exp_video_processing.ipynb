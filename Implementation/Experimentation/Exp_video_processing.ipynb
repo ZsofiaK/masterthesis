{
  "nbformat": 4,
  "nbformat_minor": 0,
  "metadata": {
    "colab": {
      "provenance": [],
      "authorship_tag": "ABX9TyPhXDv5+8AshT+L+7Ihg4nk",
      "include_colab_link": true
    },
    "kernelspec": {
      "name": "python3",
      "display_name": "Python 3"
    },
    "language_info": {
      "name": "python"
    }
  },
  "cells": [
    {
      "cell_type": "markdown",
      "metadata": {
        "id": "view-in-github",
        "colab_type": "text"
      },
      "source": [
        "<a href=\"https://colab.research.google.com/github/ZsofiaK/masterthesis/blob/main/Implementation/Experimentation/Exp_video_processing.ipynb\" target=\"_parent\"><img src=\"https://colab.research.google.com/assets/colab-badge.svg\" alt=\"Open In Colab\"/></a>"
      ]
    },
    {
      "cell_type": "markdown",
      "source": [
        "# Experimenting with video processing"
      ],
      "metadata": {
        "id": "PzAdCd_luq40"
      }
    },
    {
      "cell_type": "markdown",
      "source": [
        "## Importing data and modules."
      ],
      "metadata": {
        "id": "vFEBws_SuydN"
      }
    },
    {
      "cell_type": "code",
      "execution_count": null,
      "metadata": {
        "colab": {
          "base_uri": "https://localhost:8080/"
        },
        "id": "8uQewbbeuqDL",
        "outputId": "d3615dc4-a0ed-4b8d-bffd-af08dc26579d"
      },
      "outputs": [
        {
          "output_type": "stream",
          "name": "stdout",
          "text": [
            "Mounted at /content/drive\n"
          ]
        }
      ],
      "source": [
        "from google.colab import drive\n",
        "drive.mount('/content/drive')"
      ]
    },
    {
      "cell_type": "code",
      "source": [
        "# Importing sample video.\n",
        "import shutil\n",
        "\n",
        "filename = 'extracted_clip_21.MP4'\n",
        "\n",
        "source_file_path = f'/content/drive/My Drive/UvA/M Thesis/Data/Fish data/{filename}'\n",
        "\n",
        "# Destination path.\n",
        "destination_file_path = f'/content/{filename}'\n",
        "\n",
        "# Copy the file from Google Drive to the content folder\n",
        "shutil.copy(source_file_path, destination_file_path)\n",
        "\n",
        "# Verify that the file has been copied\n",
        "print(f\"File copied from '{source_file_path}' to '{destination_file_path}'.\")"
      ],
      "metadata": {
        "colab": {
          "base_uri": "https://localhost:8080/"
        },
        "id": "Bv8F3xb2vDZ4",
        "outputId": "659ec757-a87e-4e57-dd90-660f0daed079"
      },
      "execution_count": null,
      "outputs": [
        {
          "output_type": "stream",
          "name": "stdout",
          "text": [
            "File copied from '/content/drive/My Drive/UvA/M Thesis/Data/Fish data/extracted_clip_21.MP4' to '/content/extracted_clip_21.MP4'.\n"
          ]
        }
      ]
    },
    {
      "cell_type": "code",
      "source": [
        "# Importing any additional modules.\n",
        "module_files = ['video_processing.py']\n",
        "\n",
        "for module in module_files:\n",
        "  # Path to the .py file in your Google Drive\n",
        "  source_file_path = f'/content/drive/My Drive/UvA/M Thesis/Modules/{module}'\n",
        "\n",
        "  # Destination path.\n",
        "  destination_file_path = f'/content/{module}'\n",
        "\n",
        "  # Copy the file from Google Drive to the content folder\n",
        "  shutil.copy(source_file_path, destination_file_path)\n",
        "\n",
        "  # Verify that the file has been copied\n",
        "  print(f\"File copied from '{source_file_path}' to '{destination_file_path}'.\")"
      ],
      "metadata": {
        "colab": {
          "base_uri": "https://localhost:8080/"
        },
        "id": "XGIcWkJyu5DF",
        "outputId": "c120ef9a-d79a-482e-fbf1-7be3f8517d0a"
      },
      "execution_count": null,
      "outputs": [
        {
          "output_type": "stream",
          "name": "stdout",
          "text": [
            "File copied from '/content/drive/My Drive/UvA/M Thesis/Modules/video_processing.py' to '/content/video_processing.py'.\n"
          ]
        }
      ]
    },
    {
      "cell_type": "markdown",
      "source": [
        "## Processing video."
      ],
      "metadata": {
        "id": "ofBEj3x3vf-C"
      }
    },
    {
      "cell_type": "code",
      "source": [
        "import cv2\n",
        "import numpy as np\n",
        "from video_processing import get_frames, separate_to_clips"
      ],
      "metadata": {
        "id": "kZmm30Erviip"
      },
      "execution_count": 1,
      "outputs": []
    },
    {
      "cell_type": "code",
      "source": [
        "video_path = '/content/extracted_clip_21.MP4'\n",
        "\n",
        "video_cap = cv2.VideoCapture(video_path)"
      ],
      "metadata": {
        "id": "UWcaUKq1xOFW"
      },
      "execution_count": 2,
      "outputs": []
    },
    {
      "cell_type": "code",
      "source": [
        "video_frames = get_frames(video_cap)\n",
        "\n",
        "print(f'There are {len(video_frames)} frames in the sample video.')"
      ],
      "metadata": {
        "colab": {
          "base_uri": "https://localhost:8080/"
        },
        "id": "GFT8P7mLwevE",
        "outputId": "07513aff-6934-46c3-a41a-322b21501af4"
      },
      "execution_count": 3,
      "outputs": [
        {
          "output_type": "stream",
          "name": "stdout",
          "text": [
            "There are 1199 frames in the sample video.\n"
          ]
        }
      ]
    },
    {
      "cell_type": "code",
      "source": [
        "seconds = 1\n",
        "\n",
        "fps = int(video_cap.get(cv2.CAP_PROP_FPS))\n",
        "\n",
        "clips = separate_to_clips(video_frames, seconds=seconds, fps=fps)\n",
        "\n",
        "print(f'There are {len(clips)} clips in the video, each {seconds} s long and consisting of {len(clips[0])} frames.')\n",
        "print(f'The clips contain a total of {len(clips) * len(clips[0])} frames out of the original {len(video_frames)}.')"
      ],
      "metadata": {
        "colab": {
          "base_uri": "https://localhost:8080/"
        },
        "id": "7iLrl0vF47mh",
        "outputId": "79ebf198-08fb-4883-83f6-2e9d3ad61558"
      },
      "execution_count": 6,
      "outputs": [
        {
          "output_type": "stream",
          "name": "stdout",
          "text": [
            "Warning: 64 frames will be discarded at the beginning of video.\n",
            "Warning: 64 frames will be discarded at the end of video.\n",
            "\n",
            "There are 9 clips in the video, each 1 s long and consisting of 119 frames.\n",
            "The clips contain a total of 1071 frames out of the original 1199.\n"
          ]
        }
      ]
    }
  ]
}