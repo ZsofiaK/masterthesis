{
  "nbformat": 4,
  "nbformat_minor": 0,
  "metadata": {
    "colab": {
      "provenance": [],
      "authorship_tag": "ABX9TyPm70OuUneisP9kgAKf6IMm",
      "include_colab_link": true
    },
    "kernelspec": {
      "name": "python3",
      "display_name": "Python 3"
    },
    "language_info": {
      "name": "python"
    }
  },
  "cells": [
    {
      "cell_type": "markdown",
      "metadata": {
        "id": "view-in-github",
        "colab_type": "text"
      },
      "source": [
        "<a href=\"https://colab.research.google.com/github/ZsofiaK/masterthesis/blob/main/Implementation/Pipeline/Frame_selection.ipynb\" target=\"_parent\"><img src=\"https://colab.research.google.com/assets/colab-badge.svg\" alt=\"Open In Colab\"/></a>"
      ]
    },
    {
      "cell_type": "markdown",
      "source": [
        "# Saving selected frame indices\n",
        "\n",
        "This is an auxilliary notebook which saves the selected frame indices for videos to be read later in the classification pipeline."
      ],
      "metadata": {
        "id": "K2NeqN5fNfrr"
      }
    },
    {
      "cell_type": "code",
      "source": [
        "# Mount drive.\n",
        "\n",
        "from google.colab import drive\n",
        "\n",
        "drive.mount('/content/drive')"
      ],
      "metadata": {
        "colab": {
          "base_uri": "https://localhost:8080/"
        },
        "id": "RY3PxVH_Pa-5",
        "outputId": "61a5a24e-5ac3-499f-c8be-828854794b42"
      },
      "execution_count": 1,
      "outputs": [
        {
          "output_type": "stream",
          "name": "stdout",
          "text": [
            "Mounted at /content/drive\n"
          ]
        }
      ]
    },
    {
      "cell_type": "code",
      "source": [
        "# Copy necessary modules.\n",
        "\n",
        "import shutil\n",
        "\n",
        "module_files = ['frame_selection.py']\n",
        "\n",
        "for module in module_files:\n",
        "  # Path to the .py file in your Google Drive\n",
        "  source_file_path = f'/content/drive/My Drive/UvA/M Thesis/Modules/{module}'\n",
        "\n",
        "  # Destination path.\n",
        "  destination_file_path = f'/content/{module}'\n",
        "\n",
        "  # Copy the file from Google Drive to the content folder\n",
        "  shutil.copy(source_file_path, destination_file_path)"
      ],
      "metadata": {
        "id": "XkQiJpRCU-rt"
      },
      "execution_count": 2,
      "outputs": []
    },
    {
      "cell_type": "code",
      "source": [
        "# Copy dataset\n",
        "\n",
        "data_source = \"/content/drive/My Drive/UvA/M Thesis/Data/Fish clips\"\n",
        "data_dir = \"/content/Fish clips\"\n",
        "\n",
        "# Copy the folder to destination\n",
        "shutil.copytree(data_source, data_dir)"
      ],
      "metadata": {
        "colab": {
          "base_uri": "https://localhost:8080/",
          "height": 35
        },
        "id": "enfLw15_Q63q",
        "outputId": "d8ab6c3a-bdd4-4e67-92a6-9c6612e83847"
      },
      "execution_count": 3,
      "outputs": [
        {
          "output_type": "execute_result",
          "data": {
            "text/plain": [
              "'/content/Fish clips'"
            ],
            "application/vnd.google.colaboratory.intrinsic+json": {
              "type": "string"
            }
          },
          "metadata": {},
          "execution_count": 3
        }
      ]
    },
    {
      "cell_type": "code",
      "source": [
        "import frame_selection\n",
        "\n",
        "# Set up dictionaries for later ease of use.\n",
        "selection_methods = {'evenly' : frame_selection.select_frames_evenly}\n",
        "\n",
        "dataset_directories = {'fishClips' : 'Fish clips'}"
      ],
      "metadata": {
        "id": "nvw-vgVUOTcP"
      },
      "execution_count": 4,
      "outputs": []
    },
    {
      "cell_type": "code",
      "execution_count": 5,
      "metadata": {
        "id": "CmSNWoctNeNt"
      },
      "outputs": [],
      "source": [
        "# Set the desired frame selection specifics and dataset name here.\n",
        "\n",
        "selection_name = 'evenly'\n",
        "\n",
        "nr_frames = 10\n",
        "\n",
        "dataset_name = 'fishClips'"
      ]
    },
    {
      "cell_type": "code",
      "source": [
        "import os\n",
        "\n",
        "selection = selection_methods[selection_name]\n",
        "\n",
        "output_name = f'{dataset_name}_{selection_name}_{str(nr_frames)}'\n",
        "\n",
        "output_folder = f'/content/Output'\n",
        "\n",
        "os.makedirs(output_folder, exist_ok=True)"
      ],
      "metadata": {
        "id": "ZXdSmDC3O94g"
      },
      "execution_count": 7,
      "outputs": []
    },
    {
      "cell_type": "code",
      "source": [
        "import pandas as pd\n",
        "from IPython.display import clear_output\n",
        "\n",
        "folder_path = f'{data_dir}/Clips'\n",
        "\n",
        "# Initialize a list to hold the data\n",
        "data = []\n",
        "\n",
        "files = os.listdir(folder_path)\n",
        "nr_files = len(files)\n",
        "\n",
        "for i, file in enumerate(files):\n",
        "    if file.lower().endswith('.mp4'):\n",
        "        video_path = os.path.join(folder_path, file)\n",
        "\n",
        "        frames = selection(video_path, nr_frames)\n",
        "\n",
        "        data.append({\"video\": file, \"frames\": frames})\n",
        "\n",
        "        clear_output(wait=True)\n",
        "        print(f'Number of videos: {nr_files}')\n",
        "        print(f'Progress: {(i + 1)/nr_files * 100:.2f}%')\n",
        "\n",
        "# Convert the data into a pandas DataFrame\n",
        "df = pd.DataFrame(data)\n",
        "\n",
        "# Save the DataFrame to a CSV file\n",
        "csv_file_path = f'{output_folder}/{output_name}.csv'\n",
        "\n",
        "df.to_csv(csv_file_path, index=False)\n"
      ],
      "metadata": {
        "colab": {
          "base_uri": "https://localhost:8080/"
        },
        "id": "O_9x3sJWTnbT",
        "outputId": "cf573391-e334-4feb-f37b-42b97e91ed4a"
      },
      "execution_count": 8,
      "outputs": [
        {
          "output_type": "stream",
          "name": "stdout",
          "text": [
            "Number of videos: 220\n",
            "Progress: 100.00%\n"
          ]
        }
      ]
    },
    {
      "cell_type": "code",
      "source": [
        "# Copy all output files to the appropriate Drive folders\n",
        "\n",
        "for file in os.listdir(output_folder):\n",
        "  output_file_path = os.path.join(output_folder, file)\n",
        "\n",
        "  data_name = file.split('_')[0]\n",
        "\n",
        "  data_dir_name = dataset_directories[data_name]\n",
        "\n",
        "  destination_file_path = f'/content/drive/My Drive/UvA/M Thesis/Data/{data_dir_name}/Selected frames'\n",
        "\n",
        "  shutil.copy(output_file_path, destination_file_path)"
      ],
      "metadata": {
        "id": "tP62itz0XT5G"
      },
      "execution_count": 9,
      "outputs": []
    }
  ]
}