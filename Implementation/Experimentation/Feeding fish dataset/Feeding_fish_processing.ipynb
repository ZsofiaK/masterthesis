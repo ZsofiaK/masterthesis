{
  "nbformat": 4,
  "nbformat_minor": 0,
  "metadata": {
    "colab": {
      "provenance": [],
      "authorship_tag": "ABX9TyNI2D9DURDr3DPCqgSRecf+",
      "include_colab_link": true
    },
    "kernelspec": {
      "name": "python3",
      "display_name": "Python 3"
    },
    "language_info": {
      "name": "python"
    }
  },
  "cells": [
    {
      "cell_type": "markdown",
      "metadata": {
        "id": "view-in-github",
        "colab_type": "text"
      },
      "source": [
        "<a href=\"https://colab.research.google.com/github/ZsofiaK/masterthesis/blob/main/Implementation/Experimentation/Feeding%20fish%20dataset/Feeding_fish_processing.ipynb\" target=\"_parent\"><img src=\"https://colab.research.google.com/assets/colab-badge.svg\" alt=\"Open In Colab\"/></a>"
      ]
    },
    {
      "cell_type": "markdown",
      "source": [
        "# Processing feeding fish dataset"
      ],
      "metadata": {
        "id": "egtqVfp1rAK4"
      }
    },
    {
      "cell_type": "markdown",
      "source": [
        "## Preliminaries"
      ],
      "metadata": {
        "id": "9SqO6rUDrExl"
      }
    },
    {
      "cell_type": "code",
      "execution_count": 1,
      "metadata": {
        "id": "noC7daubq1hi"
      },
      "outputs": [],
      "source": [
        "feeding_dir = '/content/drive/MyDrive/UvA/M Thesis/Data/Feeding fish'\n",
        "og_data_dir = f'{feeding_dir}/Original data'\n",
        "videos_dir = f'{og_data_dir}/Videos'\n",
        "annotations_dir = f'{og_data_dir}/Annotations'"
      ]
    },
    {
      "cell_type": "code",
      "source": [
        "# Mount Drive.\n",
        "from google.colab import drive\n",
        "\n",
        "drive.mount('/content/drive')"
      ],
      "metadata": {
        "colab": {
          "base_uri": "https://localhost:8080/"
        },
        "id": "d5MvsoXMrGAk",
        "outputId": "b008678c-c7a4-4baa-adde-4c5f54719fed"
      },
      "execution_count": 2,
      "outputs": [
        {
          "output_type": "stream",
          "name": "stdout",
          "text": [
            "Drive already mounted at /content/drive; to attempt to forcibly remount, call drive.mount(\"/content/drive\", force_remount=True).\n"
          ]
        }
      ]
    },
    {
      "cell_type": "markdown",
      "source": [
        "## Exploring the dataset"
      ],
      "metadata": {
        "id": "XpKe9Im6rC4R"
      }
    },
    {
      "cell_type": "markdown",
      "source": [
        "Counting the number of frames in each video and the length of feedings (in frames)"
      ],
      "metadata": {
        "id": "EIYXYFMJrzWr"
      }
    },
    {
      "cell_type": "code",
      "source": [
        "import os\n",
        "import numpy as np\n",
        "import matplotlib.pyplot as plt\n",
        "from IPython.display import clear_output\n",
        "\n",
        "# Initialize a list to keep track of the number of rows in each file\n",
        "video_lengths = []\n",
        "\n",
        "# Initialize a list to track consecutive ones\n",
        "feeding_lengths = []\n",
        "\n",
        "progress = 0\n",
        "nr_videos = len(os.listdir(annotations_dir))\n",
        "\n",
        "# Process each file in the directory\n",
        "for filename in os.listdir(annotations_dir):\n",
        "  if filename.endswith(\".txt\"):  # Check for text files\n",
        "    file_path = os.path.join(annotations_dir, filename)\n",
        "\n",
        "    # Read the annotation data from the file\n",
        "    data = np.loadtxt(file_path, dtype=int)\n",
        "\n",
        "    # Count the number of rows and add to the list\n",
        "    video_lengths.append(len(data))\n",
        "\n",
        "    # Find the length of feedings in given video\n",
        "    if data.size > 0:  # Ensure there is data in the file\n",
        "      # Compute boolean mask where fish is feeding\n",
        "      # (i.e., where the second column contains 1)\n",
        "      feeding = data[:,1] == 1\n",
        "\n",
        "      # Find consecutive runs of feeding frames\n",
        "      # Pad the boolean array to correctly handle the ends\n",
        "      padded = np.pad(feeding, (1, 1), 'constant', constant_values=False)\n",
        "\n",
        "      # Calculate diffs to identify edges of feeding runs\n",
        "      diff = np.diff(padded.astype(int))\n",
        "      feeding_starts = np.where(diff == 1)[0]\n",
        "      feeding_ends = np.where(diff == -1)[0]\n",
        "\n",
        "      # Lengths of feedings\n",
        "      feeding_lengths_in_video = feeding_ends - feeding_starts\n",
        "      feeding_lengths.extend(feeding_lengths_in_video)\n",
        "\n",
        "  progress += 1\n",
        "  clear_output(wait=True)\n",
        "  print(f'Progress: {progress / nr_videos * 100:.2f}%')"
      ],
      "metadata": {
        "id": "sh3m3W_srsZT",
        "colab": {
          "base_uri": "https://localhost:8080/"
        },
        "outputId": "4b558830-61a2-457a-8956-a43a241a6902"
      },
      "execution_count": 3,
      "outputs": [
        {
          "output_type": "stream",
          "name": "stdout",
          "text": [
            "Progress: 100.00%\n"
          ]
        }
      ]
    },
    {
      "cell_type": "code",
      "source": [
        "# Plot histogram of video lengths\n",
        "plt.hist(video_lengths, bins=20, color='navy')\n",
        "plt.title('Histogram of the Length of Videos')\n",
        "plt.xlabel('Number of frames')\n",
        "plt.ylabel('Frequency')"
      ],
      "metadata": {
        "colab": {
          "base_uri": "https://localhost:8080/",
          "height": 489
        },
        "id": "Aj4k6PIxuS7G",
        "outputId": "07e0dc11-6f35-4981-aa1a-6ff934cb36b2"
      },
      "execution_count": 4,
      "outputs": [
        {
          "output_type": "execute_result",
          "data": {
            "text/plain": [
              "Text(0, 0.5, 'Frequency')"
            ]
          },
          "metadata": {},
          "execution_count": 4
        },
        {
          "output_type": "display_data",
          "data": {
            "text/plain": [
              "<Figure size 640x480 with 1 Axes>"
            ],
            "image/png": "[encoded data removed]"
          },
          "metadata": {}
        }
      ]
    },
    {
      "cell_type": "code",
      "source": [
        "# Plot histogram of feeding lengths\n",
        "plt.hist(feeding_lengths, bins=10, color='navy')\n",
        "plt.title('Histogram of the Length of Feedings')\n",
        "plt.xlabel('Number of frames')\n",
        "plt.ylabel('Frequency')"
      ],
      "metadata": {
        "colab": {
          "base_uri": "https://localhost:8080/",
          "height": 489
        },
        "id": "SceCHqnLsryP",
        "outputId": "25d7266d-1f31-4fcb-92ce-c65dcdf4d056"
      },
      "execution_count": 5,
      "outputs": [
        {
          "output_type": "execute_result",
          "data": {
            "text/plain": [
              "Text(0, 0.5, 'Frequency')"
            ]
          },
          "metadata": {},
          "execution_count": 5
        },
        {
          "output_type": "display_data",
          "data": {
            "text/plain": [
              "<Figure size 640x480 with 1 Axes>"
            ],
            "image/png": "[encoded data removed]"
          },
          "metadata": {}
        }
      ]
    },
    {
      "cell_type": "code",
      "source": [
        "# Display exact number of feeding lengths\n",
        "from collections import Counter\n",
        "\n",
        "feeding_length_counter = Counter(feeding_lengths)\n",
        "\n",
        "print('Counter of feeding lengths')\n",
        "for length, count in feeding_length_counter.items():\n",
        "  print(length, 'frames:\\t', count)"
      ],
      "metadata": {
        "colab": {
          "base_uri": "https://localhost:8080/"
        },
        "id": "4NuKLW8Vx3OP",
        "outputId": "297f0083-c9db-4499-f422-5a5ccecffd68"
      },
      "execution_count": 6,
      "outputs": [
        {
          "output_type": "stream",
          "name": "stdout",
          "text": [
            "Counter of feeding lengths\n",
            "1 frames:\t 1663\n",
            "2 frames:\t 6\n"
          ]
        }
      ]
    },
    {
      "cell_type": "markdown",
      "source": [
        "## Save a list of frames and lables"
      ],
      "metadata": {
        "id": "lC7YcEVJPAMp"
      }
    },
    {
      "cell_type": "code",
      "source": [
        "# All annotations (text files in the annotations directory).\n",
        "all_videos = [file for file in os.listdir(annotations_dir) if file.endswith('.txt')]"
      ],
      "metadata": {
        "id": "vieeYLT0O_mV"
      },
      "execution_count": 7,
      "outputs": []
    },
    {
      "cell_type": "code",
      "source": [
        "# Find feeding frames\n",
        "positive_clips = []\n",
        "\n",
        "progress = 0\n",
        "nr_videos = len(all_videos)\n",
        "\n",
        "for filename in all_videos:\n",
        "  file_path = os.path.join(annotations_dir, filename)\n",
        "\n",
        "  data = np.loadtxt(file_path, dtype=int)\n",
        "\n",
        "  # Finding indices of frames where the fish is feeding.\n",
        "  feeding_indices = np.where(data[:,1] == 1)[0]\n",
        "\n",
        "  if feeding_indices.size > 0:    # If there were any feeding frames.\n",
        "    for index in feeding_indices:\n",
        "      positive_clips.append(\n",
        "          {\n",
        "              'video' : filename,\n",
        "              'frame' : index,\n",
        "              'label' : 1\n",
        "          }\n",
        "      )\n",
        "\n",
        "  progress += 1\n",
        "\n",
        "  clear_output(wait=True)\n",
        "  print(f'Progress: {progress/nr_videos*100:.2f}%')"
      ],
      "metadata": {
        "colab": {
          "base_uri": "https://localhost:8080/"
        },
        "id": "72bLl9p8PR3D",
        "outputId": "859da7fa-7549-4e37-cf28-2da61b8bad29"
      },
      "execution_count": 19,
      "outputs": [
        {
          "output_type": "stream",
          "name": "stdout",
          "text": [
            "Progress: 100.00%\n"
          ]
        }
      ]
    },
    {
      "cell_type": "code",
      "source": [
        "# Select an equally large sample of non-feeding frames.\n",
        "import random\n",
        "\n",
        "# Set seed for reproducability.\n",
        "random.seed(23)\n",
        "\n",
        "negative_clips = []\n",
        "\n",
        "nr_feeding_frames = len(positive_clips)\n",
        "\n",
        "# Take a random sample of videos (with resampling).\n",
        "sampled_videos = random.choices(all_videos, k=nr_feeding_frames)\n",
        "\n",
        "failed_videos = []\n",
        "\n",
        "progress = 0\n",
        "\n",
        "for video in sampled_videos:\n",
        "  failed = False\n",
        "\n",
        "  annotation = np.loadtxt(f'{annotations_dir}/{video}')\n",
        "\n",
        "  nr_frames = len(annotation)\n",
        "\n",
        "  selected_index = random.randint(0, nr_frames-1)\n",
        "\n",
        "  label = annotation[selected_index, 1]\n",
        "\n",
        "  frame_dict = {\n",
        "      'video' : video,\n",
        "      'frame' : selected_index,\n",
        "      'label' : label\n",
        "  }\n",
        "\n",
        "  tries = 0\n",
        "\n",
        "  # Check if frame is a feeding frame or if it has been selected before.\n",
        "  while label == 1 or frame_dict in negative_clips:\n",
        "    selected_index = random.randint(0, nr_frames-1)   # Select new frame.\n",
        "\n",
        "    label = annotation[selected_index, 1]\n",
        "\n",
        "    frame_dict = {\n",
        "        'video' : video,\n",
        "        'frame' : selected_index,\n",
        "        'label' : label\n",
        "    }\n",
        "\n",
        "    tries += 1\n",
        "\n",
        "    if tries >= 100:\n",
        "      failed = True\n",
        "      failed_videos.append((video, selected_index, label))\n",
        "      break\n",
        "\n",
        "  if not failed:\n",
        "    negative_clips.append(frame_dict)\n",
        "\n",
        "  progress += 1\n",
        "\n",
        "  clear_output(wait=True)\n",
        "  print(f'Progress: {progress/nr_feeding_frames*100:.2f}%')"
      ],
      "metadata": {
        "colab": {
          "base_uri": "https://localhost:8080/"
        },
        "id": "QL2918oQRMNE",
        "outputId": "e005c912-c25e-4617-bf05-47d8de4ba8a3"
      },
      "execution_count": 20,
      "outputs": [
        {
          "output_type": "stream",
          "name": "stdout",
          "text": [
            "Progress: 100.00%\n"
          ]
        }
      ]
    },
    {
      "cell_type": "code",
      "source": [
        "# Some samples might not be loaded as the selected videos can be too short to choose new frames from.\n",
        "# If the difference in positive and negative samples is not larger than 10%, this will be accepted.\n",
        "print(f'Number of negative samples which failed to load: {len(failed_videos)}')\n",
        "print(f'Ratio of positive to negative class size: {len(negative_clips)/len(positive_clips)*100:.2f}%')"
      ],
      "metadata": {
        "colab": {
          "base_uri": "https://localhost:8080/"
        },
        "id": "Gw0V3RXidfzO",
        "outputId": "7d940774-d819-4338-ba34-6a17d361d615"
      },
      "execution_count": 26,
      "outputs": [
        {
          "output_type": "stream",
          "name": "stdout",
          "text": [
            "Number of negative samples which failed to load: 2\n",
            "Ratio of positive to negative class size: 99.88%\n"
          ]
        }
      ]
    },
    {
      "cell_type": "code",
      "source": [
        "clips = positive_clips + negative_clips\n",
        "\n",
        "print('Total sample size:', len(clips))"
      ],
      "metadata": {
        "colab": {
          "base_uri": "https://localhost:8080/"
        },
        "id": "9vU9DMRYZXVY",
        "outputId": "a2fe474d-77ba-4b76-cdef-2273d1d12081"
      },
      "execution_count": 22,
      "outputs": [
        {
          "output_type": "stream",
          "name": "stdout",
          "text": [
            "Total sample size: 3348\n"
          ]
        }
      ]
    },
    {
      "cell_type": "code",
      "source": [
        "# Compile dataframe of selected sample.\n",
        "import pandas as pd\n",
        "\n",
        "clips_df = pd.DataFrame(clips)\n",
        "\n",
        "clips_df.head()"
      ],
      "metadata": {
        "colab": {
          "base_uri": "https://localhost:8080/",
          "height": 204
        },
        "id": "me3Ni6ChUhtI",
        "outputId": "27f1c8d3-ffa9-4202-a4d9-6c40701e5193"
      },
      "execution_count": 23,
      "outputs": [
        {
          "output_type": "execute_result",
          "data": {
            "text/plain": [
              "                                      video  frame  label\n",
              "0  tracked_fish_clip_2_Jan_11_track_609.txt    780    1.0\n",
              "1  tracked_fish_clip_2_Jan_11_track_593.txt    207    1.0\n",
              "2  tracked_fish_clip_2_Jan_11_track_593.txt    258    1.0\n",
              "3  tracked_fish_clip_2_Jan_11_track_593.txt    380    1.0\n",
              "4  tracked_fish_clip_2_Jan_11_track_593.txt    500    1.0"
            ],
            "text/html": [
              "\n",
              "  <div id=\"df-35e862f6-94d6-4ac1-b7ee-d70728402e26\" class=\"colab-df-container\">\n",
              "    <div>\n",
              "<style scoped>\n",
              "    .dataframe tbody tr th:only-of-type {\n",
              "        vertical-align: middle;\n",
              "    }\n",
              "\n",
              "    .dataframe tbody tr th {\n",
              "        vertical-align: top;\n",
              "    }\n",
              "\n",
              "    .dataframe thead th {\n",
              "        text-align: right;\n",
              "    }\n",
              "</style>\n",
              "<table border=\"1\" class=\"dataframe\">\n",
              "  <thead>\n",
              "    <tr style=\"text-align: right;\">\n",
              "      <th></th>\n",
              "      <th>video</th>\n",
              "      <th>frame</th>\n",
              "      <th>label</th>\n",
              "    </tr>\n",
              "  </thead>\n",
              "  <tbody>\n",
              "    <tr>\n",
              "      <th>0</th>\n",
              "      <td>tracked_fish_clip_2_Jan_11_track_609.txt</td>\n",
              "      <td>780</td>\n",
              "      <td>1.0</td>\n",
              "    </tr>\n",
              "    <tr>\n",
              "      <th>1</th>\n",
              "      <td>tracked_fish_clip_2_Jan_11_track_593.txt</td>\n",
              "      <td>207</td>\n",
              "      <td>1.0</td>\n",
              "    </tr>\n",
              "    <tr>\n",
              "      <th>2</th>\n",
              "      <td>tracked_fish_clip_2_Jan_11_track_593.txt</td>\n",
              "      <td>258</td>\n",
              "      <td>1.0</td>\n",
              "    </tr>\n",
              "    <tr>\n",
              "      <th>3</th>\n",
              "      <td>tracked_fish_clip_2_Jan_11_track_593.txt</td>\n",
              "      <td>380</td>\n",
              "      <td>1.0</td>\n",
              "    </tr>\n",
              "    <tr>\n",
              "      <th>4</th>\n",
              "      <td>tracked_fish_clip_2_Jan_11_track_593.txt</td>\n",
              "      <td>500</td>\n",
              "      <td>1.0</td>\n",
              "    </tr>\n",
              "  </tbody>\n",
              "</table>\n",
              "</div>\n",
              "    <div class=\"colab-df-buttons\">\n",
              "\n",
              "  <div class=\"colab-df-container\">\n",
              "    <button class=\"colab-df-convert\" onclick=\"convertToInteractive('df-35e862f6-94d6-4ac1-b7ee-d70728402e26')\"\n",
              "            title=\"Convert this dataframe to an interactive table.\"\n",
              "            style=\"display:none;\">\n",
              "\n",
              "  <svg xmlns=\"http://www.w3.org/2000/svg\" height=\"24px\" viewBox=\"0 -960 960 960\">\n",
              "    <path d=\"M120-120v-720h720v720H120Zm60-500h600v-160H180v160Zm220 220h160v-160H400v160Zm0 220h160v-160H400v160ZM180-400h160v-160H180v160Zm440 0h160v-160H620v160ZM180-180h160v-160H180v160Zm440 0h160v-160H620v160Z\"/>\n",
              "  </svg>\n",
              "    </button>\n",
              "\n",
              "  <style>\n",
              "    .colab-df-container {\n",
              "      display:flex;\n",
              "      gap: 12px;\n",
              "    }\n",
              "\n",
              "    .colab-df-convert {\n",
              "      background-color: #E8F0FE;\n",
              "      border: none;\n",
              "      border-radius: 50%;\n",
              "      cursor: pointer;\n",
              "      display: none;\n",
              "      fill: #1967D2;\n",
              "      height: 32px;\n",
              "      padding: 0 0 0 0;\n",
              "      width: 32px;\n",
              "    }\n",
              "\n",
              "    .colab-df-convert:hover {\n",
              "      background-color: #E2EBFA;\n",
              "      box-shadow: 0px 1px 2px rgba(60, 64, 67, 0.3), 0px 1px 3px 1px rgba(60, 64, 67, 0.15);\n",
              "      fill: #174EA6;\n",
              "    }\n",
              "\n",
              "    .colab-df-buttons div {\n",
              "      margin-bottom: 4px;\n",
              "    }\n",
              "\n",
              "    [theme=dark] .colab-df-convert {\n",
              "      background-color: #3B4455;\n",
              "      fill: #D2E3FC;\n",
              "    }\n",
              "\n",
              "    [theme=dark] .colab-df-convert:hover {\n",
              "      background-color: #434B5C;\n",
              "      box-shadow: 0px 1px 3px 1px rgba(0, 0, 0, 0.15);\n",
              "      filter: drop-shadow(0px 1px 2px rgba(0, 0, 0, 0.3));\n",
              "      fill: #FFFFFF;\n",
              "    }\n",
              "  </style>\n",
              "\n",
              "    <script>\n",
              "      const buttonEl =\n",
              "        document.querySelector('#df-35e862f6-94d6-4ac1-b7ee-d70728402e26 button.colab-df-convert');\n",
              "      buttonEl.style.display =\n",
              "        google.colab.kernel.accessAllowed ? 'block' : 'none';\n",
              "\n",
              "      async function convertToInteractive(key) {\n",
              "        const element = document.querySelector('#df-35e862f6-94d6-4ac1-b7ee-d70728402e26');\n",
              "        const dataTable =\n",
              "          await google.colab.kernel.invokeFunction('convertToInteractive',\n",
              "                                                    [key], {});\n",
              "        if (!dataTable) return;\n",
              "\n",
              "        const docLinkHtml = 'Like what you see? Visit the ' +\n",
              "          '<a target=\"_blank\" href=https://colab.research.google.com/notebooks/data_table.ipynb>data table notebook</a>'\n",
              "          + ' to learn more about interactive tables.';\n",
              "        element.innerHTML = '';\n",
              "        dataTable['output_type'] = 'display_data';\n",
              "        await google.colab.output.renderOutput(dataTable, element);\n",
              "        const docLink = document.createElement('div');\n",
              "        docLink.innerHTML = docLinkHtml;\n",
              "        element.appendChild(docLink);\n",
              "      }\n",
              "    </script>\n",
              "  </div>\n",
              "\n",
              "\n",
              "<div id=\"df-16a10879-ae1d-48c9-89dc-6b6a36db304a\">\n",
              "  <button class=\"colab-df-quickchart\" onclick=\"quickchart('df-16a10879-ae1d-48c9-89dc-6b6a36db304a')\"\n",
              "            title=\"Suggest charts\"\n",
              "            style=\"display:none;\">\n",
              "\n",
              "<svg xmlns=\"http://www.w3.org/2000/svg\" height=\"24px\"viewBox=\"0 0 24 24\"\n",
              "     width=\"24px\">\n",
              "    <g>\n",
              "        <path d=\"M19 3H5c-1.1 0-2 .9-2 2v14c0 1.1.9 2 2 2h14c1.1 0 2-.9 2-2V5c0-1.1-.9-2-2-2zM9 17H7v-7h2v7zm4 0h-2V7h2v10zm4 0h-2v-4h2v4z\"/>\n",
              "    </g>\n",
              "</svg>\n",
              "  </button>\n",
              "\n",
              "<style>\n",
              "  .colab-df-quickchart {\n",
              "      --bg-color: #E8F0FE;\n",
              "      --fill-color: #1967D2;\n",
              "      --hover-bg-color: #E2EBFA;\n",
              "      --hover-fill-color: #174EA6;\n",
              "      --disabled-fill-color: #AAA;\n",
              "      --disabled-bg-color: #DDD;\n",
              "  }\n",
              "\n",
              "  [theme=dark] .colab-df-quickchart {\n",
              "      --bg-color: #3B4455;\n",
              "      --fill-color: #D2E3FC;\n",
              "      --hover-bg-color: #434B5C;\n",
              "      --hover-fill-color: #FFFFFF;\n",
              "      --disabled-bg-color: #3B4455;\n",
              "      --disabled-fill-color: #666;\n",
              "  }\n",
              "\n",
              "  .colab-df-quickchart {\n",
              "    background-color: var(--bg-color);\n",
              "    border: none;\n",
              "    border-radius: 50%;\n",
              "    cursor: pointer;\n",
              "    display: none;\n",
              "    fill: var(--fill-color);\n",
              "    height: 32px;\n",
              "    padding: 0;\n",
              "    width: 32px;\n",
              "  }\n",
              "\n",
              "  .colab-df-quickchart:hover {\n",
              "    background-color: var(--hover-bg-color);\n",
              "    box-shadow: 0 1px 2px rgba(60, 64, 67, 0.3), 0 1px 3px 1px rgba(60, 64, 67, 0.15);\n",
              "    fill: var(--button-hover-fill-color);\n",
              "  }\n",
              "\n",
              "  .colab-df-quickchart-complete:disabled,\n",
              "  .colab-df-quickchart-complete:disabled:hover {\n",
              "    background-color: var(--disabled-bg-color);\n",
              "    fill: var(--disabled-fill-color);\n",
              "    box-shadow: none;\n",
              "  }\n",
              "\n",
              "  .colab-df-spinner {\n",
              "    border: 2px solid var(--fill-color);\n",
              "    border-color: transparent;\n",
              "    border-bottom-color: var(--fill-color);\n",
              "    animation:\n",
              "      spin 1s steps(1) infinite;\n",
              "  }\n",
              "\n",
              "  @keyframes spin {\n",
              "    0% {\n",
              "      border-color: transparent;\n",
              "      border-bottom-color: var(--fill-color);\n",
              "      border-left-color: var(--fill-color);\n",
              "    }\n",
              "    20% {\n",
              "      border-color: transparent;\n",
              "      border-left-color: var(--fill-color);\n",
              "      border-top-color: var(--fill-color);\n",
              "    }\n",
              "    30% {\n",
              "      border-color: transparent;\n",
              "      border-left-color: var(--fill-color);\n",
              "      border-top-color: var(--fill-color);\n",
              "      border-right-color: var(--fill-color);\n",
              "    }\n",
              "    40% {\n",
              "      border-color: transparent;\n",
              "      border-right-color: var(--fill-color);\n",
              "      border-top-color: var(--fill-color);\n",
              "    }\n",
              "    60% {\n",
              "      border-color: transparent;\n",
              "      border-right-color: var(--fill-color);\n",
              "    }\n",
              "    80% {\n",
              "      border-color: transparent;\n",
              "      border-right-color: var(--fill-color);\n",
              "      border-bottom-color: var(--fill-color);\n",
              "    }\n",
              "    90% {\n",
              "      border-color: transparent;\n",
              "      border-bottom-color: var(--fill-color);\n",
              "    }\n",
              "  }\n",
              "</style>\n",
              "\n",
              "  <script>\n",
              "    async function quickchart(key) {\n",
              "      const quickchartButtonEl =\n",
              "        document.querySelector('#' + key + ' button');\n",
              "      quickchartButtonEl.disabled = true;  // To prevent multiple clicks.\n",
              "      quickchartButtonEl.classList.add('colab-df-spinner');\n",
              "      try {\n",
              "        const charts = await google.colab.kernel.invokeFunction(\n",
              "            'suggestCharts', [key], {});\n",
              "      } catch (error) {\n",
              "        console.error('Error during call to suggestCharts:', error);\n",
              "      }\n",
              "      quickchartButtonEl.classList.remove('colab-df-spinner');\n",
              "      quickchartButtonEl.classList.add('colab-df-quickchart-complete');\n",
              "    }\n",
              "    (() => {\n",
              "      let quickchartButtonEl =\n",
              "        document.querySelector('#df-16a10879-ae1d-48c9-89dc-6b6a36db304a button');\n",
              "      quickchartButtonEl.style.display =\n",
              "        google.colab.kernel.accessAllowed ? 'block' : 'none';\n",
              "    })();\n",
              "  </script>\n",
              "</div>\n",
              "    </div>\n",
              "  </div>\n"
            ],
            "application/vnd.google.colaboratory.intrinsic+json": {
              "type": "dataframe",
              "variable_name": "clips_df",
              "summary": "{\n  \"name\": \"clips_df\",\n  \"rows\": 3348,\n  \"fields\": [\n    {\n      \"column\": \"video\",\n      \"properties\": {\n        \"dtype\": \"category\",\n        \"num_unique_values\": 1205,\n        \"samples\": [\n          \"tracked_fish_clip_2_Jan_11_track_1316.txt\",\n          \"tracked_fish_clip_2_Jan_11_track_697.txt\",\n          \"track_393.txt\"\n        ],\n        \"semantic_type\": \"\",\n        \"description\": \"\"\n      }\n    },\n    {\n      \"column\": \"frame\",\n      \"properties\": {\n        \"dtype\": \"number\",\n        \"std\": 374,\n        \"min\": 0,\n        \"max\": 3103,\n        \"num_unique_values\": 915,\n        \"samples\": [\n          213,\n          402,\n          35\n        ],\n        \"semantic_type\": \"\",\n        \"description\": \"\"\n      }\n    },\n    {\n      \"column\": \"label\",\n      \"properties\": {\n        \"dtype\": \"number\",\n        \"std\": 0.5000745989507472,\n        \"min\": 0.0,\n        \"max\": 1.0,\n        \"num_unique_values\": 2,\n        \"samples\": [\n          0.0,\n          1.0\n        ],\n        \"semantic_type\": \"\",\n        \"description\": \"\"\n      }\n    }\n  ]\n}"
            }
          },
          "metadata": {},
          "execution_count": 23
        }
      ]
    },
    {
      "cell_type": "code",
      "source": [
        "print('Number of positive samples:', len(clips_df[clips_df['label'] == 1]))\n",
        "print('Number of negative samples:', len(clips_df[clips_df['label'] == 0]))"
      ],
      "metadata": {
        "colab": {
          "base_uri": "https://localhost:8080/"
        },
        "id": "1RCt8BXGUtj9",
        "outputId": "d6002db2-048c-466d-ee44-9a375d474ff0"
      },
      "execution_count": 24,
      "outputs": [
        {
          "output_type": "stream",
          "name": "stdout",
          "text": [
            "Number of positive samples: 1675\n",
            "Number of negative samples: 1673\n"
          ]
        }
      ]
    },
    {
      "cell_type": "code",
      "source": [
        "# Save selected sample data.\n",
        "clips_df.to_csv(f'{feeding_dir}/clips.csv', index=False)"
      ],
      "metadata": {
        "id": "9cghUNXifLD8"
      },
      "execution_count": 25,
      "outputs": []
    }
  ]
}