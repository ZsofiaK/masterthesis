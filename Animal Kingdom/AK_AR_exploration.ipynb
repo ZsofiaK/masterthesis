{
 "cells": [
  {
   "cell_type": "markdown",
   "metadata": {},
   "source": [
    "# Exploring the Animal Kingdom dataset for action recognition"
   ]
  },
  {
   "cell_type": "code",
   "execution_count": 1,
   "metadata": {},
   "outputs": [],
   "source": [
    "import pandas as pd\n",
    "from matplotlib import pyplot as plt"
   ]
  },
  {
   "cell_type": "markdown",
   "metadata": {},
   "source": [
    "## Importing metadata about Action Recognition (AR) dataset"
   ]
  },
  {
   "cell_type": "code",
   "execution_count": 2,
   "metadata": {},
   "outputs": [
    {
     "data": {
      "text/html": [
       "<div>\n",
       "<style scoped>\n",
       "    .dataframe tbody tr th:only-of-type {\n",
       "        vertical-align: middle;\n",
       "    }\n",
       "\n",
       "    .dataframe tbody tr th {\n",
       "        vertical-align: top;\n",
       "    }\n",
       "\n",
       "    .dataframe thead th {\n",
       "        text-align: right;\n",
       "    }\n",
       "</style>\n",
       "<table border=\"1\" class=\"dataframe\">\n",
       "  <thead>\n",
       "    <tr style=\"text-align: right;\">\n",
       "      <th></th>\n",
       "      <th>S/N</th>\n",
       "      <th>video_id</th>\n",
       "      <th>type</th>\n",
       "      <th>labels</th>\n",
       "      <th>list_animal_action</th>\n",
       "    </tr>\n",
       "  </thead>\n",
       "  <tbody>\n",
       "    <tr>\n",
       "      <th>0</th>\n",
       "      <td>1</td>\n",
       "      <td>AAACXZTV</td>\n",
       "      <td>train</td>\n",
       "      <td>2,40</td>\n",
       "      <td>[('Common Crane', 'Attending'), ('Common Crane...</td>\n",
       "    </tr>\n",
       "    <tr>\n",
       "      <th>1</th>\n",
       "      <td>2</td>\n",
       "      <td>AABCQPTK</td>\n",
       "      <td>train</td>\n",
       "      <td>2,15</td>\n",
       "      <td>[('Singing Nightingale', 'Attending'), ('Singi...</td>\n",
       "    </tr>\n",
       "    <tr>\n",
       "      <th>2</th>\n",
       "      <td>3</td>\n",
       "      <td>AABKMGHE</td>\n",
       "      <td>train</td>\n",
       "      <td>78</td>\n",
       "      <td>[('Snake', 'Moving')]</td>\n",
       "    </tr>\n",
       "    <tr>\n",
       "      <th>3</th>\n",
       "      <td>4</td>\n",
       "      <td>AACJGIQR</td>\n",
       "      <td>train</td>\n",
       "      <td>102,1,39,8,120,97</td>\n",
       "      <td>[('Mongoose', 'Biting'), ('Black Mamba', 'Sens...</td>\n",
       "    </tr>\n",
       "    <tr>\n",
       "      <th>4</th>\n",
       "      <td>5</td>\n",
       "      <td>AACKOHGA</td>\n",
       "      <td>train</td>\n",
       "      <td>2,68,133,116</td>\n",
       "      <td>[('Meerkat', 'Walking'), ('Meerkat', 'Attendin...</td>\n",
       "    </tr>\n",
       "  </tbody>\n",
       "</table>\n",
       "</div>"
      ],
      "text/plain": [
       "   S/N  video_id   type             labels  \\\n",
       "0    1  AAACXZTV  train               2,40   \n",
       "1    2  AABCQPTK  train               2,15   \n",
       "2    3  AABKMGHE  train                 78   \n",
       "3    4  AACJGIQR  train  102,1,39,8,120,97   \n",
       "4    5  AACKOHGA  train       2,68,133,116   \n",
       "\n",
       "                                  list_animal_action  \n",
       "0  [('Common Crane', 'Attending'), ('Common Crane...  \n",
       "1  [('Singing Nightingale', 'Attending'), ('Singi...  \n",
       "2                              [('Snake', 'Moving')]  \n",
       "3  [('Mongoose', 'Biting'), ('Black Mamba', 'Sens...  \n",
       "4  [('Meerkat', 'Walking'), ('Meerkat', 'Attendin...  "
      ]
     },
     "execution_count": 2,
     "metadata": {},
     "output_type": "execute_result"
    }
   ],
   "source": [
    "AR_data = pd.read_excel('AR_metadata.xlsx', sheet_name='AR')\n",
    "\n",
    "AR_data.head()"
   ]
  },
  {
   "cell_type": "code",
   "execution_count": 3,
   "metadata": {},
   "outputs": [
    {
     "data": {
      "text/html": [
       "<div>\n",
       "<style scoped>\n",
       "    .dataframe tbody tr th:only-of-type {\n",
       "        vertical-align: middle;\n",
       "    }\n",
       "\n",
       "    .dataframe tbody tr th {\n",
       "        vertical-align: top;\n",
       "    }\n",
       "\n",
       "    .dataframe thead th {\n",
       "        text-align: right;\n",
       "    }\n",
       "</style>\n",
       "<table border=\"1\" class=\"dataframe\">\n",
       "  <thead>\n",
       "    <tr style=\"text-align: right;\">\n",
       "      <th></th>\n",
       "      <th>Animal</th>\n",
       "      <th>Parent Class</th>\n",
       "      <th>Class</th>\n",
       "      <th>Sub-Class</th>\n",
       "      <th>Young</th>\n",
       "      <th>Generic name</th>\n",
       "    </tr>\n",
       "  </thead>\n",
       "  <tbody>\n",
       "    <tr>\n",
       "      <th>0</th>\n",
       "      <td>Abalone</td>\n",
       "      <td>Sea animal</td>\n",
       "      <td>Sea animal / Shellfish</td>\n",
       "      <td>Shellfish / Abalone / Clam / Mussel / Scallop</td>\n",
       "      <td>NaN</td>\n",
       "      <td>NaN</td>\n",
       "    </tr>\n",
       "    <tr>\n",
       "      <th>1</th>\n",
       "      <td>Acyrthosiphon pisum Aphid</td>\n",
       "      <td>Insect</td>\n",
       "      <td>Insect</td>\n",
       "      <td>Ant / Termite / Aphid</td>\n",
       "      <td>NaN</td>\n",
       "      <td>NaN</td>\n",
       "    </tr>\n",
       "    <tr>\n",
       "      <th>2</th>\n",
       "      <td>Aedes aegypti Mosquito</td>\n",
       "      <td>Insect</td>\n",
       "      <td>Insect</td>\n",
       "      <td>Mosquito / Crane fly</td>\n",
       "      <td>NaN</td>\n",
       "      <td>NaN</td>\n",
       "    </tr>\n",
       "    <tr>\n",
       "      <th>3</th>\n",
       "      <td>Aedes aegypti Mosquito Larva</td>\n",
       "      <td>Insect</td>\n",
       "      <td>Insect / Larva / Pupa</td>\n",
       "      <td>Larva / Pupa</td>\n",
       "      <td>Yes</td>\n",
       "      <td>NaN</td>\n",
       "    </tr>\n",
       "    <tr>\n",
       "      <th>4</th>\n",
       "      <td>Aesculapian Snake</td>\n",
       "      <td>Reptile</td>\n",
       "      <td>Reptile / Snake</td>\n",
       "      <td>Snake / Cobra / Viper / Python</td>\n",
       "      <td>NaN</td>\n",
       "      <td>NaN</td>\n",
       "    </tr>\n",
       "  </tbody>\n",
       "</table>\n",
       "</div>"
      ],
      "text/plain": [
       "                         Animal Parent Class                   Class  \\\n",
       "0                       Abalone   Sea animal  Sea animal / Shellfish   \n",
       "1     Acyrthosiphon pisum Aphid       Insect                  Insect   \n",
       "2        Aedes aegypti Mosquito       Insect                  Insect   \n",
       "3  Aedes aegypti Mosquito Larva       Insect   Insect / Larva / Pupa   \n",
       "4             Aesculapian Snake      Reptile         Reptile / Snake   \n",
       "\n",
       "                                       Sub-Class Young Generic name  \n",
       "0  Shellfish / Abalone / Clam / Mussel / Scallop   NaN          NaN  \n",
       "1                          Ant / Termite / Aphid   NaN          NaN  \n",
       "2                           Mosquito / Crane fly   NaN          NaN  \n",
       "3                                   Larva / Pupa   Yes          NaN  \n",
       "4                 Snake / Cobra / Viper / Python   NaN          NaN  "
      ]
     },
     "execution_count": 3,
     "metadata": {},
     "output_type": "execute_result"
    }
   ],
   "source": [
    "animal_data = pd.read_excel('AR_metadata.xlsx', sheet_name='Animal')\n",
    "\n",
    "animal_data.head()"
   ]
  },
  {
   "cell_type": "code",
   "execution_count": 4,
   "metadata": {},
   "outputs": [],
   "source": [
    "fish = list(animal_data[animal_data['Class'] == 'Fish']['Animal'])"
   ]
  },
  {
   "cell_type": "code",
   "execution_count": 5,
   "metadata": {},
   "outputs": [
    {
     "name": "stdout",
     "output_type": "stream",
     "text": [
      "Number of fish species in dataset: 59\n",
      "Examples: ['Archer Fish', 'Atlantic Blue Tang Fish', 'Barracuda Fish']\n"
     ]
    }
   ],
   "source": [
    "print('Number of fish species in dataset:', len(fish))\n",
    "print('Examples:', fish[:3])"
   ]
  },
  {
   "cell_type": "code",
   "execution_count": 6,
   "metadata": {},
   "outputs": [
    {
     "name": "stdout",
     "output_type": "stream",
     "text": [
      "AAACXZTV [('Common Crane', 'Attending'), ('Common Crane', 'Eating')]\n",
      "AABCQPTK [('Singing Nightingale', 'Attending'), ('Singing Nightingale', 'Chirping')]\n",
      "AABKMGHE [('Snake', 'Moving')]\n"
     ]
    }
   ],
   "source": [
    "action_dict = {AR_data['video_id'][i] : eval(AR_data['list_animal_action'][i]) \\\n",
    "               for i in AR_data.index}\n",
    "\n",
    "for id, actions in list(action_dict.items())[:3]:\n",
    "    print(id, actions)"
   ]
  },
  {
   "cell_type": "markdown",
   "metadata": {},
   "source": [
    "## Frame-by-frame action recognition"
   ]
  },
  {
   "cell_type": "code",
   "execution_count": 9,
   "metadata": {},
   "outputs": [
    {
     "data": {
      "text/html": [
       "<div>\n",
       "<style scoped>\n",
       "    .dataframe tbody tr th:only-of-type {\n",
       "        vertical-align: middle;\n",
       "    }\n",
       "\n",
       "    .dataframe tbody tr th {\n",
       "        vertical-align: top;\n",
       "    }\n",
       "\n",
       "    .dataframe thead th {\n",
       "        text-align: right;\n",
       "    }\n",
       "</style>\n",
       "<table border=\"1\" class=\"dataframe\">\n",
       "  <thead>\n",
       "    <tr style=\"text-align: right;\">\n",
       "      <th></th>\n",
       "      <th>original_vido_id</th>\n",
       "      <th>video_id</th>\n",
       "      <th>frame_id</th>\n",
       "      <th>path</th>\n",
       "      <th>labels</th>\n",
       "      <th>type</th>\n",
       "    </tr>\n",
       "  </thead>\n",
       "  <tbody>\n",
       "    <tr>\n",
       "      <th>0</th>\n",
       "      <td>AAAUILHH</td>\n",
       "      <td>46</td>\n",
       "      <td>1</td>\n",
       "      <td>AAAUILHH/AAAUILHH_t000001.jpg</td>\n",
       "      <td>16</td>\n",
       "      <td>test</td>\n",
       "    </tr>\n",
       "    <tr>\n",
       "      <th>1</th>\n",
       "      <td>AAAUILHH</td>\n",
       "      <td>46</td>\n",
       "      <td>2</td>\n",
       "      <td>AAAUILHH/AAAUILHH_t000002.jpg</td>\n",
       "      <td>16</td>\n",
       "      <td>test</td>\n",
       "    </tr>\n",
       "    <tr>\n",
       "      <th>2</th>\n",
       "      <td>AAAUILHH</td>\n",
       "      <td>46</td>\n",
       "      <td>3</td>\n",
       "      <td>AAAUILHH/AAAUILHH_t000003.jpg</td>\n",
       "      <td>16</td>\n",
       "      <td>test</td>\n",
       "    </tr>\n",
       "    <tr>\n",
       "      <th>3</th>\n",
       "      <td>AAAUILHH</td>\n",
       "      <td>46</td>\n",
       "      <td>4</td>\n",
       "      <td>AAAUILHH/AAAUILHH_t000004.jpg</td>\n",
       "      <td>16</td>\n",
       "      <td>test</td>\n",
       "    </tr>\n",
       "    <tr>\n",
       "      <th>4</th>\n",
       "      <td>AAAUILHH</td>\n",
       "      <td>46</td>\n",
       "      <td>5</td>\n",
       "      <td>AAAUILHH/AAAUILHH_t000005.jpg</td>\n",
       "      <td>16</td>\n",
       "      <td>test</td>\n",
       "    </tr>\n",
       "  </tbody>\n",
       "</table>\n",
       "</div>"
      ],
      "text/plain": [
       "  original_vido_id  video_id  frame_id                           path labels  \\\n",
       "0         AAAUILHH        46         1  AAAUILHH/AAAUILHH_t000001.jpg     16   \n",
       "1         AAAUILHH        46         2  AAAUILHH/AAAUILHH_t000002.jpg     16   \n",
       "2         AAAUILHH        46         3  AAAUILHH/AAAUILHH_t000003.jpg     16   \n",
       "3         AAAUILHH        46         4  AAAUILHH/AAAUILHH_t000004.jpg     16   \n",
       "4         AAAUILHH        46         5  AAAUILHH/AAAUILHH_t000005.jpg     16   \n",
       "\n",
       "   type  \n",
       "0  test  \n",
       "1  test  \n",
       "2  test  \n",
       "3  test  \n",
       "4  test  "
      ]
     },
     "execution_count": 9,
     "metadata": {},
     "output_type": "execute_result"
    }
   ],
   "source": [
    "frame_AR = pd.read_csv('val.csv', sep=' ')\n",
    "\n",
    "frame_AR.head()"
   ]
  },
  {
   "cell_type": "code",
   "execution_count": 20,
   "metadata": {},
   "outputs": [],
   "source": [
    "frames_dict = {frame_AR['original_vido_id'][i] : [] for i in frame_AR.index}"
   ]
  },
  {
   "cell_type": "code",
   "execution_count": 21,
   "metadata": {},
   "outputs": [],
   "source": [
    "action_frames_dict = {id : {} for id in frames_dict}"
   ]
  },
  {
   "cell_type": "code",
   "execution_count": 22,
   "metadata": {},
   "outputs": [],
   "source": [
    "for id, frame_list in frames_dict.items():\n",
    "    relevant_data = frame_AR[frame_AR['original_vido_id'] == id]\n",
    "\n",
    "    for i in relevant_data.index:\n",
    "        frame = relevant_data['frame_id'][i]\n",
    "\n",
    "        if frame not in frame_list:\n",
    "            frame_list.append(frame)\n",
    "\n",
    "        labels = relevant_data['labels'][i]\n",
    "\n",
    "        for label in labels.split(','):\n",
    "            if label not in action_frames_dict[id]:\n",
    "                action_frames_dict[id][label] = [frame]\n",
    "\n",
    "            else:\n",
    "                action_frames_dict[id][label].append(frame)\n",
    "\n",
    "frames_length_dict = {id : len(frame_list) for id, frame_list in frames_dict.items()}"
   ]
  },
  {
   "cell_type": "code",
   "execution_count": 23,
   "metadata": {},
   "outputs": [
    {
     "name": "stdout",
     "output_type": "stream",
     "text": [
      "Videos with missing frames in the frame-by-frame dataset:\n",
      "None\n"
     ]
    }
   ],
   "source": [
    "print('Videos with missing frames in the frame-by-frame dataset:')\n",
    "\n",
    "any_missing = False\n",
    "\n",
    "for id, length in frames_length_dict.items():\n",
    "    if length != frames_dict[id][-1]:\n",
    "        print(id)\n",
    "\n",
    "        any_missing = True\n",
    "\n",
    "if not any_missing:\n",
    "    print('None')\n"
   ]
  },
  {
   "cell_type": "code",
   "execution_count": 48,
   "metadata": {},
   "outputs": [],
   "source": [
    "action_lengths_dict = {}\n",
    "action_proportions_dict = {}\n",
    "\n",
    "for id, action_dict in action_frames_dict.items():\n",
    "    video_length = frames_length_dict[id]\n",
    "    \n",
    "    for action, frames in action_dict.items():\n",
    "        if action not in action_lengths_dict:\n",
    "            action_lengths_dict[action] = []\n",
    "\n",
    "        if action not in action_proportions_dict:\n",
    "            action_proportions_dict[action] = []\n",
    "\n",
    "        length_list = []\n",
    "        proportions_list = []\n",
    "        current_length = 1\n",
    "\n",
    "        for i in range(1, len(frames)):\n",
    "            if frames[i] == frames[i - 1] + 1:\n",
    "                current_length += 1\n",
    "            else:\n",
    "                length_list.append(current_length)\n",
    "                proportions_list.append(current_length / video_length)\n",
    "                current_length = 1\n",
    "\n",
    "        length_list.append(current_length)    \n",
    "        proportions_list.append(current_length / video_length)    \n",
    "    \n",
    "        action_lengths_dict[action].extend(length_list)\n",
    "        action_proportions_dict[action].extend(proportions_list)"
   ]
  },
  {
   "cell_type": "code",
   "execution_count": 36,
   "metadata": {},
   "outputs": [
    {
     "name": "stdout",
     "output_type": "stream",
     "text": [
      "Calculated number of frames with action 16: 4134\n",
      "Actual number of frames with action 16: 4134\n"
     ]
    }
   ],
   "source": [
    "# Checking for bugs.\n",
    "\n",
    "test_action = list(action_lengths_dict.keys())[0]\n",
    "\n",
    "print(f'Calculated number of frames with action {test_action}: {sum(action_lengths_dict[test_action])}')\n",
    "\n",
    "counter = 0\n",
    "\n",
    "for i in frame_AR.index:\n",
    "    if test_action in frame_AR['labels'][i].split(','):\n",
    "        counter += 1\n",
    "\n",
    "print(f'Actual number of frames with action {test_action}: {counter}')"
   ]
  },
  {
   "cell_type": "code",
   "execution_count": 46,
   "metadata": {},
   "outputs": [
    {
     "data": {
      "image/png": "[encoded data removed]",
      "text/plain": [
       "<Figure size 640x480 with 1 Axes>"
      ]
     },
     "metadata": {},
     "output_type": "display_data"
    }
   ],
   "source": [
    "all_lengths = [length for length_list in action_lengths_dict.values() for length in length_list]\n",
    "\n",
    "plt.hist(all_lengths, bins=200)\n",
    "\n",
    "plt.xlabel('Length of action (frames)')\n",
    "plt.ylabel('Number of actions')\n",
    "plt.title('Distribution of action lengths')\n",
    "\n",
    "plt.show()"
   ]
  },
  {
   "cell_type": "code",
   "execution_count": 49,
   "metadata": {},
   "outputs": [
    {
     "data": {
      "image/png": "[encoded data removed]",
      "text/plain": [
       "<Figure size 640x480 with 1 Axes>"
      ]
     },
     "metadata": {},
     "output_type": "display_data"
    }
   ],
   "source": [
    "all_proportions = [proportion for proportion_list in action_proportions_dict.values() for proportion in proportion_list]\n",
    "\n",
    "plt.hist(all_proportions, bins=200)\n",
    "\n",
    "plt.xlabel('Proportion of the action relative to the video length')\n",
    "plt.ylabel('Number of actions')\n",
    "plt.title('Distribution of action proportions to video length')\n",
    "\n",
    "plt.show()"
   ]
  },
  {
   "cell_type": "code",
   "execution_count": 47,
   "metadata": {},
   "outputs": [
    {
     "data": {
      "image/png": "[encoded data removed]",
      "text/plain": [
       "<Figure size 640x480 with 1 Axes>"
      ]
     },
     "metadata": {},
     "output_type": "display_data"
    }
   ],
   "source": [
    "all_lengths = [length for length in frames_length_dict.values()]\n",
    "\n",
    "plt.hist(all_lengths, bins=200)\n",
    "\n",
    "plt.xlabel('Length of video (frames)')\n",
    "plt.ylabel('Number of videos')\n",
    "plt.title('Distribution of video lengths')\n",
    "\n",
    "plt.show()"
   ]
  },
  {
   "cell_type": "markdown",
   "metadata": {},
   "source": [
    "## Finding videos with relevant species"
   ]
  },
  {
   "cell_type": "code",
   "execution_count": 7,
   "metadata": {},
   "outputs": [],
   "source": [
    "fish_videos = []\n",
    "\n",
    "for id, actions in action_dict.items():\n",
    "    for item in actions:\n",
    "        animal = item[0]\n",
    "\n",
    "        if animal in fish and id not in fish_videos:\n",
    "            fish_videos.append(id)"
   ]
  },
  {
   "cell_type": "code",
   "execution_count": 8,
   "metadata": {},
   "outputs": [
    {
     "name": "stdout",
     "output_type": "stream",
     "text": [
      "Number of fish videos in dataset: 887\n"
     ]
    }
   ],
   "source": [
    "print('Number of fish videos in dataset:', len(fish_videos))"
   ]
  },
  {
   "cell_type": "markdown",
   "metadata": {},
   "source": [
    "## Finding videos with relevant actions\n",
    "In our case, these are actions related to predation, namely:\n",
    "\n",
    "* 1: **Attacking**\n",
    "* 7: **Being eaten**\n",
    "* 14: **Chasing**\n",
    "* 47: **Fighting**\n",
    "* 8: **Biting**\n",
    "* 51: **Fleeing**\n",
    "* 96: **Retaliating**\n",
    "* 120: **Struggling**"
   ]
  },
  {
   "cell_type": "code",
   "execution_count": 47,
   "metadata": {},
   "outputs": [],
   "source": [
    "relevant_actions = ['Attacking', 'Chasing', 'Fighting', 'Biting', \\\n",
    "                    'Being eaten', 'Fleeing', 'Retaliating', 'Struggling']"
   ]
  },
  {
   "cell_type": "code",
   "execution_count": 58,
   "metadata": {},
   "outputs": [
    {
     "name": "stdout",
     "output_type": "stream",
     "text": [
      "--Attacking\n",
      "Animal rushes and leaps on another another with bites, pecks or kicks\n",
      "\n",
      "--Chasing\n",
      "Animal \"runs\" after the fleeing animal, however no biting occurs\n",
      "\n",
      "--Fighting\n",
      "Include wrestling\n",
      "\n",
      "--Fleeing\n",
      "Different from escaping, animal 'runs' away from its predator or danger, often with rapid change of direction but without having been caught first\n",
      "\n",
      "--Retaliating\n",
      "Animal makes a defending attack (i.e., \"attacks\" its attacker back). Include ramming by goats\n",
      "\n",
      "--Struggling\n",
      "Animal struggles from the clutch, grip, or bite by its predator\n",
      "\n",
      "--Biting\n",
      "Animal sinks its teeth into the object or animal, but does not eat / feed / chew on the object or food\n",
      "\n",
      "--Being eaten\n",
      "nan\n",
      "\n"
     ]
    }
   ],
   "source": [
    "action_data = pd.read_excel('AR_metadata.xlsx', sheet_name='Action')\n",
    "\n",
    "for i in action_data[action_data['Action'].isin(relevant_actions)].index:\n",
    "    print('--' + action_data['Action'][i])\n",
    "    print(action_data['Description'][i])\n",
    "    print()"
   ]
  },
  {
   "cell_type": "code",
   "execution_count": 48,
   "metadata": {},
   "outputs": [],
   "source": [
    "fish_action_dict = {id : actions for id, actions in action_dict.items() \\\n",
    "                    if id in fish_videos}"
   ]
  },
  {
   "cell_type": "markdown",
   "metadata": {},
   "source": [
    "Please note that during the selection of relevant videos, only clips in which fish are the performers of attack-related actions (either on the predator or prey side) are selected. However, the clip might contain animals other than fish, and they might be involved in the attack as well (e.g., snake eating fish)."
   ]
  },
  {
   "cell_type": "code",
   "execution_count": 71,
   "metadata": {},
   "outputs": [],
   "source": [
    "relevant_videos = []\n",
    "\n",
    "# Counting the distribution of relevant action types.\n",
    "action_counter = {action : 0 for action in relevant_actions}\n",
    "\n",
    "# Counting the distribution of species in relevant actions.\n",
    "species_counter = {}\n",
    "\n",
    "for id, actions in fish_action_dict.items():\n",
    "    for item in actions:\n",
    "        animal, action = item\n",
    "\n",
    "        if animal in fish and action in relevant_actions:\n",
    "            action_counter[action] += 1\n",
    "\n",
    "            if animal in species_counter:\n",
    "                species_counter[animal] += 1\n",
    "\n",
    "            else:\n",
    "                species_counter[animal] = 1\n",
    "            \n",
    "            if id not in relevant_videos:\n",
    "                relevant_videos.append(id)"
   ]
  },
  {
   "cell_type": "code",
   "execution_count": 64,
   "metadata": {},
   "outputs": [
    {
     "name": "stdout",
     "output_type": "stream",
     "text": [
      "Number of relevant videos in dataset: 81\n"
     ]
    }
   ],
   "source": [
    "print('Number of relevant videos in dataset:', len(relevant_videos))"
   ]
  },
  {
   "cell_type": "code",
   "execution_count": 51,
   "metadata": {},
   "outputs": [],
   "source": [
    "relevant_AR_data = AR_data[AR_data['video_id'].isin(relevant_videos)]"
   ]
  },
  {
   "cell_type": "code",
   "execution_count": 52,
   "metadata": {},
   "outputs": [
    {
     "data": {
      "text/html": [
       "<div>\n",
       "<style scoped>\n",
       "    .dataframe tbody tr th:only-of-type {\n",
       "        vertical-align: middle;\n",
       "    }\n",
       "\n",
       "    .dataframe tbody tr th {\n",
       "        vertical-align: top;\n",
       "    }\n",
       "\n",
       "    .dataframe thead th {\n",
       "        text-align: right;\n",
       "    }\n",
       "</style>\n",
       "<table border=\"1\" class=\"dataframe\">\n",
       "  <thead>\n",
       "    <tr style=\"text-align: right;\">\n",
       "      <th></th>\n",
       "      <th>S/N</th>\n",
       "      <th>video_id</th>\n",
       "      <th>type</th>\n",
       "      <th>labels</th>\n",
       "      <th>list_animal_action</th>\n",
       "    </tr>\n",
       "  </thead>\n",
       "  <tbody>\n",
       "    <tr>\n",
       "      <th>123</th>\n",
       "      <td>124</td>\n",
       "      <td>ADBJMPIF</td>\n",
       "      <td>train</td>\n",
       "      <td>40,51,123</td>\n",
       "      <td>[('Sardine', 'Fleeing'), ('Sea Lion', 'Eating'...</td>\n",
       "    </tr>\n",
       "    <tr>\n",
       "      <th>492</th>\n",
       "      <td>493</td>\n",
       "      <td>ANDAXPAB</td>\n",
       "      <td>train</td>\n",
       "      <td>49,45,53,8,120,133</td>\n",
       "      <td>[('Dice Snake', 'Exploring'), ('Dice Snake', '...</td>\n",
       "    </tr>\n",
       "    <tr>\n",
       "      <th>506</th>\n",
       "      <td>507</td>\n",
       "      <td>ANOGFCND</td>\n",
       "      <td>train</td>\n",
       "      <td>1,51</td>\n",
       "      <td>[('Fish', 'Fleeing'), ('Snake', 'Attacking')]</td>\n",
       "    </tr>\n",
       "    <tr>\n",
       "      <th>1347</th>\n",
       "      <td>1348</td>\n",
       "      <td>BKSKLMHZ</td>\n",
       "      <td>train</td>\n",
       "      <td>120,8</td>\n",
       "      <td>[('Natrix Tessellata Snake', 'Biting'), ('Fish...</td>\n",
       "    </tr>\n",
       "    <tr>\n",
       "      <th>2185</th>\n",
       "      <td>2186</td>\n",
       "      <td>CITPDPIF</td>\n",
       "      <td>train</td>\n",
       "      <td>1,123,51</td>\n",
       "      <td>[('Sardine', 'Fleeing'), ('Sardine', 'Swimming...</td>\n",
       "    </tr>\n",
       "  </tbody>\n",
       "</table>\n",
       "</div>"
      ],
      "text/plain": [
       "       S/N  video_id   type              labels  \\\n",
       "123    124  ADBJMPIF  train           40,51,123   \n",
       "492    493  ANDAXPAB  train  49,45,53,8,120,133   \n",
       "506    507  ANOGFCND  train                1,51   \n",
       "1347  1348  BKSKLMHZ  train               120,8   \n",
       "2185  2186  CITPDPIF  train            1,123,51   \n",
       "\n",
       "                                     list_animal_action  \n",
       "123   [('Sardine', 'Fleeing'), ('Sea Lion', 'Eating'...  \n",
       "492   [('Dice Snake', 'Exploring'), ('Dice Snake', '...  \n",
       "506       [('Fish', 'Fleeing'), ('Snake', 'Attacking')]  \n",
       "1347  [('Natrix Tessellata Snake', 'Biting'), ('Fish...  \n",
       "2185  [('Sardine', 'Fleeing'), ('Sardine', 'Swimming...  "
      ]
     },
     "execution_count": 52,
     "metadata": {},
     "output_type": "execute_result"
    }
   ],
   "source": [
    "relevant_AR_data.head()"
   ]
  },
  {
   "cell_type": "code",
   "execution_count": 53,
   "metadata": {},
   "outputs": [
    {
     "name": "stdout",
     "output_type": "stream",
     "text": [
      "Number of relevant training samples: 74\n",
      "Number of relevant test samples: 7\n"
     ]
    }
   ],
   "source": [
    "print('Number of relevant training samples:', len(relevant_AR_data[relevant_AR_data['type'] == 'train']))\n",
    "print('Number of relevant test samples:', len(relevant_AR_data[relevant_AR_data['type'] == 'test']))"
   ]
  },
  {
   "cell_type": "markdown",
   "metadata": {},
   "source": [
    "## Inspecting relevant clips"
   ]
  },
  {
   "cell_type": "markdown",
   "metadata": {},
   "source": [
    "### Distribution of relevant actions"
   ]
  },
  {
   "cell_type": "code",
   "execution_count": 82,
   "metadata": {},
   "outputs": [
    {
     "data": {
      "image/png": "[encoded data removed]",
      "text/plain": [
       "<Figure size 640x480 with 1 Axes>"
      ]
     },
     "metadata": {},
     "output_type": "display_data"
    }
   ],
   "source": [
    "sorted_items = sorted(action_counter.items(), key=lambda x: x[1], reverse=True)\n",
    "\n",
    "actions, occurrences = zip(*sorted_items)\n",
    "\n",
    "plt.bar(actions, occurrences, color='cornflowerblue')\n",
    "plt.xlabel('Actions')\n",
    "plt.ylabel('Occurrences')\n",
    "plt.title('Distribution of Action Occurrences')\n",
    "plt.xticks(rotation=45)\n",
    "plt.show()"
   ]
  },
  {
   "cell_type": "markdown",
   "metadata": {},
   "source": [
    "### Distribution of different fish species in relevant actions"
   ]
  },
  {
   "cell_type": "code",
   "execution_count": 80,
   "metadata": {},
   "outputs": [
    {
     "data": {
      "image/png": "[encoded data removed]",
      "text/plain": [
       "<Figure size 640x480 with 1 Axes>"
      ]
     },
     "metadata": {},
     "output_type": "display_data"
    }
   ],
   "source": [
    "sorted_items = sorted(species_counter.items(), key=lambda x: x[1], reverse=False)\n",
    "\n",
    "species, occurrences = zip(*sorted_items)\n",
    "\n",
    "plt.barh(species, \\\n",
    "        occurrences, \\\n",
    "            color='cornflowerblue')\n",
    "plt.ylabel('Species')\n",
    "plt.xlabel('Action occurrences')\n",
    "plt.title('Distribution of Species Occurences')\n",
    "plt.show()"
   ]
  }
 ],
 "metadata": {
  "kernelspec": {
   "display_name": "base",
   "language": "python",
   "name": "python3"
  },
  "language_info": {
   "codemirror_mode": {
    "name": "ipython",
    "version": 3
   },
   "file_extension": ".py",
   "mimetype": "text/x-python",
   "name": "python",
   "nbconvert_exporter": "python",
   "pygments_lexer": "ipython3",
   "version": "3.9.18"
  }
 },
 "nbformat": 4,
 "nbformat_minor": 2
}
