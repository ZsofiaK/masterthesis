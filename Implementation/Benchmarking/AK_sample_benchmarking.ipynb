{
  "nbformat": 4,
  "nbformat_minor": 0,
  "metadata": {
    "colab": {
      "provenance": [],
      "machine_shape": "hm",
      "gpuType": "L4",
      "authorship_tag": "ABX9TyPBlp4U87dv+Lnockl1tfln",
      "include_colab_link": true
    },
    "kernelspec": {
      "name": "python3",
      "display_name": "Python 3"
    },
    "language_info": {
      "name": "python"
    },
    "accelerator": "GPU"
  },
  "cells": [
    {
      "cell_type": "markdown",
      "metadata": {
        "id": "view-in-github",
        "colab_type": "text"
      },
      "source": [
        "<a href=\"https://colab.research.google.com/github/ZsofiaK/masterthesis/blob/main/Implementation/Benchmarking/AK_sample_benchmarking.ipynb\" target=\"_parent\"><img src=\"https://colab.research.google.com/assets/colab-badge.svg\" alt=\"Open In Colab\"/></a>"
      ]
    },
    {
      "cell_type": "markdown",
      "source": [
        "# AK sample benchmarking\n",
        "\n",
        "Benchmarking MARINE on a representative sample of Animal Kingdom."
      ],
      "metadata": {
        "id": "-JvN_Sh01GXI"
      }
    },
    {
      "cell_type": "markdown",
      "source": [
        "## Setting up requirements"
      ],
      "metadata": {
        "id": "zaYVIbZ2F5WY"
      }
    },
    {
      "cell_type": "code",
      "source": [
        "# Setting up dictionaries for later ease of use.\n",
        "dataset_dict = {'AK-sample' : 'AK sample'}\n",
        "\n",
        "input_sizes_dict = {'dinov2-vits14-clf' : 384, 'dinov2-vitg14-clf' : 1536,\n",
        "                    'dinov2-vits14-reg-clf' : 384, 'dinov2-vitg14-reg-clf' : 1536}"
      ],
      "metadata": {
        "id": "-6SM6II0FnTh"
      },
      "execution_count": 1,
      "outputs": []
    },
    {
      "cell_type": "code",
      "source": [
        "# Set the dataset, model and embedding specifics for the classification.\n",
        "\n",
        "dataset_name = 'AK-sample'\n",
        "\n",
        "dataset_dir = dataset_dict[dataset_name]\n",
        "\n",
        "nr_classes = 140    # Number of classes in the AK dataset.\n",
        "\n",
        "image_size = 448    # The size of the embedded images.\n",
        "\n",
        "frame_selection_method = 'motionAbsdiff_10'\n",
        "\n",
        "embedding_method = 'dinov2-vitg14-clf'\n",
        "\n",
        "clf_name = 'ShallowNetwork'\n",
        "\n",
        "seed = 23   # For reproducability in pseudo-randomness.\n",
        "\n",
        "nr_frames = int(frame_selection_method.split('_')[-1])\n",
        "\n",
        "input_size = input_sizes_dict[embedding_method] * nr_frames   # Size of the input vectors (embeddings)."
      ],
      "metadata": {
        "id": "MIJ71q9R1rOO"
      },
      "execution_count": 2,
      "outputs": []
    },
    {
      "cell_type": "code",
      "source": [
        "# Setting up parameters for cross validation.\n",
        "\n",
        "# Number of folds to use.\n",
        "cv_folds = 3\n",
        "\n",
        "# Parameter grids to use for the models.\n",
        "param_grid = { 'ShallowNetwork': {\n",
        "    'layers': [0, 1, 2, 3],\n",
        "    'dropout_rate': [0.0, 0.25, 0.5],\n",
        "    'learning_rate': [0.01, 0.001, 0.0001]\n",
        "}\n",
        "}"
      ],
      "metadata": {
        "id": "FK_Z8GzHtuIp"
      },
      "execution_count": 3,
      "outputs": []
    },
    {
      "cell_type": "code",
      "source": [
        "# Setting up folder to save outputs.\n",
        "import os\n",
        "\n",
        "output_dir = 'Output'\n",
        "os.makedirs(output_dir, exist_ok=True)"
      ],
      "metadata": {
        "id": "t-XaFHjLwsB7"
      },
      "execution_count": 4,
      "outputs": []
    },
    {
      "cell_type": "code",
      "execution_count": 5,
      "metadata": {
        "colab": {
          "base_uri": "https://localhost:8080/"
        },
        "id": "hMDvjWVA1Fxv",
        "outputId": "d07bb6d5-d0d7-4fe1-bd98-af38bb7d57b2"
      },
      "outputs": [
        {
          "output_type": "stream",
          "name": "stdout",
          "text": [
            "Drive already mounted at /content/drive; to attempt to forcibly remount, call drive.mount(\"/content/drive\", force_remount=True).\n"
          ]
        }
      ],
      "source": [
        "# Mount Drive.\n",
        "from google.colab import drive\n",
        "\n",
        "drive.mount('/content/drive')"
      ]
    },
    {
      "cell_type": "code",
      "source": [
        "# Specify data source\n",
        "data_dir = f\"/content/drive/MyDrive/UvA/M Thesis/Data/{dataset_dir}\""
      ],
      "metadata": {
        "id": "LObn91mn17vm"
      },
      "execution_count": 6,
      "outputs": []
    },
    {
      "cell_type": "markdown",
      "source": [
        "## Loading data"
      ],
      "metadata": {
        "id": "h1IvtxOKF_iV"
      }
    },
    {
      "cell_type": "code",
      "source": [
        "# Import libraries\n",
        "import numpy as np\n",
        "import pandas as pd\n",
        "from sklearn.model_selection import train_test_split\n",
        "from sklearn.linear_model import LogisticRegression\n",
        "from sklearn.svm import SVC\n",
        "from sklearn.metrics import classification_report\n",
        "from IPython.display import clear_output\n",
        "import shutil"
      ],
      "metadata": {
        "id": "FRRNvH6N2HMK"
      },
      "execution_count": 7,
      "outputs": []
    },
    {
      "cell_type": "code",
      "source": [
        "# Specify embedding locations\n",
        "embeddings_dir = f'{data_dir}/Embeddings/{embedding_method}/{image_size}'\n",
        "local_embeddings_dir = f'/content/{dataset_dir}/Embeddings/{embedding_method}/{image_size}'\n",
        "\n",
        "os.makedirs(local_embeddings_dir, exist_ok=True)"
      ],
      "metadata": {
        "id": "OlMCPLWjDxbD"
      },
      "execution_count": 8,
      "outputs": []
    },
    {
      "cell_type": "code",
      "source": [
        "# Copy embeddings to runtime.\n",
        "from IPython.display import clear_output\n",
        "from concurrent.futures import ThreadPoolExecutor\n",
        "\n",
        "video_dirs = os.listdir(embeddings_dir)\n",
        "nr_videos = len(video_dirs)\n",
        "\n",
        "# Function to copy a single video directory\n",
        "def copy_video_dir(video_dir):\n",
        "    video_dir_path = os.path.join(embeddings_dir, video_dir)\n",
        "    local_video_dir_path = os.path.join(local_embeddings_dir, video_dir)\n",
        "\n",
        "    shutil.copytree(video_dir_path, local_video_dir_path)\n",
        "\n",
        "    return video_dir\n",
        "\n",
        "if len(os.listdir(local_embeddings_dir)) < nr_videos:    # Only copy if not already done.\n",
        "  # Progress tracker\n",
        "  progress = 0\n",
        "\n",
        "  # Copy directories in parallel\n",
        "  with ThreadPoolExecutor(max_workers=8) as executor:\n",
        "      futures = [executor.submit(copy_video_dir, video_dir) for video_dir in video_dirs]\n",
        "\n",
        "      for future in futures:\n",
        "        future.result()  # Wait for each future to complete\n",
        "\n",
        "        progress += 1\n",
        "\n",
        "        clear_output(wait=True)\n",
        "        print(f'Progress: {progress / nr_videos * 100:.2f}%')\n",
        "\n",
        "else:\n",
        "  print('Embeddings have already been copied.')"
      ],
      "metadata": {
        "id": "g1Eqf9zIqttP",
        "colab": {
          "base_uri": "https://localhost:8080/"
        },
        "outputId": "336fe5db-e140-410b-ad0b-44394742931c"
      },
      "execution_count": 9,
      "outputs": [
        {
          "output_type": "stream",
          "name": "stdout",
          "text": [
            "Embeddings have already been copied.\n"
          ]
        }
      ]
    },
    {
      "cell_type": "code",
      "source": [
        "# Specify metadata tables.\n",
        "clips_csv_path = f'{data_dir}/clips.csv'\n",
        "frame_selection_path = f'{data_dir}/Selected frames/{dataset_name}_{frame_selection_method}.csv'\n",
        "\n",
        "clips_df = pd.read_csv(clips_csv_path)\n",
        "frames_df = pd.read_csv(frame_selection_path, index_col='video')"
      ],
      "metadata": {
        "id": "e27jTxyIhybz"
      },
      "execution_count": 10,
      "outputs": []
    },
    {
      "cell_type": "code",
      "source": [
        "# Load video embeddings and labels\n",
        "nr_clips = len(clips_df)\n",
        "progress = 0\n",
        "\n",
        "X_train = []  # Embeddings\n",
        "X_test = []\n",
        "y_train = []  # Labels\n",
        "y_test = []\n",
        "\n",
        "video_names_train = []  # Video names for saving predictions\n",
        "video_names_test = []\n",
        "\n",
        "not_found_embeddings = []\n",
        "\n",
        "for index, row in clips_df.iterrows():\n",
        "  skip_to_next = False\n",
        "\n",
        "  video_name = row['video'].replace('.mp4', '')\n",
        "  labels = [int(label) for label in eval(row['labels'])]    # Reading label numbers.\n",
        "\n",
        "  embedding_path = f'{local_embeddings_dir}/{video_name}'\n",
        "\n",
        "  if video_name in video_names_train or video_name in video_names_test:\n",
        "    continue      # Skip embeddings which have already been read.\n",
        "\n",
        "  if not os.path.exists(embedding_path):\n",
        "    not_found_embeddings.append((video_name, 'all'))\n",
        "\n",
        "    progress += 1\n",
        "\n",
        "    clear_output(wait=True)\n",
        "    print(f'Number of videos: {nr_clips}')\n",
        "    print(f'Progress: {progress/nr_clips * 100:.2f}%')\n",
        "\n",
        "    continue\n",
        "\n",
        "  frames = eval(frames_df['frames'][f'{video_name}.mp4'])\n",
        "\n",
        "  embedding = []\n",
        "\n",
        "  for frame_idx in frames:\n",
        "    frame_embedding_path = f'{embedding_path}/{video_name}_{frame_idx}.npy'\n",
        "\n",
        "    if not os.path.exists(frame_embedding_path):\n",
        "      not_found_embeddings.append((video_name, frame_idx))\n",
        "\n",
        "      skip_to_next = True   # Skip to next video\n",
        "\n",
        "      break\n",
        "\n",
        "    try:\n",
        "      frame_embedding = np.load(frame_embedding_path)\n",
        "\n",
        "    except:\n",
        "      print(video_name, 'Unable to load an embedding.')\n",
        "      break\n",
        "\n",
        "    embedding.append(frame_embedding)\n",
        "\n",
        "  if skip_to_next:\n",
        "    progress += 1\n",
        "\n",
        "    clear_output(wait=True)\n",
        "    print(f'Number of videos: {nr_clips}')\n",
        "    print(f'Progress: {progress/nr_clips * 100:.2f}%')\n",
        "\n",
        "    continue\n",
        "\n",
        "  # Concatenate frame embeddings into numpy feature array.\n",
        "  np_embedding = np.concatenate(embedding)\n",
        "\n",
        "  # Create labels array: length of the number of classes, with 1s in the positions\n",
        "  # which classes apply and 0s elsewhere.\n",
        "  labels_array = np.zeros(nr_classes, dtype=int)\n",
        "\n",
        "  positive_positions = [label - 1 for label in labels]    # Positions in which the labels array must contain a 1 (due to 0 indexing).\n",
        "\n",
        "  labels_array[positive_positions] = 1    # Setting the positive classes in the labels array.\n",
        "\n",
        "  # Append instance to the appropriate split.\n",
        "  if row['type'] == 'train':\n",
        "    X_train.append(np_embedding)\n",
        "    y_train.append(labels_array)\n",
        "    video_names_train.append(video_name)\n",
        "\n",
        "  elif row['type'] == 'test':\n",
        "    X_test.append(np_embedding)\n",
        "    y_test.append(labels_array)\n",
        "    video_names_test.append(video_name)\n",
        "\n",
        "  progress += 1\n",
        "\n",
        "  clear_output(wait=True)\n",
        "  print(f'Number of videos: {nr_clips}')\n",
        "  print(f'Progress: {progress/nr_clips * 100:.2f}%')"
      ],
      "metadata": {
        "id": "TuOIIoVy2AC3",
        "colab": {
          "base_uri": "https://localhost:8080/"
        },
        "outputId": "ea9c2129-56c9-4588-f8c6-a0ab42d21ab4"
      },
      "execution_count": 11,
      "outputs": [
        {
          "output_type": "stream",
          "name": "stdout",
          "text": [
            "Number of videos: 1000\n",
            "Progress: 100.00%\n"
          ]
        }
      ]
    },
    {
      "cell_type": "code",
      "source": [
        "# Check if all embeddings were successfully loaded.\n",
        "if len(not_found_embeddings) > 0:\n",
        "  print(f' WARNING: Failed to find embeddings for {len(set(([item[0] for item in not_found_embeddings])))} videos.')\n",
        "\n",
        "else:\n",
        "  print('Success! All embeddings read.')"
      ],
      "metadata": {
        "id": "UbT6MVGK7vbX",
        "colab": {
          "base_uri": "https://localhost:8080/"
        },
        "outputId": "85b606bc-638f-4ee6-ce3b-a2ea9aa6942d"
      },
      "execution_count": 12,
      "outputs": [
        {
          "output_type": "stream",
          "name": "stdout",
          "text": [
            "Success! All embeddings read.\n"
          ]
        }
      ]
    },
    {
      "cell_type": "code",
      "source": [
        "# Check if all embeddings have the required input size and pad the ones which do not.\n",
        "X_train_original = X_train.copy()\n",
        "X_test_original = X_test.copy()\n",
        "y_train_original = y_train.copy()\n",
        "y_test_original = y_test.copy()\n",
        "video_names_train_original = video_names_train.copy()\n",
        "video_names_test_original = video_names_test.copy()\n",
        "\n",
        "X_train = []\n",
        "X_test = []\n",
        "y_train = []\n",
        "y_test = []\n",
        "video_names_train = []\n",
        "video_names_test = []\n",
        "\n",
        "padded_train = 0\n",
        "padded_test = 0\n",
        "\n",
        "for i, array in enumerate(X_train_original):\n",
        "  if len(array) == input_size:\n",
        "    X_train.append(array)\n",
        "\n",
        "  elif len(array) < input_size:\n",
        "    difference = input_size - len(array)\n",
        "\n",
        "    padding_size_beginning = difference // 2 + ((difference % 2) * 1)\n",
        "    padding_size_end = difference // 2\n",
        "\n",
        "    padded_array = np.pad(array, (padding_size_beginning, padding_size_end), \\\n",
        "                          mode='constant', constant_values=(0, 0))\n",
        "\n",
        "    X_train.append(padded_array)\n",
        "\n",
        "    padded_train += 1\n",
        "\n",
        "  y_train.append(y_train_original[i])\n",
        "  video_names_train.append(video_names_train_original[i])\n",
        "\n",
        "for i, array in enumerate(X_test_original):\n",
        "  if len(array) == input_size:\n",
        "    X_test.append(array)\n",
        "\n",
        "  elif len(array) < input_size:\n",
        "    difference = input_size - len(array)\n",
        "\n",
        "    padding_size_beginning = difference // 2 + ((difference % 2) * 1)\n",
        "    padding_size_end = difference // 2\n",
        "\n",
        "    padded_array = np.pad(array, (padding_size_beginning, padding_size_end), \\\n",
        "                           mode='constant', constant_values=(0, 0))\n",
        "\n",
        "    X_test.append(padded_array)\n",
        "\n",
        "    padded_test += 1\n",
        "\n",
        "  y_test.append(y_test_original[i])\n",
        "  video_names_test.append(video_names_test_original[i])"
      ],
      "metadata": {
        "id": "X9M-a9FjSTGu"
      },
      "execution_count": 13,
      "outputs": []
    },
    {
      "cell_type": "code",
      "source": [
        "# Check if any embeddings had to be removed.\n",
        "print(f'{padded_train} embeddings were padded in training set due to incorrect embedding size.')\n",
        "print(f'{padded_test} embeddings were padded in test set due to incorrect embedding size.')"
      ],
      "metadata": {
        "id": "_XFITK_OUDT3",
        "colab": {
          "base_uri": "https://localhost:8080/"
        },
        "outputId": "f1ec60aa-3466-463d-dd31-a8cb541418c4"
      },
      "execution_count": 14,
      "outputs": [
        {
          "output_type": "stream",
          "name": "stdout",
          "text": [
            "16 embeddings were padded in training set due to incorrect embedding size.\n",
            "3 embeddings were padded in test set due to incorrect embedding size.\n"
          ]
        }
      ]
    },
    {
      "cell_type": "code",
      "source": [
        "# Converting to numpy.\n",
        "X_train = np.array(X_train)\n",
        "X_test = np.array(X_test)\n",
        "y_train = np.array(y_train)\n",
        "y_test = np.array(y_test)"
      ],
      "metadata": {
        "id": "UEX2lL9Rlj0G"
      },
      "execution_count": 15,
      "outputs": []
    },
    {
      "cell_type": "code",
      "source": [
        "# Remove classes which are not represented in the sample.\n",
        "\n",
        "# Identify label columns in the target arrays which only contain 0s.\n",
        "all_labels = np.concatenate((y_train, y_test), axis=0)\n",
        "\n",
        "zero_label_columns = np.all(all_labels == 0, axis=0)\n",
        "\n",
        "# Save these labels as a list.\n",
        "zero_labels = np.where(zero_label_columns)[0].tolist()\n",
        "\n",
        "zero_labels = sorted([label + 1 for label in zero_labels])    # Adjust for 0 indexing and sort.\n",
        "\n",
        "# Remove these columns from the target arrays.\n",
        "y_train = y_train[:, ~zero_label_columns]\n",
        "y_test = y_test[:, ~zero_label_columns]\n",
        "\n",
        "actual_nr_classes = y_train.shape[1]\n",
        "print(f'Actual number of classes: {actual_nr_classes}')\n",
        "print()\n",
        "\n",
        "print(f'New shape of target arrays:')\n",
        "print(f'Train: {y_train.shape}')\n",
        "print(f'Test: {y_test.shape}')"
      ],
      "metadata": {
        "id": "-bL-8TqWiwkD",
        "colab": {
          "base_uri": "https://localhost:8080/"
        },
        "outputId": "d2eff8b0-fd2c-4d97-dff2-fc4a842c5e58"
      },
      "execution_count": 16,
      "outputs": [
        {
          "output_type": "stream",
          "name": "stdout",
          "text": [
            "Actual number of classes: 93\n",
            "\n",
            "New shape of target arrays:\n",
            "Train: (797, 93)\n",
            "Test: (203, 93)\n"
          ]
        }
      ]
    },
    {
      "cell_type": "code",
      "source": [
        "# Handle class imbalance through class weights (stored in a numpy array).\n",
        "# For this, class weights will be defined as the inverse of their frequencies.\n",
        "\n",
        "# Compute the frequency of each class\n",
        "class_frequencies = np.sum(y_train, axis=0)\n",
        "\n",
        "# Compute the total number of samples\n",
        "n_samples = y_train.shape[0]\n",
        "\n",
        "# Compute class weights as the inverse of class frequencies\n",
        "# Use epsilon as a smoothing parameter to avoid problems with 0 division.\n",
        "epsilon = 10e-6\n",
        "\n",
        "class_weights = n_samples / (actual_nr_classes * (class_frequencies + epsilon))\n",
        "\n",
        "# Create array of sample weights, which uses the maximum class weight of\n",
        "# each sample as their weight.\n",
        "\n",
        "# Initialize sample weights array as 1 for every sample.\n",
        "sample_weights = np.ones((y_train.shape[0],))\n",
        "\n",
        "for i in range(y_train.shape[0]):   # For each training instance\n",
        "    # Collect class weights which apply to this instance.\n",
        "    active_weights = [class_weights[j] for j in range(y_train.shape[1]) if y_train[i, j] == 1]\n",
        "\n",
        "    if active_weights:  # Check if there are any classes which apply.\n",
        "        sample_weights[i] = np.max(active_weights)"
      ],
      "metadata": {
        "id": "59L6EKye3CCY"
      },
      "execution_count": 17,
      "outputs": []
    },
    {
      "cell_type": "markdown",
      "source": [
        "## Cross-validate model"
      ],
      "metadata": {
        "id": "R30ljSCIHvQL"
      }
    },
    {
      "cell_type": "code",
      "source": [
        "## FUNCTIONS FOR MODEL CROSS-VALIDATION.\n",
        "\n",
        "import numpy as np\n",
        "from keras.models import Sequential\n",
        "from keras.layers import Dense, Dropout\n",
        "from keras.optimizers import Adam\n",
        "from sklearn.model_selection import StratifiedKFold, KFold\n",
        "from sklearn.metrics import average_precision_score\n",
        "from IPython.display import clear_output\n",
        "\n",
        "# Function to calculate mAP (taken directly from Animal Kingdom).\n",
        "def get_map(preds, labels):\n",
        "  \"\"\"\n",
        "  Compute mAP for multi-label case.\n",
        "  Args:\n",
        "      preds (numpy tensor): num_examples x num_classes.\n",
        "      labels (numpy tensor): num_examples x num_classes.\n",
        "  Returns:\n",
        "      mean_ap (int): final mAP score.\n",
        "  https://github.com/facebookresearch/SlowFast/blob/2090f2918ac1ce890fdacd8fda2e590a46d5c734/slowfast/utils/meters.py#L231\n",
        "  \"\"\"\n",
        "  preds = preds[:, ~(np.all(labels == 0, axis=0))]\n",
        "  labels = labels[:, ~(np.all(labels == 0, axis=0))]\n",
        "  aps = [0]\n",
        "  try:\n",
        "      aps = average_precision_score(labels, preds, average=None)\n",
        "  except ValueError:\n",
        "      print(\n",
        "          \"Average precision requires a sufficient number of samples \\\n",
        "          in a batch which are missing in this sample.\"\n",
        "      )\n",
        "  mean_ap = np.mean(aps)\n",
        "  return mean_ap\n",
        "\n",
        "def create_shallow_network(input_dim, hidden_layers, dropout_rate, learning_rate):\n",
        "    model = Sequential()\n",
        "\n",
        "    # Dense input layer with ReLu\n",
        "    model.add(Dense(10, input_dim=input_dim, activation='relu'))\n",
        "\n",
        "    # Dense hidden layers with ReLu and dropout\n",
        "    for _ in range(hidden_layers):\n",
        "        model.add(Dense(128, activation='relu'))\n",
        "        model.add(Dropout(dropout_rate))\n",
        "\n",
        "    # Dense output layer with sigmoid activation\n",
        "    model.add(Dense(actual_nr_classes, activation='sigmoid'))\n",
        "\n",
        "    optimizer = Adam(learning_rate=learning_rate)\n",
        "\n",
        "    model.compile(loss='binary_crossentropy', optimizer=optimizer, metrics=['accuracy'])\n",
        "\n",
        "    return model\n",
        "\n",
        "def crossval_shallow_network(n_splits, input_dim, X, y, params_grid, \\\n",
        "                             verbose=False, random_state=seed):\n",
        "\n",
        "  kf = KFold(n_splits=n_splits, shuffle=True, random_state=42)\n",
        "\n",
        "  # Set up best result tracker for grid search loop\n",
        "  best_score = 0\n",
        "\n",
        "  best_params = {}\n",
        "\n",
        "  # Calculate number of runs for progress monitoring.\n",
        "  total_runs = 1\n",
        "\n",
        "  for params in params_grid.values():\n",
        "    total_runs *= len(params)\n",
        "\n",
        "  total_runs *= n_splits\n",
        "\n",
        "  progress = 0\n",
        "\n",
        "  # Grid search loop\n",
        "  for hidden_layers in params_grid['layers']:\n",
        "      for dropout_rate in params_grid['dropout_rate']:\n",
        "          for learning_rate in params_grid['learning_rate']:\n",
        "\n",
        "            scores = []\n",
        "\n",
        "            for train_index, test_index in kf.split(X):\n",
        "                X_train, X_test = X[train_index], X[test_index]\n",
        "                y_train, y_test = y[train_index], y[test_index]\n",
        "\n",
        "                # Create and fit the model\n",
        "                model = create_shallow_network(input_dim, hidden_layers, \\\n",
        "                                                dropout_rate, learning_rate)\n",
        "\n",
        "                model.fit(X_train, y_train, epochs=10, verbose=0)\n",
        "\n",
        "                # Sigmoid output\n",
        "                y_pred_raw = model.predict(X_test)\n",
        "\n",
        "                # Calculate mAP.\n",
        "                score = get_map(y_pred_raw, y_test)\n",
        "\n",
        "                scores.append(score)\n",
        "\n",
        "                progress += 1\n",
        "\n",
        "                clear_output(wait=True)\n",
        "                print(f'Cross-validation progress: {progress / total_runs * 100:.2f}%')\n",
        "\n",
        "            average_score = np.mean(scores)\n",
        "\n",
        "            # Check if current model settings beat the current best\n",
        "            if average_score > best_score:\n",
        "                best_score = average_score\n",
        "                best_params = {'hidden_layers': hidden_layers,\n",
        "                              'dropout_rate': dropout_rate,\n",
        "                              'learning_rate': learning_rate\n",
        "                               }\n",
        "\n",
        "  # Print best parameters and their score\n",
        "  if verbose:\n",
        "    print(f\"\\nBest Score: {best_score:.4f}\")\n",
        "    print(\"Best Parameters:\", best_params)\n",
        "\n",
        "  return best_params"
      ],
      "metadata": {
        "id": "nvWC2RMgpMF6"
      },
      "execution_count": 18,
      "outputs": []
    },
    {
      "cell_type": "code",
      "source": [
        "# Selecting model.\n",
        "from sklearn.model_selection import GridSearchCV\n",
        "\n",
        "best_params = crossval_shallow_network(cv_folds, input_size, X_train, \\\n",
        "                                        y_train, param_grid['ShallowNetwork'],\\\n",
        "                                       verbose=True)\n",
        "\n",
        "model = create_shallow_network(input_size, best_params['hidden_layers'], \\\n",
        "                              best_params['dropout_rate'], best_params['learning_rate'])"
      ],
      "metadata": {
        "id": "NE1joIrK3I6_",
        "colab": {
          "base_uri": "https://localhost:8080/"
        },
        "outputId": "9d296399-39ee-4131-dc9e-c149830229e1"
      },
      "execution_count": 19,
      "outputs": [
        {
          "output_type": "stream",
          "name": "stdout",
          "text": [
            "Cross-validation progress: 100.00%\n",
            "\n",
            "Best Score: 0.2001\n",
            "Best Parameters: {'hidden_layers': 3, 'dropout_rate': 0.0, 'learning_rate': 0.001}\n"
          ]
        }
      ]
    },
    {
      "cell_type": "code",
      "source": [
        "# Train model on the training set.\n",
        "model.fit(X_train, y_train, sample_weight=sample_weights, epochs=10)"
      ],
      "metadata": {
        "id": "Nn0TwY8yIbhx",
        "colab": {
          "base_uri": "https://localhost:8080/"
        },
        "outputId": "8b9ef8f4-e8da-48c2-e586-7d59179d53f2"
      },
      "execution_count": 20,
      "outputs": [
        {
          "output_type": "stream",
          "name": "stdout",
          "text": [
            "Epoch 1/10\n",
            "25/25 [==============================] - 2s 5ms/step - loss: 0.2544 - accuracy: 0.0728\n",
            "Epoch 2/10\n",
            "25/25 [==============================] - 0s 4ms/step - loss: 0.1197 - accuracy: 0.0828\n",
            "Epoch 3/10\n",
            "25/25 [==============================] - 0s 4ms/step - loss: 0.0879 - accuracy: 0.1041\n",
            "Epoch 4/10\n",
            "25/25 [==============================] - 0s 4ms/step - loss: 0.0749 - accuracy: 0.1054\n",
            "Epoch 5/10\n",
            "25/25 [==============================] - 0s 4ms/step - loss: 0.0671 - accuracy: 0.1142\n",
            "Epoch 6/10\n",
            "25/25 [==============================] - 0s 4ms/step - loss: 0.0625 - accuracy: 0.1368\n",
            "Epoch 7/10\n",
            "25/25 [==============================] - 0s 4ms/step - loss: 0.0578 - accuracy: 0.1920\n",
            "Epoch 8/10\n",
            "25/25 [==============================] - 0s 4ms/step - loss: 0.0534 - accuracy: 0.1731\n",
            "Epoch 9/10\n",
            "25/25 [==============================] - 0s 4ms/step - loss: 0.0520 - accuracy: 0.1769\n",
            "Epoch 10/10\n",
            "25/25 [==============================] - 0s 4ms/step - loss: 0.0490 - accuracy: 0.1782\n"
          ]
        },
        {
          "output_type": "execute_result",
          "data": {
            "text/plain": [
              "<keras.src.callbacks.History at 0x7b631e3c9ff0>"
            ]
          },
          "metadata": {},
          "execution_count": 20
        }
      ]
    },
    {
      "cell_type": "code",
      "source": [
        "# Make predictions.\n",
        "y_pred_raw = model.predict(X_test)"
      ],
      "metadata": {
        "id": "tMTqwQYe4EC5",
        "colab": {
          "base_uri": "https://localhost:8080/"
        },
        "outputId": "fe68e621-6206-4d82-9615-7e8e712289b7"
      },
      "execution_count": 21,
      "outputs": [
        {
          "output_type": "stream",
          "name": "stdout",
          "text": [
            "7/7 [==============================] - 0s 2ms/step\n"
          ]
        }
      ]
    },
    {
      "cell_type": "code",
      "source": [
        "# Calculate mAP.\n",
        "map = get_map(y_pred_raw, y_test)\n",
        "\n",
        "best_params['mAP'] = map\n",
        "\n",
        "print(f'Mean average precision: {map}')"
      ],
      "metadata": {
        "id": "_RnApChTY9wN",
        "colab": {
          "base_uri": "https://localhost:8080/"
        },
        "outputId": "44cb28e4-e158-40bd-a05f-db3ee850144a"
      },
      "execution_count": 22,
      "outputs": [
        {
          "output_type": "stream",
          "name": "stdout",
          "text": [
            "Mean average precision: 0.24600086538509766\n"
          ]
        }
      ]
    },
    {
      "cell_type": "code",
      "source": [
        "# Find best threshold to classify instance as positive for some label.\n",
        "from sklearn.metrics import f1_score\n",
        "\n",
        "y_train_pred_raw = model.predict(X_train)\n",
        "\n",
        "thresholds = [i / 10 for i in range(1,10)]\n",
        "\n",
        "best_score = 0\n",
        "\n",
        "best_threshold = None\n",
        "\n",
        "for threshold in thresholds:\n",
        "  y_train_pred = (y_train_pred_raw > threshold).astype(int)\n",
        "\n",
        "  score = f1_score(y_train_pred, y_train, average='micro')\n",
        "\n",
        "  if score > best_score:\n",
        "    best_score = map\n",
        "\n",
        "    best_threshold = threshold\n",
        "\n",
        "best_params['pos_threshold'] = best_threshold\n",
        "\n",
        "print(f'Best threshold for micro accuracy: {best_threshold}')\n",
        "print(f'Score: {best_score}')"
      ],
      "metadata": {
        "id": "e_gMhSK5VB3u",
        "colab": {
          "base_uri": "https://localhost:8080/"
        },
        "outputId": "b478d9ed-d414-4561-cf31-a8f02777d2ce"
      },
      "execution_count": 23,
      "outputs": [
        {
          "output_type": "stream",
          "name": "stdout",
          "text": [
            "25/25 [==============================] - 0s 2ms/step\n",
            "Best threshold for micro accuracy: 0.6\n",
            "Score: 0.24600086538509766\n"
          ]
        }
      ]
    },
    {
      "cell_type": "code",
      "source": [
        "# Saving best hyperparameters.\n",
        "best_params_df = pd.DataFrame([best_params])\n",
        "\n",
        "params_output_path = os.path.join(output_dir, 'Parameters')\n",
        "\n",
        "os.makedirs(params_output_path, exist_ok=True)\n",
        "\n",
        "params_csv_path = os.path.join(output_dir, f'Parameters/params_{dataset_name}_{frame_selection_method}_{embedding_method}_{image_size}.csv')\n",
        "\n",
        "best_params_df.to_csv(params_csv_path, index=False)"
      ],
      "metadata": {
        "id": "o4u-3kZUATgz"
      },
      "execution_count": 24,
      "outputs": []
    },
    {
      "cell_type": "markdown",
      "source": [
        "## Predictions and testing"
      ],
      "metadata": {
        "id": "yMXGX5HiBOcr"
      }
    },
    {
      "cell_type": "markdown",
      "source": [
        "## Save predictions for each instance of the test set."
      ],
      "metadata": {
        "id": "HwjnevSxD7Mk"
      }
    },
    {
      "cell_type": "code",
      "source": [
        "# Prepare DataFrame with video names and predictions.\n",
        "predictions_df = pd.DataFrame({\n",
        "    'video': video_names_test,\n",
        "    'prediction': [list(predictions) for predictions in y_pred_raw],\n",
        "    'labels' : [list(labels) for labels in y_test]\n",
        "})\n",
        "\n",
        "# Create predictions output directory.\n",
        "pred_output_path = os.path.join(output_dir, 'Predictions')\n",
        "os.makedirs(pred_output_path, exist_ok=True)\n",
        "\n",
        "# Save predictions.\n",
        "predictions_csv_path = os.path.join(pred_output_path, f'pred_{dataset_name}_{frame_selection_method}_{embedding_method}_{image_size}.csv')\n",
        "predictions_df.to_csv(predictions_csv_path, index=False)"
      ],
      "metadata": {
        "id": "jSTHAae23wqp"
      },
      "execution_count": 25,
      "outputs": []
    },
    {
      "cell_type": "code",
      "source": [
        "# Copy prediction files to Drive.\n",
        "for file in os.listdir(f'{output_dir}/Predictions'):\n",
        "  source_file = os.path.join(f'{output_dir}/Predictions', file)\n",
        "\n",
        "  if file.startswith('pred'):   # Only consider prediction outputs.\n",
        "    drive_output_dir = f\"/content/drive/My Drive/UvA/M Thesis/Data/Results/Predictions\"\n",
        "\n",
        "    if not os.path.exists(drive_output_dir):\n",
        "      os.makedirs(drive_output_dir)\n",
        "\n",
        "    destination = f'{drive_output_dir}/{file}'\n",
        "\n",
        "    # Overwrite existing file.\n",
        "    if os.path.exists(destination):\n",
        "      os.remove(destination)\n",
        "\n",
        "    shutil.copy(source_file, destination)\n",
        "\n",
        "for file in os.listdir(f'{output_dir}/Parameters'):\n",
        "  source_file = os.path.join(f'{output_dir}/Parameters', file)\n",
        "\n",
        "  if file.startswith('params'):   # Only consider parameter outputs.\n",
        "    drive_output_dir = f\"/content/drive/My Drive/UvA/M Thesis/Data/Results/Parameters\"\n",
        "\n",
        "    if not os.path.exists(drive_output_dir):\n",
        "      os.makedirs(drive_output_dir)\n",
        "\n",
        "    destination = f'{drive_output_dir}/{file}'\n",
        "\n",
        "    # Overwrite existing file.\n",
        "    if os.path.exists(destination):\n",
        "      os.remove(destination)\n",
        "\n",
        "    shutil.copy(source_file, destination)"
      ],
      "metadata": {
        "id": "5ABTeEmc9UCw"
      },
      "execution_count": 26,
      "outputs": []
    },
    {
      "cell_type": "markdown",
      "source": [
        "## Classification report on the complete test set"
      ],
      "metadata": {
        "id": "B6eZ4Eg9EKAQ"
      }
    },
    {
      "cell_type": "code",
      "source": [
        "# Turn sigmoid predictions into binary ones.\n",
        "y_pred = (y_pred_raw > best_params['pos_threshold']).astype(int)"
      ],
      "metadata": {
        "id": "pKqRVkms8oy9"
      },
      "execution_count": 27,
      "outputs": []
    },
    {
      "cell_type": "code",
      "source": [
        "# Display metrics.\n",
        "from sklearn.metrics import accuracy_score\n",
        "print(f'Mean average precision: {map * 100:.2f}%')\n",
        "print(f'Accuracy: {accuracy_score(y_test, y_pred) * 100:.2f}%')"
      ],
      "metadata": {
        "id": "6IFiOrrMoclB",
        "colab": {
          "base_uri": "https://localhost:8080/"
        },
        "outputId": "c10c4644-69e3-44a0-f682-a482c1d6d703"
      },
      "execution_count": 28,
      "outputs": [
        {
          "output_type": "stream",
          "name": "stdout",
          "text": [
            "Mean average precision: 24.60%\n",
            "Accuracy: 0.49%\n"
          ]
        }
      ]
    },
    {
      "cell_type": "code",
      "source": [
        "# Producing classification report.\n",
        "report = classification_report(y_test, y_pred)\n",
        "\n",
        "# print(report)"
      ],
      "metadata": {
        "id": "R_4E06J24Gm7",
        "colab": {
          "base_uri": "https://localhost:8080/"
        },
        "outputId": "af852b9f-d02f-487d-f040-d1e00976ea3d"
      },
      "execution_count": 29,
      "outputs": [
        {
          "output_type": "stream",
          "name": "stderr",
          "text": [
            "/usr/local/lib/python3.10/dist-packages/sklearn/metrics/_classification.py:1344: UndefinedMetricWarning: Precision and F-score are ill-defined and being set to 0.0 in labels with no predicted samples. Use `zero_division` parameter to control this behavior.\n",
            "  _warn_prf(average, modifier, msg_start, len(result))\n",
            "/usr/local/lib/python3.10/dist-packages/sklearn/metrics/_classification.py:1344: UndefinedMetricWarning: Recall and F-score are ill-defined and being set to 0.0 in labels with no true samples. Use `zero_division` parameter to control this behavior.\n",
            "  _warn_prf(average, modifier, msg_start, len(result))\n",
            "/usr/local/lib/python3.10/dist-packages/sklearn/metrics/_classification.py:1344: UndefinedMetricWarning: Precision and F-score are ill-defined and being set to 0.0 in samples with no predicted labels. Use `zero_division` parameter to control this behavior.\n",
            "  _warn_prf(average, modifier, msg_start, len(result))\n"
          ]
        }
      ]
    },
    {
      "cell_type": "markdown",
      "source": [
        "## Diagnostics"
      ],
      "metadata": {
        "id": "mgYiykibo1M_"
      }
    },
    {
      "cell_type": "code",
      "source": [
        "# Show distribution of classes in the sample.\n",
        "import matplotlib.pyplot as plt\n",
        "\n",
        "# Number of samples for each label.\n",
        "samples_count = np.sum(all_labels, axis=0)\n",
        "\n",
        "sorted_counts = sorted(list(samples_count), reverse=True)\n",
        "\n",
        "# Generate bar chart\n",
        "plt.bar(np.arange(len(sorted_counts)), sorted_counts, color='cornflowerblue')\n",
        "plt.title('Distribution of Samples per Label')\n",
        "plt.xlabel('Label rank')\n",
        "plt.ylabel('Number of Samples')\n",
        "plt.show()"
      ],
      "metadata": {
        "id": "WhZUNFNho28M",
        "colab": {
          "base_uri": "https://localhost:8080/",
          "height": 472
        },
        "outputId": "14aa1d40-7f93-4c9f-a960-dc766f69d3fd"
      },
      "execution_count": 30,
      "outputs": [
        {
          "output_type": "display_data",
          "data": {
            "text/plain": [
              "<Figure size 640x480 with 1 Axes>"
            ],
            "image/png": "[encoded data removed]"
          },
          "metadata": {}
        }
      ]
    }
  ]
}