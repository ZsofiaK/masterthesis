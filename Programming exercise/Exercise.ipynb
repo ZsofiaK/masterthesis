{
  "cells": [
    {
      "cell_type": "markdown",
      "metadata": {
        "colab_type": "text",
        "id": "view-in-github"
      },
      "source": [
        "<a href=\"https://colab.research.google.com/github/ZsofiaK/masterthesis/blob/main/Programming%20exercise/Exercise.ipynb\" target=\"_parent\"><img src=\"https://colab.research.google.com/assets/colab-badge.svg\" alt=\"Open In Colab\"/></a>"
      ]
    },
    {
      "cell_type": "markdown",
      "metadata": {
        "id": "mYaZ5Y-xTesK"
      },
      "source": [
        "## Kick-off Programming Exercise\n",
        "Preparation for Master's Thesis - Zsófia Katona\n",
        "\n",
        "This notebook contains the implementation of a simple two-layer neural network."
      ]
    },
    {
      "cell_type": "code",
      "execution_count": 1,
      "metadata": {
        "id": "G3OvBFKgTesS"
      },
      "outputs": [
        {
          "name": "stderr",
          "output_type": "stream",
          "text": [
            "2024-01-08 11:21:35.861415: I tensorflow/core/platform/cpu_feature_guard.cc:193] This TensorFlow binary is optimized with oneAPI Deep Neural Network Library (oneDNN) to use the following CPU instructions in performance-critical operations:  AVX2 FMA\n",
            "To enable them in other operations, rebuild TensorFlow with the appropriate compiler flags.\n"
          ]
        }
      ],
      "source": [
        "# Import libraries.\n",
        "\n",
        "import torch\n",
        "import torch.nn as nn\n",
        "import torch.optim as optim\n",
        "from torch.utils.data import DataLoader, TensorDataset\n",
        "from torch.utils.tensorboard import SummaryWriter\n",
        "\n",
        "from sklearn.model_selection import train_test_split\n",
        "\n",
        "from matplotlib import pyplot as plt"
      ]
    },
    {
      "cell_type": "markdown",
      "metadata": {
        "id": "KqbpfvbcTesf"
      },
      "source": [
        "## Generating input data\n",
        "\n",
        "We use *n* samples of 3-dimensional data with width x height x channel = W x H x C (e.g., a colored image with a resolution of W x H pixels).\n",
        "\n",
        "The labels come from the set [0, 1, ..., K-1].\n",
        "\n",
        "The sample is randomly generated."
      ]
    },
    {
      "cell_type": "code",
      "execution_count": null,
      "metadata": {
        "id": "QmrhNzi3Tesg"
      },
      "outputs": [],
      "source": [
        "# Setting the properties of the sample.\n",
        "n = 1000\n",
        "W = 4\n",
        "H = 5\n",
        "C = 3\n",
        "K = 3\n",
        "\n",
        "# Generating input data.\n",
        "data = torch.randn(n, C, W, H)\n",
        "\n",
        "# Generating labels.\n",
        "labels = torch.randint(0, K, (n,))\n",
        "\n",
        "X_train, X_test, y_train, y_test = train_test_split(data, labels, test_size=0.2, random_state=23)"
      ]
    },
    {
      "cell_type": "markdown",
      "metadata": {
        "id": "SFYJQdC4TesV"
      },
      "source": [
        "## Defining our model\n",
        "\n",
        "Our model is a 2-layer neural network with the following layers:\n",
        "1. 2D Convolutional Layer with ReLU activation\n",
        "2. Fully connected layer"
      ]
    },
    {
      "cell_type": "code",
      "execution_count": null,
      "metadata": {
        "id": "Kgu6lmrCTesV"
      },
      "outputs": [],
      "source": [
        "class TwoLayerNetwork(nn.Module):\n",
        "    '''A 2-layer neural network with 2D Convolution + ReLU + Fully Connected Layer.'''\n",
        "\n",
        "    def __init__(self):\n",
        "        super().__init__()\n",
        "        self.conv1 = nn.Conv2d(in_channels=3, out_channels=64, kernel_size=3, padding='same')\n",
        "        self.relu = nn.ReLU()\n",
        "        self.flatten = nn.Flatten()\n",
        "        self.fc1 = nn.Linear(64 * W * H, K)\n",
        "\n",
        "    def forward(self, input):\n",
        "        output = self.conv1(input)\n",
        "        output = self.relu(output)\n",
        "        output = self.flatten(output)\n",
        "        output = self.fc1(output)\n",
        "\n",
        "        return output"
      ]
    },
    {
      "cell_type": "markdown",
      "metadata": {
        "id": "DTt_qL4STesW"
      },
      "source": [
        "## Defining training function\n",
        "\n",
        "The following function performs training of a given model with the specified methods and parameters."
      ]
    },
    {
      "cell_type": "code",
      "execution_count": null,
      "metadata": {
        "id": "oedZcB-WTesX"
      },
      "outputs": [],
      "source": [
        "def train(model, dataloader, criterion, optimizer, epoch, writer):\n",
        "    '''Trains a model with the given methods and parameters.\n",
        "    :param: model: the model to train.\n",
        "    :param: dataloader: a DataLoader object based on the tensor dataset used for training.\n",
        "    :param: criterion: the loss term used for training.\n",
        "    :param: optimizer: the optimizer to use for the gradient.\n",
        "    :param: epoch: the number of the epoch in the training process.\n",
        "    :param: writer: a SummaryWriter object for visualization in TensorBoard.\n",
        "    '''\n",
        "\n",
        "    # Setting model to training mode.\n",
        "    model.train()\n",
        "\n",
        "    running_loss = 0.0\n",
        "    correct = 0\n",
        "    total = 0\n",
        "\n",
        "    for inputs, labels in dataloader:\n",
        "        # Setting parameter gradients to zero.\n",
        "        optimizer.zero_grad()\n",
        "\n",
        "        # Forward pass + backward pass + setting new parameters.\n",
        "        outputs = model(inputs)\n",
        "        loss = criterion(outputs, labels)\n",
        "        loss.backward()\n",
        "        optimizer.step()\n",
        "\n",
        "        # Updating loss and number of total / correctly classified items.\n",
        "        running_loss += loss.item()\n",
        "\n",
        "        _, predicted = outputs.max(1)\n",
        "        total += labels.size(0)\n",
        "        correct += predicted.eq(labels).sum().item()\n",
        "\n",
        "    # Calculating accuracy and loss.\n",
        "    accuracy = 100.0 * correct / total\n",
        "    avg_loss = running_loss / len(dataloader)\n",
        "\n",
        "    # Displaying in TensorBoard.\n",
        "    writer.add_scalar('Train/Loss', avg_loss, epoch)\n",
        "    writer.add_scalar('Train/Accuracy', accuracy, epoch)\n",
        "\n",
        "    print(f'Train Epoch: {epoch}, Loss: {avg_loss:.4f}, Accuracy: {accuracy:.2f}%')"
      ]
    },
    {
      "cell_type": "markdown",
      "metadata": {
        "id": "mponO5S_TesY"
      },
      "source": [
        "## Defining evaluation function\n",
        "\n",
        "The following function performs evaluation of a given model using the specified criteria."
      ]
    },
    {
      "cell_type": "code",
      "execution_count": null,
      "metadata": {
        "id": "cLxWMmQhTesZ"
      },
      "outputs": [],
      "source": [
        "def evaluate(model, dataloader, criterion, epoch, writer):\n",
        "    '''Evaluates a model using the specified criteria.\n",
        "    :param: model: the model to evaluate.\n",
        "    :param: dataloader: a DataLoader object based on the tensor dataset used for evaluation.\n",
        "    :param: criterion: the loss term used for evaluation.\n",
        "    :param: epoch: the number of the epoch in the evaluation process.\n",
        "    :param: writer: a SummaryWriter object for visualization in TensorBoard.\n",
        "    '''\n",
        "\n",
        "    # Setting model to evaluation mode.\n",
        "    model.eval()\n",
        "\n",
        "    running_loss = 0.0\n",
        "    correct = 0\n",
        "    total = 0\n",
        "\n",
        "    with torch.no_grad():  # Operations inside this block will not compute gradients\n",
        "        for inputs, labels in dataloader:\n",
        "            outputs = model(inputs)\n",
        "            loss = criterion(outputs, labels)\n",
        "\n",
        "            # Updating loss and number of total / correctly classified items.\n",
        "            running_loss += loss.item()\n",
        "\n",
        "            _, predicted = outputs.max(1)\n",
        "            total += labels.size(0)\n",
        "            correct += predicted.eq(labels).sum().item()\n",
        "\n",
        "    # Computing accuracy and loss.\n",
        "    accuracy = 100.0 * correct / total\n",
        "    avg_loss = running_loss / len(dataloader)\n",
        "\n",
        "    # Displaying in TensorBoard.\n",
        "    writer.add_scalar('Validation/Loss', avg_loss, epoch)\n",
        "    writer.add_scalar('Validation/Accuracy', accuracy, epoch)\n",
        "\n",
        "    print(f'Validation Epoch: {epoch}, Loss: {avg_loss:.4f}, Accuracy: {accuracy:.2f}%')"
      ]
    },
    {
      "cell_type": "markdown",
      "metadata": {
        "id": "nS0O0NTJTesa"
      },
      "source": [
        "## Defining functions to visualize activations\n",
        "\n",
        "The following function stores the activations of a layer in a network in the dictionary `activation`."
      ]
    },
    {
      "cell_type": "code",
      "execution_count": null,
      "metadata": {
        "id": "LYtHqkJSTesb"
      },
      "outputs": [],
      "source": [
        "# Creating dictionary to store activations in.\n",
        "activation = {}\n",
        "\n",
        "def get_activation(name):\n",
        "    '''Helps save the activations of a given layer in a network\n",
        "    by defining a function that registers this.\n",
        "    :param: name: the name of the layer.\n",
        "    '''\n",
        "\n",
        "    def hook(model, input, output):\n",
        "        '''Registers the activation of a layer.'''\n",
        "        activation[name] = output.detach()\n",
        "\n",
        "    return hook"
      ]
    },
    {
      "cell_type": "markdown",
      "metadata": {
        "id": "DjKEkHcWTesg"
      },
      "source": [
        "## Training + evaluating\n",
        "\n",
        "The following block of code performs the training and evaluation of our model, showing loss and accuracy in TensorBoard."
      ]
    },
    {
      "cell_type": "code",
      "execution_count": null,
      "metadata": {
        "id": "U2XWBqnKTesh",
        "outputId": "8c794622-fe3d-47e3-d599-688ba9953367"
      },
      "outputs": [
        {
          "name": "stdout",
          "output_type": "stream",
          "text": [
            "Train Epoch: 1, Loss: 1.1373, Accuracy: 33.50%\n",
            "Validation Epoch: 1, Loss: 1.0917, Accuracy: 42.00%\n",
            "Train Epoch: 2, Loss: 1.0466, Accuracy: 44.88%\n",
            "Validation Epoch: 2, Loss: 1.1072, Accuracy: 37.50%\n",
            "Train Epoch: 3, Loss: 1.0020, Accuracy: 50.25%\n",
            "Validation Epoch: 3, Loss: 1.1081, Accuracy: 39.50%\n",
            "Train Epoch: 4, Loss: 0.9494, Accuracy: 54.62%\n",
            "Validation Epoch: 4, Loss: 1.1502, Accuracy: 37.00%\n",
            "Train Epoch: 5, Loss: 0.9058, Accuracy: 58.00%\n",
            "Validation Epoch: 5, Loss: 1.1379, Accuracy: 38.00%\n",
            "Train Epoch: 6, Loss: 0.8742, Accuracy: 61.62%\n",
            "Validation Epoch: 6, Loss: 1.1534, Accuracy: 38.00%\n",
            "Train Epoch: 7, Loss: 0.8238, Accuracy: 64.75%\n",
            "Validation Epoch: 7, Loss: 1.1826, Accuracy: 36.50%\n",
            "Train Epoch: 8, Loss: 0.7902, Accuracy: 68.38%\n",
            "Validation Epoch: 8, Loss: 1.2528, Accuracy: 32.00%\n",
            "Train Epoch: 9, Loss: 0.7452, Accuracy: 73.12%\n",
            "Validation Epoch: 9, Loss: 1.1910, Accuracy: 40.00%\n",
            "Train Epoch: 10, Loss: 0.7032, Accuracy: 73.00%\n",
            "Validation Epoch: 10, Loss: 1.1920, Accuracy: 39.00%\n"
          ]
        }
      ],
      "source": [
        "# Setting up TensorBoard writer\n",
        "writer = SummaryWriter()\n",
        "\n",
        "# Setting up the model, a DataLoader objects with the input data (train + test),\n",
        "# the criterion used for computing loss, and the optimizier used for gradient descent\n",
        "model = TwoLayerNetwork()\n",
        "train_dataloader = DataLoader(TensorDataset(X_train, y_train), batch_size=10, shuffle=True)\n",
        "test_dataloader = DataLoader(TensorDataset(X_test, y_test), batch_size=10, shuffle=True)\n",
        "criterion = nn.CrossEntropyLoss()\n",
        "optimizer = optim.Adam(model.parameters(), lr=0.001)\n",
        "\n",
        "# Training and evaluation loop\n",
        "for epoch in range(1, 11):  # Using 10 epochs\n",
        "    train(model, train_dataloader, criterion, optimizer, epoch, writer)\n",
        "    evaluate(model, test_dataloader, criterion, epoch, writer)\n",
        "\n",
        "# Closing TensorBoard writer\n",
        "writer.close()"
      ]
    },
    {
      "cell_type": "markdown",
      "metadata": {
        "id": "htYsIu02Tesh"
      },
      "source": [
        "## Showing activations\n",
        "\n",
        "The following block of code stores and visualizes the activations of each layer in the network."
      ]
    },
    {
      "cell_type": "code",
      "execution_count": null,
      "metadata": {
        "id": "PpDtCdA4Tesh",
        "outputId": "d39a9a8e-b217-493b-be4c-1cd5f67bfb46"
      },
      "outputs": [
        {
          "data": {
            "text/plain": [
              "tensor([[ 0.0890, -0.6200, -0.8600],\n",
              "        [-0.9367, -1.2607,  1.2125],\n",
              "        [-0.9400, -1.1913,  0.0406],\n",
              "        ...,\n",
              "        [ 0.4149, -0.8159, -1.3584],\n",
              "        [-0.1502, -0.7644, -0.4221],\n",
              "        [-2.5045,  0.6273,  0.1814]])"
            ]
          },
          "execution_count": 11,
          "metadata": {},
          "output_type": "execute_result"
        }
      ],
      "source": [
        "# Declaring that there is no need for gradients.\n",
        "model.requires_grad_(False)\n",
        "\n",
        "# Storing activations.\n",
        "model.conv1.register_forward_hook(get_activation('conv1'))\n",
        "model.fc1.register_forward_hook(get_activation('fc1'))\n",
        "\n",
        "# Running a forward pass (without the need for gradients):\n",
        "model(X_train)"
      ]
    },
    {
      "cell_type": "code",
      "execution_count": null,
      "metadata": {
        "id": "d3jMUt_eTesi",
        "outputId": "34b59d1d-211e-4d48-fcef-76c08339adf1"
      },
      "outputs": [
        {
          "data": {
            "image/png": "[encoded data removed]",
            "text/plain": [
              "<Figure size 1500x300 with 5 Axes>"
            ]
          },
          "metadata": {},
          "output_type": "display_data"
        }
      ],
      "source": [
        "# Displaying activations of the convolutional layer.\n",
        "\n",
        "# Index of image to show the activation for.\n",
        "image_nr = 0\n",
        "\n",
        "# Number of channels to show.\n",
        "channel_nr = 5\n",
        "\n",
        "mm = activation['conv1'].cpu().numpy()\n",
        "\n",
        "fig, axs = plt.subplots(1, channel_nr, figsize=(15,3))\n",
        "\n",
        "for i in range(channel_nr):\n",
        "    axs[i].imshow(mm[image_nr, i, :, :], cmap='viridis')\n",
        "    axs[i].set_title(f'Channel {i + 1}')\n",
        "\n",
        "plt.suptitle(f'Activations of Convolutional Layer for Image {image_nr}', fontsize=16)\n",
        "plt.show(block=False)"
      ]
    }
  ],
  "metadata": {
    "colab": {
      "include_colab_link": true,
      "provenance": []
    },
    "kernelspec": {
      "display_name": "base",
      "language": "python",
      "name": "python3"
    },
    "language_info": {
      "codemirror_mode": {
        "name": "ipython",
        "version": 3
      },
      "file_extension": ".py",
      "mimetype": "text/x-python",
      "name": "python",
      "nbconvert_exporter": "python",
      "pygments_lexer": "ipython3",
      "version": "3.9.18"
    }
  },
  "nbformat": 4,
  "nbformat_minor": 0
}
