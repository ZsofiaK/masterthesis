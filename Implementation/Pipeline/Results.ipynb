{
  "nbformat": 4,
  "nbformat_minor": 0,
  "metadata": {
    "colab": {
      "provenance": [],
      "authorship_tag": "ABX9TyOpxVCN4FBmY52ge+l66zzF",
      "include_colab_link": true
    },
    "kernelspec": {
      "name": "python3",
      "display_name": "Python 3"
    },
    "language_info": {
      "name": "python"
    }
  },
  "cells": [
    {
      "cell_type": "markdown",
      "metadata": {
        "id": "view-in-github",
        "colab_type": "text"
      },
      "source": [
        "<a href=\"https://colab.research.google.com/github/ZsofiaK/masterthesis/blob/main/Implementation/Pipeline/Results.ipynb\" target=\"_parent\"><img src=\"https://colab.research.google.com/assets/colab-badge.svg\" alt=\"Open In Colab\"/></a>"
      ]
    },
    {
      "cell_type": "markdown",
      "source": [
        "# Results collection\n",
        "\n",
        "This notebook collects and presents the results of the experiments."
      ],
      "metadata": {
        "id": "isSzbgFapQfy"
      }
    },
    {
      "cell_type": "markdown",
      "source": [
        "## Preliminaries"
      ],
      "metadata": {
        "id": "H7qJEItmsqRz"
      }
    },
    {
      "cell_type": "code",
      "source": [
        "# Notebook parameters.\n",
        "\n",
        "n_bootstrap = 100   # Number of bootstrapped samples to take."
      ],
      "metadata": {
        "id": "SVJcpwYU4mSl"
      },
      "execution_count": null,
      "outputs": []
    },
    {
      "cell_type": "code",
      "execution_count": null,
      "metadata": {
        "id": "tGvL5pn3pPxw"
      },
      "outputs": [],
      "source": [
        "# Specifying directories where the results are stored.\n",
        "parameters_drive_dir = '/content/drive/MyDrive/UvA/M Thesis/Data/Results/Parameters'    # Best model parameters\n",
        "predictions_drive_dir = '/content/drive/MyDrive/UvA/M Thesis/Data/Results/Predictions'  # Predictions for test set"
      ]
    },
    {
      "cell_type": "code",
      "source": [
        "# Mount Drive.\n",
        "from google.colab import drive\n",
        "\n",
        "drive.mount('/content/drive')"
      ],
      "metadata": {
        "colab": {
          "base_uri": "https://localhost:8080/"
        },
        "id": "Qrg7vzXWreHS",
        "outputId": "d0579e21-be8d-4e13-a2cc-a8669dc5b64e"
      },
      "execution_count": null,
      "outputs": [
        {
          "output_type": "stream",
          "name": "stdout",
          "text": [
            "Mounted at /content/drive\n"
          ]
        }
      ]
    },
    {
      "cell_type": "code",
      "source": [
        "# Copy results to runtime.\n",
        "parameters_dir = '/content/Parameters'\n",
        "predictions_dir = '/content/Predictions'\n",
        "\n",
        "import shutil\n",
        "\n",
        "shutil.copytree(parameters_drive_dir, parameters_dir)\n",
        "shutil.copytree(predictions_drive_dir, predictions_dir)"
      ],
      "metadata": {
        "colab": {
          "base_uri": "https://localhost:8080/",
          "height": 35
        },
        "id": "Vj_329bfrk4n",
        "outputId": "2c77cbce-87b1-484a-bb99-22cfdf648303"
      },
      "execution_count": null,
      "outputs": [
        {
          "output_type": "execute_result",
          "data": {
            "text/plain": [
              "'/content/Predictions'"
            ],
            "application/vnd.google.colaboratory.intrinsic+json": {
              "type": "string"
            }
          },
          "metadata": {},
          "execution_count": 7
        }
      ]
    },
    {
      "cell_type": "code",
      "source": [
        "# Functions to process results\n",
        "\n",
        "import pandas as pd\n",
        "import numpy as np\n",
        "from sklearn.metrics import accuracy_score, recall_score, precision_score\n",
        "from sklearn.utils import resample\n",
        "\n",
        "def bootstrap_metrics(data, threshold, n_bootstrap=100, sample_size=50):\n",
        "    \"\"\"\n",
        "    Calculation of performance metrics based on bootstrapped test samples.\n",
        "    :param: data: a dataframe containing predictions.\n",
        "                  Must contain columns 'prediction' and 'label'.\n",
        "    :param: threshold: the threshold to use for positive predictions.\n",
        "    :param: n_bootstrap: the number of bootstrapping rounds.\n",
        "    :param: sample_size: the size of one bootstrapped sample.\n",
        "    :return: a dictionary containing the accuracy, recall, precision and their standard deviations.\n",
        "    \"\"\"\n",
        "    accuracy_scores = []\n",
        "    recall_scores = []\n",
        "    precision_scores = []\n",
        "\n",
        "    for _ in range(n_bootstrap):\n",
        "        # Resample the data with replacement\n",
        "        sample = resample(data, n_samples=sample_size)\n",
        "\n",
        "        # Convert probabilities to binary predictions based on threshold\n",
        "        predictions = (sample['prediction'] >= threshold).astype(int)\n",
        "        true_values = sample['label']\n",
        "\n",
        "        # Calculate metrics\n",
        "        accuracy_scores.append(accuracy_score(true_values, predictions))\n",
        "        recall_scores.append(recall_score(true_values, predictions))\n",
        "        precision_scores.append(precision_score(true_values, predictions, zero_division=0))\n",
        "\n",
        "    return {\n",
        "        'accuracy': (np.mean(accuracy_scores), np.std(accuracy_scores)),\n",
        "        'recall': (np.mean(recall_scores), np.std(recall_scores)),\n",
        "        'precision': (np.mean(precision_scores), np.std(precision_scores))\n",
        "    }"
      ],
      "metadata": {
        "id": "Y2P_49Jptcp7"
      },
      "execution_count": null,
      "outputs": []
    },
    {
      "cell_type": "code",
      "source": [
        "# Dictionaries for later ease of use.\n",
        "dataset_dict = {'fishClips' : 'Fish clips', 'AK-fish' : 'AK fish'}\n",
        "frameSelection_dict = {'evenly' : 'Evenly spaced', 'motionAbsdiff' : 'Motion based'}\n",
        "dino_dict = {'dinov2-vits14' : 'ViT-S/14', 'dinov2-vitg14' : 'ViT-G/14'}"
      ],
      "metadata": {
        "id": "OB_Y5ovqy4ST"
      },
      "execution_count": null,
      "outputs": []
    },
    {
      "cell_type": "markdown",
      "source": [
        "## AR results\n",
        "\n",
        "Comparing the performance of our model on the AR task with the baseline model MSQNet"
      ],
      "metadata": {
        "id": "dxsKJuZusK5Y"
      }
    },
    {
      "cell_type": "code",
      "source": [
        "import os\n",
        "\n",
        "results = []\n",
        "\n",
        "for pred_file in os.listdir(predictions_dir):\n",
        "\n",
        "  # Consider only prediction outputs files.\n",
        "  if pred_file.startswith('pred'):\n",
        "    predictions = pd.read_csv(f'{predictions_dir}/{pred_file}')\n",
        "\n",
        "  else:\n",
        "    continue\n",
        "\n",
        "  # Read the setup of the experiment.\n",
        "  properties = pred_file.split('_')\n",
        "\n",
        "  dataset = dataset_dict[properties[1]]\n",
        "  frameSelection = frameSelection_dict[properties[2]]\n",
        "\n",
        "  model_name = '-'.join(properties[4].split('-')[:2])\n",
        "  dino_model = dino_dict[model_name]\n",
        "\n",
        "  # Read threshold for positive predictions.\n",
        "  params_file = pred_file.replace('pred_', 'params_')\n",
        "  parameters = pd.read_csv(f'{parameters_dir}/{params_file}')\n",
        "\n",
        "  pos_threshold = parameters['pos_threshold'][0]\n",
        "\n",
        "  # Set size of one bootstrapped sample to the size of the prediction set.\n",
        "  sample_size = len(predictions)\n",
        "\n",
        "  # Calculate performance metrics based on bootstrapped sample.\n",
        "  metrics = bootstrap_metrics(predictions, pos_threshold, n_bootstrap, sample_size)\n",
        "\n",
        "  results.append({\n",
        "    'Dataset': dataset,\n",
        "    'Frame selection' : frameSelection,\n",
        "    'DINOv2 model' : dino_model,\n",
        "    'Accuracy': f'{metrics[\"accuracy\"][0] * 100:.2f} +/ {1.96 * metrics[\"accuracy\"][1] * 100:.2f} %',\n",
        "    'Recall': f'{metrics[\"recall\"][0] * 100:.2f} +/ {1.96 * metrics[\"recall\"][1] * 100:.2f} %',\n",
        "    'Precision': f'{metrics[\"precision\"][0] * 100:.2f} +/ {1.96 * metrics[\"precision\"][1] * 100:.2f} %',\n",
        "    })\n",
        "\n",
        "results_df = pd.DataFrame(results)"
      ],
      "metadata": {
        "id": "-8zWYL8tsEnd"
      },
      "execution_count": null,
      "outputs": []
    },
    {
      "cell_type": "code",
      "source": [
        "# Show the results table.\n",
        "results_df"
      ],
      "metadata": {
        "colab": {
          "base_uri": "https://localhost:8080/",
          "height": 142
        },
        "id": "_IF8h8q84_Xd",
        "outputId": "007a7422-c2d1-4c7d-9bc5-6d56f51b0fa0"
      },
      "execution_count": null,
      "outputs": [
        {
          "output_type": "execute_result",
          "data": {
            "text/plain": [
              "      Dataset Frame selection DINOv2 model:          Accuracy  \\\n",
              "0  Fish clips    Motion based      ViT-G/14  78.91 +/ 12.05 %   \n",
              "1     AK fish    Motion based      ViT-S/14   82.65 +/ 4.96 %   \n",
              "2  Fish clips    Motion based      ViT-S/14  79.73 +/ 11.79 %   \n",
              "\n",
              "             Recall         Precision  \n",
              "0    0.00 +/ 0.00 %    0.00 +/ 0.00 %  \n",
              "1  34.07 +/ 20.12 %  21.41 +/ 14.84 %  \n",
              "2    0.00 +/ 0.00 %    0.00 +/ 0.00 %  "
            ],
            "text/html": [
              "\n",
              "  <div id=\"df-128698c6-6180-418b-b807-fe3192d9c41e\" class=\"colab-df-container\">\n",
              "    <div>\n",
              "<style scoped>\n",
              "    .dataframe tbody tr th:only-of-type {\n",
              "        vertical-align: middle;\n",
              "    }\n",
              "\n",
              "    .dataframe tbody tr th {\n",
              "        vertical-align: top;\n",
              "    }\n",
              "\n",
              "    .dataframe thead th {\n",
              "        text-align: right;\n",
              "    }\n",
              "</style>\n",
              "<table border=\"1\" class=\"dataframe\">\n",
              "  <thead>\n",
              "    <tr style=\"text-align: right;\">\n",
              "      <th></th>\n",
              "      <th>Dataset</th>\n",
              "      <th>Frame selection</th>\n",
              "      <th>DINOv2 model:</th>\n",
              "      <th>Accuracy</th>\n",
              "      <th>Recall</th>\n",
              "      <th>Precision</th>\n",
              "    </tr>\n",
              "  </thead>\n",
              "  <tbody>\n",
              "    <tr>\n",
              "      <th>0</th>\n",
              "      <td>Fish clips</td>\n",
              "      <td>Motion based</td>\n",
              "      <td>ViT-G/14</td>\n",
              "      <td>78.91 +/ 12.05 %</td>\n",
              "      <td>0.00 +/ 0.00 %</td>\n",
              "      <td>0.00 +/ 0.00 %</td>\n",
              "    </tr>\n",
              "    <tr>\n",
              "      <th>1</th>\n",
              "      <td>AK fish</td>\n",
              "      <td>Motion based</td>\n",
              "      <td>ViT-S/14</td>\n",
              "      <td>82.65 +/ 4.96 %</td>\n",
              "      <td>34.07 +/ 20.12 %</td>\n",
              "      <td>21.41 +/ 14.84 %</td>\n",
              "    </tr>\n",
              "    <tr>\n",
              "      <th>2</th>\n",
              "      <td>Fish clips</td>\n",
              "      <td>Motion based</td>\n",
              "      <td>ViT-S/14</td>\n",
              "      <td>79.73 +/ 11.79 %</td>\n",
              "      <td>0.00 +/ 0.00 %</td>\n",
              "      <td>0.00 +/ 0.00 %</td>\n",
              "    </tr>\n",
              "  </tbody>\n",
              "</table>\n",
              "</div>\n",
              "    <div class=\"colab-df-buttons\">\n",
              "\n",
              "  <div class=\"colab-df-container\">\n",
              "    <button class=\"colab-df-convert\" onclick=\"convertToInteractive('df-128698c6-6180-418b-b807-fe3192d9c41e')\"\n",
              "            title=\"Convert this dataframe to an interactive table.\"\n",
              "            style=\"display:none;\">\n",
              "\n",
              "  <svg xmlns=\"http://www.w3.org/2000/svg\" height=\"24px\" viewBox=\"0 -960 960 960\">\n",
              "    <path d=\"M120-120v-720h720v720H120Zm60-500h600v-160H180v160Zm220 220h160v-160H400v160Zm0 220h160v-160H400v160ZM180-400h160v-160H180v160Zm440 0h160v-160H620v160ZM180-180h160v-160H180v160Zm440 0h160v-160H620v160Z\"/>\n",
              "  </svg>\n",
              "    </button>\n",
              "\n",
              "  <style>\n",
              "    .colab-df-container {\n",
              "      display:flex;\n",
              "      gap: 12px;\n",
              "    }\n",
              "\n",
              "    .colab-df-convert {\n",
              "      background-color: #E8F0FE;\n",
              "      border: none;\n",
              "      border-radius: 50%;\n",
              "      cursor: pointer;\n",
              "      display: none;\n",
              "      fill: #1967D2;\n",
              "      height: 32px;\n",
              "      padding: 0 0 0 0;\n",
              "      width: 32px;\n",
              "    }\n",
              "\n",
              "    .colab-df-convert:hover {\n",
              "      background-color: #E2EBFA;\n",
              "      box-shadow: 0px 1px 2px rgba(60, 64, 67, 0.3), 0px 1px 3px 1px rgba(60, 64, 67, 0.15);\n",
              "      fill: #174EA6;\n",
              "    }\n",
              "\n",
              "    .colab-df-buttons div {\n",
              "      margin-bottom: 4px;\n",
              "    }\n",
              "\n",
              "    [theme=dark] .colab-df-convert {\n",
              "      background-color: #3B4455;\n",
              "      fill: #D2E3FC;\n",
              "    }\n",
              "\n",
              "    [theme=dark] .colab-df-convert:hover {\n",
              "      background-color: #434B5C;\n",
              "      box-shadow: 0px 1px 3px 1px rgba(0, 0, 0, 0.15);\n",
              "      filter: drop-shadow(0px 1px 2px rgba(0, 0, 0, 0.3));\n",
              "      fill: #FFFFFF;\n",
              "    }\n",
              "  </style>\n",
              "\n",
              "    <script>\n",
              "      const buttonEl =\n",
              "        document.querySelector('#df-128698c6-6180-418b-b807-fe3192d9c41e button.colab-df-convert');\n",
              "      buttonEl.style.display =\n",
              "        google.colab.kernel.accessAllowed ? 'block' : 'none';\n",
              "\n",
              "      async function convertToInteractive(key) {\n",
              "        const element = document.querySelector('#df-128698c6-6180-418b-b807-fe3192d9c41e');\n",
              "        const dataTable =\n",
              "          await google.colab.kernel.invokeFunction('convertToInteractive',\n",
              "                                                    [key], {});\n",
              "        if (!dataTable) return;\n",
              "\n",
              "        const docLinkHtml = 'Like what you see? Visit the ' +\n",
              "          '<a target=\"_blank\" href=https://colab.research.google.com/notebooks/data_table.ipynb>data table notebook</a>'\n",
              "          + ' to learn more about interactive tables.';\n",
              "        element.innerHTML = '';\n",
              "        dataTable['output_type'] = 'display_data';\n",
              "        await google.colab.output.renderOutput(dataTable, element);\n",
              "        const docLink = document.createElement('div');\n",
              "        docLink.innerHTML = docLinkHtml;\n",
              "        element.appendChild(docLink);\n",
              "      }\n",
              "    </script>\n",
              "  </div>\n",
              "\n",
              "\n",
              "<div id=\"df-6cd207aa-f96f-4ea5-84c3-b579e470dace\">\n",
              "  <button class=\"colab-df-quickchart\" onclick=\"quickchart('df-6cd207aa-f96f-4ea5-84c3-b579e470dace')\"\n",
              "            title=\"Suggest charts\"\n",
              "            style=\"display:none;\">\n",
              "\n",
              "<svg xmlns=\"http://www.w3.org/2000/svg\" height=\"24px\"viewBox=\"0 0 24 24\"\n",
              "     width=\"24px\">\n",
              "    <g>\n",
              "        <path d=\"M19 3H5c-1.1 0-2 .9-2 2v14c0 1.1.9 2 2 2h14c1.1 0 2-.9 2-2V5c0-1.1-.9-2-2-2zM9 17H7v-7h2v7zm4 0h-2V7h2v10zm4 0h-2v-4h2v4z\"/>\n",
              "    </g>\n",
              "</svg>\n",
              "  </button>\n",
              "\n",
              "<style>\n",
              "  .colab-df-quickchart {\n",
              "      --bg-color: #E8F0FE;\n",
              "      --fill-color: #1967D2;\n",
              "      --hover-bg-color: #E2EBFA;\n",
              "      --hover-fill-color: #174EA6;\n",
              "      --disabled-fill-color: #AAA;\n",
              "      --disabled-bg-color: #DDD;\n",
              "  }\n",
              "\n",
              "  [theme=dark] .colab-df-quickchart {\n",
              "      --bg-color: #3B4455;\n",
              "      --fill-color: #D2E3FC;\n",
              "      --hover-bg-color: #434B5C;\n",
              "      --hover-fill-color: #FFFFFF;\n",
              "      --disabled-bg-color: #3B4455;\n",
              "      --disabled-fill-color: #666;\n",
              "  }\n",
              "\n",
              "  .colab-df-quickchart {\n",
              "    background-color: var(--bg-color);\n",
              "    border: none;\n",
              "    border-radius: 50%;\n",
              "    cursor: pointer;\n",
              "    display: none;\n",
              "    fill: var(--fill-color);\n",
              "    height: 32px;\n",
              "    padding: 0;\n",
              "    width: 32px;\n",
              "  }\n",
              "\n",
              "  .colab-df-quickchart:hover {\n",
              "    background-color: var(--hover-bg-color);\n",
              "    box-shadow: 0 1px 2px rgba(60, 64, 67, 0.3), 0 1px 3px 1px rgba(60, 64, 67, 0.15);\n",
              "    fill: var(--button-hover-fill-color);\n",
              "  }\n",
              "\n",
              "  .colab-df-quickchart-complete:disabled,\n",
              "  .colab-df-quickchart-complete:disabled:hover {\n",
              "    background-color: var(--disabled-bg-color);\n",
              "    fill: var(--disabled-fill-color);\n",
              "    box-shadow: none;\n",
              "  }\n",
              "\n",
              "  .colab-df-spinner {\n",
              "    border: 2px solid var(--fill-color);\n",
              "    border-color: transparent;\n",
              "    border-bottom-color: var(--fill-color);\n",
              "    animation:\n",
              "      spin 1s steps(1) infinite;\n",
              "  }\n",
              "\n",
              "  @keyframes spin {\n",
              "    0% {\n",
              "      border-color: transparent;\n",
              "      border-bottom-color: var(--fill-color);\n",
              "      border-left-color: var(--fill-color);\n",
              "    }\n",
              "    20% {\n",
              "      border-color: transparent;\n",
              "      border-left-color: var(--fill-color);\n",
              "      border-top-color: var(--fill-color);\n",
              "    }\n",
              "    30% {\n",
              "      border-color: transparent;\n",
              "      border-left-color: var(--fill-color);\n",
              "      border-top-color: var(--fill-color);\n",
              "      border-right-color: var(--fill-color);\n",
              "    }\n",
              "    40% {\n",
              "      border-color: transparent;\n",
              "      border-right-color: var(--fill-color);\n",
              "      border-top-color: var(--fill-color);\n",
              "    }\n",
              "    60% {\n",
              "      border-color: transparent;\n",
              "      border-right-color: var(--fill-color);\n",
              "    }\n",
              "    80% {\n",
              "      border-color: transparent;\n",
              "      border-right-color: var(--fill-color);\n",
              "      border-bottom-color: var(--fill-color);\n",
              "    }\n",
              "    90% {\n",
              "      border-color: transparent;\n",
              "      border-bottom-color: var(--fill-color);\n",
              "    }\n",
              "  }\n",
              "</style>\n",
              "\n",
              "  <script>\n",
              "    async function quickchart(key) {\n",
              "      const quickchartButtonEl =\n",
              "        document.querySelector('#' + key + ' button');\n",
              "      quickchartButtonEl.disabled = true;  // To prevent multiple clicks.\n",
              "      quickchartButtonEl.classList.add('colab-df-spinner');\n",
              "      try {\n",
              "        const charts = await google.colab.kernel.invokeFunction(\n",
              "            'suggestCharts', [key], {});\n",
              "      } catch (error) {\n",
              "        console.error('Error during call to suggestCharts:', error);\n",
              "      }\n",
              "      quickchartButtonEl.classList.remove('colab-df-spinner');\n",
              "      quickchartButtonEl.classList.add('colab-df-quickchart-complete');\n",
              "    }\n",
              "    (() => {\n",
              "      let quickchartButtonEl =\n",
              "        document.querySelector('#df-6cd207aa-f96f-4ea5-84c3-b579e470dace button');\n",
              "      quickchartButtonEl.style.display =\n",
              "        google.colab.kernel.accessAllowed ? 'block' : 'none';\n",
              "    })();\n",
              "  </script>\n",
              "</div>\n",
              "    </div>\n",
              "  </div>\n"
            ],
            "application/vnd.google.colaboratory.intrinsic+json": {
              "type": "dataframe",
              "variable_name": "results_df",
              "summary": "{\n  \"name\": \"results_df\",\n  \"rows\": 3,\n  \"fields\": [\n    {\n      \"column\": \"Dataset\",\n      \"properties\": {\n        \"dtype\": \"string\",\n        \"num_unique_values\": 2,\n        \"samples\": [\n          \"AK fish\",\n          \"Fish clips\"\n        ],\n        \"semantic_type\": \"\",\n        \"description\": \"\"\n      }\n    },\n    {\n      \"column\": \"Frame selection\",\n      \"properties\": {\n        \"dtype\": \"category\",\n        \"num_unique_values\": 1,\n        \"samples\": [\n          \"Motion based\"\n        ],\n        \"semantic_type\": \"\",\n        \"description\": \"\"\n      }\n    },\n    {\n      \"column\": \"DINOv2 model:\",\n      \"properties\": {\n        \"dtype\": \"string\",\n        \"num_unique_values\": 2,\n        \"samples\": [\n          \"ViT-S/14\"\n        ],\n        \"semantic_type\": \"\",\n        \"description\": \"\"\n      }\n    },\n    {\n      \"column\": \"Accuracy\",\n      \"properties\": {\n        \"dtype\": \"string\",\n        \"num_unique_values\": 3,\n        \"samples\": [\n          \"78.91 +/ 12.05 %\"\n        ],\n        \"semantic_type\": \"\",\n        \"description\": \"\"\n      }\n    },\n    {\n      \"column\": \"Recall\",\n      \"properties\": {\n        \"dtype\": \"string\",\n        \"num_unique_values\": 2,\n        \"samples\": [\n          \"34.07 +/ 20.12 %\"\n        ],\n        \"semantic_type\": \"\",\n        \"description\": \"\"\n      }\n    },\n    {\n      \"column\": \"Precision\",\n      \"properties\": {\n        \"dtype\": \"string\",\n        \"num_unique_values\": 2,\n        \"samples\": [\n          \"21.41 +/ 14.84 %\"\n        ],\n        \"semantic_type\": \"\",\n        \"description\": \"\"\n      }\n    }\n  ]\n}"
            }
          },
          "metadata": {},
          "execution_count": 24
        }
      ]
    },
    {
      "cell_type": "code",
      "source": [
        "# Save results table to Drive.\n",
        "drive_dir = '/content/drive/MyDrive/UvA/M Thesis/Data/Results/Metrics'\n",
        "\n",
        "if not os.path.exists(drive_dir):\n",
        "  os.makedirs(drive_dir)\n",
        "\n",
        "from datetime import datetime\n",
        "current_date = datetime.now().strftime('%d-%m-%Y')\n",
        "\n",
        "results_df.to_csv(f'{drive_dir}/AR_results_{current_date}.csv', index=False)"
      ],
      "metadata": {
        "id": "AXVX4YD95nZh"
      },
      "execution_count": null,
      "outputs": []
    }
  ]
}