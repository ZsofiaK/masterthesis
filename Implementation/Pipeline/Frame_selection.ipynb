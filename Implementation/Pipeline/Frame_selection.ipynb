{
  "nbformat": 4,
  "nbformat_minor": 0,
  "metadata": {
    "colab": {
      "provenance": [],
      "authorship_tag": "ABX9TyPAPvp8cYu0TmCEB/u1dL3b",
      "include_colab_link": true
    },
    "kernelspec": {
      "name": "python3",
      "display_name": "Python 3"
    },
    "language_info": {
      "name": "python"
    }
  },
  "cells": [
    {
      "cell_type": "markdown",
      "metadata": {
        "id": "view-in-github",
        "colab_type": "text"
      },
      "source": [
        "<a href=\"https://colab.research.google.com/github/ZsofiaK/masterthesis/blob/main/Implementation/Pipeline/Frame_selection.ipynb\" target=\"_parent\"><img src=\"https://colab.research.google.com/assets/colab-badge.svg\" alt=\"Open In Colab\"/></a>"
      ]
    },
    {
      "cell_type": "markdown",
      "source": [
        "# Saving selected frame indices\n",
        "\n",
        "This notebook saves the selected frame indices for videos to be read later in the classification pipeline."
      ],
      "metadata": {
        "id": "K2NeqN5fNfrr"
      }
    },
    {
      "cell_type": "code",
      "source": [
        "# Set the desired frame selection specifics and dataset name here.\n",
        "\n",
        "selection_name = 'motionAbsdiff'\n",
        "\n",
        "nr_frames = 10\n",
        "\n",
        "dataset_name = 'AK-fish'"
      ],
      "metadata": {
        "id": "4sT5h_AuqJN1"
      },
      "execution_count": 1,
      "outputs": []
    },
    {
      "cell_type": "code",
      "source": [
        "# Mount Drive.\n",
        "\n",
        "from google.colab import drive\n",
        "\n",
        "drive.mount('/content/drive')"
      ],
      "metadata": {
        "id": "RY3PxVH_Pa-5",
        "colab": {
          "base_uri": "https://localhost:8080/"
        },
        "outputId": "c835c974-261d-471f-9935-ed387232c1ae"
      },
      "execution_count": 2,
      "outputs": [
        {
          "output_type": "stream",
          "name": "stdout",
          "text": [
            "Mounted at /content/drive\n"
          ]
        }
      ]
    },
    {
      "cell_type": "code",
      "source": [
        "# Copy necessary modules.\n",
        "\n",
        "import shutil\n",
        "\n",
        "module_files = ['frame_selection.py']\n",
        "\n",
        "for module in module_files:\n",
        "  # Path to the .py file in your Google Drive\n",
        "  source_file_path = f'/content/drive/My Drive/UvA/M Thesis/Modules/{module}'\n",
        "\n",
        "  # Destination path.\n",
        "  destination_file_path = f'/content/{module}'\n",
        "\n",
        "  # Copy the file from Google Drive to the content folder\n",
        "  shutil.copy(source_file_path, destination_file_path)"
      ],
      "metadata": {
        "id": "XkQiJpRCU-rt"
      },
      "execution_count": 3,
      "outputs": []
    },
    {
      "cell_type": "code",
      "source": [
        "import frame_selection\n",
        "from frame_selection import count_frames\n",
        "\n",
        "# Set up dictionaries for later ease of use.\n",
        "selection_methods = {'evenly' : frame_selection.select_frames_evenly, \\\n",
        "                     'motionAbsdiff' : frame_selection.select_frames_motion_absdiff}\n",
        "\n",
        "dataset_directories = {'fishClips' : 'Fish clips', 'AK-fish' : 'AK fish'}"
      ],
      "metadata": {
        "id": "pUUWeR92qRfD"
      },
      "execution_count": 4,
      "outputs": []
    },
    {
      "cell_type": "code",
      "source": [
        "# Select dataset from Drive.\n",
        "data_dir = f\"/content/drive/My Drive/UvA/M Thesis/Data/{dataset_directories[dataset_name]}\""
      ],
      "metadata": {
        "id": "enfLw15_Q63q"
      },
      "execution_count": 6,
      "outputs": []
    },
    {
      "cell_type": "code",
      "source": [
        "from pathlib import Path\n",
        "import pandas as pd\n",
        "\n",
        "# Check if frames are already counted, do so otherwise.\n",
        "\n",
        "frame_counts_path = f'{data_dir}/frame_counts.csv'\n",
        "\n",
        "if Path(frame_counts_path).exists():\n",
        "  frame_counts = pd.read_csv(frame_counts_path, index_col='video')\n",
        "\n",
        "else:\n",
        "  folder_path = f'{data_dir}/Clips'\n",
        "\n",
        "  files = os.listdir(folder_path)\n",
        "\n",
        "  nr_files = len(files)\n",
        "\n",
        "  data = []\n",
        "\n",
        "  for i, file in enumerate(files):\n",
        "    if file.lower().endswith('.mp4'):\n",
        "        video_path = os.path.join(folder_path, file)\n",
        "\n",
        "        total_frames = count_frames(video_path)\n",
        "\n",
        "        data.append({\"video\": file, \"total_frames\" : total_frames})\n",
        "\n",
        "        clear_output(wait=True)\n",
        "        print(f'Number of videos: {nr_files}')\n",
        "        print(f'Progress: {(i + 1)/nr_files * 100:.2f}%')\n",
        "\n",
        "  # Convert the data into a pandas DataFrame\n",
        "  frame_counts = pd.DataFrame(data)\n",
        "  frame_counts.set_index('video', inplace=True)\n",
        "\n",
        "  # Save the DataFrame to a CSV file\n",
        "  csv_file_path = f'{data_dir}/frame_counts.csv'\n",
        "\n",
        "  frame_counts.to_csv(csv_file_path)"
      ],
      "metadata": {
        "id": "-tnYSa1kiCxm"
      },
      "execution_count": 13,
      "outputs": []
    },
    {
      "cell_type": "code",
      "source": [
        "import os\n",
        "\n",
        "selection = selection_methods[selection_name]\n",
        "\n",
        "output_name = f'{dataset_name}_{selection_name}_{str(nr_frames)}'\n",
        "\n",
        "output_folder = f'/content/Output'\n",
        "\n",
        "os.makedirs(output_folder, exist_ok=True)"
      ],
      "metadata": {
        "id": "ZXdSmDC3O94g"
      },
      "execution_count": 8,
      "outputs": []
    },
    {
      "cell_type": "code",
      "source": [
        "import pandas as pd\n",
        "from IPython.display import clear_output\n",
        "\n",
        "folder_path = f'{data_dir}/Clips'\n",
        "\n",
        "# Initialize a list to hold the data\n",
        "data = []\n",
        "\n",
        "files = os.listdir(folder_path)\n",
        "nr_files = len(files)\n",
        "\n",
        "incorrect_selection = []\n",
        "\n",
        "for i, file in enumerate(files):\n",
        "    if file.lower().endswith('.mp4'):\n",
        "        video_path = os.path.join(folder_path, file)\n",
        "\n",
        "        total_frames = frame_counts[\"total_frames\"][file]\n",
        "\n",
        "        frames = selection(video_path, total_frames, nr_frames)\n",
        "\n",
        "        if len(frames) != nr_frames:\n",
        "          incorrect_selection.append(file)\n",
        "\n",
        "        data.append({\"video\": file, \"total_frames\" : total_frames, \"frames\": frames})\n",
        "\n",
        "        clear_output(wait=True)\n",
        "        print(f'Number of videos: {nr_files}')\n",
        "        print(f'Progress: {(i + 1)/nr_files * 100:.2f}%')\n",
        "\n",
        "# Convert the data into a pandas DataFrame\n",
        "df = pd.DataFrame(data)\n",
        "\n",
        "# Save the DataFrame to a CSV file\n",
        "csv_file_path = f'{output_folder}/{output_name}.csv'\n",
        "\n",
        "df.to_csv(csv_file_path, index=False)\n"
      ],
      "metadata": {
        "id": "O_9x3sJWTnbT",
        "colab": {
          "base_uri": "https://localhost:8080/"
        },
        "outputId": "2a583e99-a9e0-4a9e-fc85-e0382a7c38f3"
      },
      "execution_count": 9,
      "outputs": [
        {
          "output_type": "stream",
          "name": "stdout",
          "text": [
            "Number of videos: 887\n",
            "Progress: 100.00%\n"
          ]
        }
      ]
    },
    {
      "cell_type": "code",
      "source": [
        "# Copy all output files to the appropriate Drive folders\n",
        "\n",
        "for file in os.listdir(output_folder):\n",
        "  output_file_path = os.path.join(output_folder, file)\n",
        "\n",
        "  if '.csv' in file:    # Copy only relevant output tables.\n",
        "    data_name = file.split('_')[0]\n",
        "\n",
        "    data_dir_name = dataset_directories[data_name]\n",
        "\n",
        "    destination_file_path = f'/content/drive/My Drive/UvA/M Thesis/Data/{data_dir_name}/Selected frames'\n",
        "\n",
        "    shutil.copy(output_file_path, destination_file_path)"
      ],
      "metadata": {
        "id": "tP62itz0XT5G"
      },
      "execution_count": null,
      "outputs": []
    },
    {
      "cell_type": "markdown",
      "source": [
        "## Visualizing selected frames from videos."
      ],
      "metadata": {
        "id": "9IfdT8zv8aPn"
      }
    },
    {
      "cell_type": "code",
      "source": [
        "sample_video = 'AHIRRPIF.mp4'\n",
        "\n",
        "clips_path = f'{data_dir}/Clips'"
      ],
      "metadata": {
        "id": "JvPzmNr78yBc"
      },
      "execution_count": null,
      "outputs": []
    },
    {
      "cell_type": "code",
      "source": [
        "import cv2\n",
        "import matplotlib.pyplot as plt\n",
        "\n",
        "try:\n",
        "    frame_indices = df.loc[df['video'] == sample_video, 'frames'].iloc[0]\n",
        "\n",
        "except IndexError:\n",
        "    print(f\"No data for video {sample_video}\")"
      ],
      "metadata": {
        "id": "hf3u0CF_8dKn"
      },
      "execution_count": null,
      "outputs": []
    },
    {
      "cell_type": "code",
      "source": [
        "video_path = f\"{clips_path}/{sample_video}\"\n",
        "\n",
        "cap = cv2.VideoCapture(video_path)\n",
        "\n",
        "if not cap.isOpened():\n",
        "      print(f\"Failed to open video {sample_video}\")\n",
        "\n",
        "# Read and collect the specified frames\n",
        "selected_frames = []\n",
        "current_frame_index = 0\n",
        "\n",
        "while True:\n",
        "    ret, frame = cap.read()\n",
        "\n",
        "    if not ret:\n",
        "        break\n",
        "\n",
        "    if current_frame_index in frame_indices:\n",
        "        # Convert frame from BGR to RGB (Matplotlib expects RGB)\n",
        "        frame = cv2.cvtColor(frame, cv2.COLOR_BGR2RGB)\n",
        "\n",
        "        selected_frames.append(frame)\n",
        "\n",
        "    current_frame_index += 1\n",
        "\n",
        "    if current_frame_index > max(frame_indices):\n",
        "        break\n",
        "\n",
        "# Close the video file\n",
        "cap.release()"
      ],
      "metadata": {
        "id": "IDFyqXlz99Jn"
      },
      "execution_count": null,
      "outputs": []
    },
    {
      "cell_type": "code",
      "source": [
        "# Plotting the frames\n",
        "num_frames = len(selected_frames)\n",
        "num_columns = 2\n",
        "num_rows = (num_frames + 1) // num_columns  # Calculate rows needed, +1 to handle odd number of frames\n",
        "\n",
        "fig, axes = plt.subplots(num_rows, num_columns, figsize=(10, num_rows * 5))\n",
        "axes = axes.flatten()  # Flatten the axes array for easier indexing\n",
        "\n",
        "# Display each frame\n",
        "for i, frame in enumerate(selected_frames):\n",
        "    ax = axes[i]\n",
        "    ax.imshow(frame)\n",
        "    ax.axis('off')\n",
        "    ax.set_title(f\"Frame {frame_indices[i]}\")\n",
        "\n",
        "# Turn off unused subplots if frames are less than slots in grid\n",
        "if num_frames % num_columns != 0:\n",
        "    for j in range(i + 1, num_rows * num_columns):\n",
        "        axes[j].axis('off')  # Hide unused axes\n",
        "\n",
        "plt.tight_layout(pad=1.0, h_pad=0.5, w_pad=0.5)\n",
        "plt.show()"
      ],
      "metadata": {
        "id": "YrvBC9NH9t5A"
      },
      "execution_count": null,
      "outputs": []
    }
  ]
}