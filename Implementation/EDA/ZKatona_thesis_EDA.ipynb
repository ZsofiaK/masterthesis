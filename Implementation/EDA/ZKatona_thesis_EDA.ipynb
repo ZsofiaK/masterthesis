{
 "cells": [
  {
   "cell_type": "markdown",
   "id": "5e25ea09-74d6-47e6-bad6-e922f52c3532",
   "metadata": {},
   "source": [
    "# Personal Information\n",
    "Name: **Zsofia Katona**\n",
    "\n",
    "StudentID: **13160184**\n",
    "\n",
    "Email: [**zsofia.katona@student.uva.nl**](zsofia.katona@student.uva.nl)\n",
    "\n",
    "Submitted on: **22.03.2024**"
   ]
  },
  {
   "cell_type": "markdown",
   "id": "e3cf6243-adfe-4eb8-bba3-bb2835079abd",
   "metadata": {},
   "source": [
    "# Data Context\n",
    "\n",
    "## Fish videos dataset\n",
    "The dataset of fish videos has been recorded and annotated by the research group. It includes a total of 44 videos, each 10 seconds long, with a predator attack happening at the middle of the video (in an approximate 1-second timeframe around the middle). The resolution of the videos is 1080x1920 pixels, with 120 frames per second (meaning a total of 1276 frames for each video).\n",
    "\n",
    "## Animal Kingdom\n",
    "The Animal Kingdom dataset is a publicly available dataset [1] containing videos of animals collected from YouTube and annotated for different video understanding tasks. In this project, the focus is on the action recognition (AR) task. As described in [1], the AR dataset consists of a total of 50 hours of video clips, with over 850 animal species and 140 fine-grained action classes. As the main focus of the project is videos of fish predator attacks, the Animal Kingdom AR dataset will be narrowed down to clips which are related to this domain. **The EDA process shown in this notebook identifies and explores the relevant part of the Animal Kingdom AR dataset.**\n",
    "\n",
    "[1] Xun Long Ng, Kian Eng Ong, Qichen Zheng, Yun Ni, Si Yong Yeo, Jun Liu; Proceedings of the IEEE/CVF Conference on Computer Vision and Pattern Recognition (CVPR), 2022, pp. 19023-19034"
   ]
  },
  {
   "cell_type": "markdown",
   "id": "a833d964-56e1-49c7-8172-7435357624aa",
   "metadata": {},
   "source": [
    "# Data Description\n",
    "Exploring the Animal Kingdom dataset."
   ]
  },
  {
   "cell_type": "code",
   "execution_count": 1,
   "id": "534317db-d881-4e33-a358-754e2881e8bd",
   "metadata": {},
   "outputs": [],
   "source": [
    "# Imports\n",
    "import pandas as pd\n",
    "from matplotlib import pyplot as plt"
   ]
  },
  {
   "cell_type": "markdown",
   "id": "b582b299-f599-4140-a454-bcbfdeeb273f",
   "metadata": {},
   "source": [
    "## Importing metadata about Action Recognition (AR) dataset"
   ]
  },
  {
   "cell_type": "code",
   "execution_count": 2,
   "id": "9f0cf9be-2cac-4227-957f-ad893212e70c",
   "metadata": {},
   "outputs": [
    {
     "data": {
      "text/html": [
       "<div>\n",
       "<style scoped>\n",
       "    .dataframe tbody tr th:only-of-type {\n",
       "        vertical-align: middle;\n",
       "    }\n",
       "\n",
       "    .dataframe tbody tr th {\n",
       "        vertical-align: top;\n",
       "    }\n",
       "\n",
       "    .dataframe thead th {\n",
       "        text-align: right;\n",
       "    }\n",
       "</style>\n",
       "<table border=\"1\" class=\"dataframe\">\n",
       "  <thead>\n",
       "    <tr style=\"text-align: right;\">\n",
       "      <th></th>\n",
       "      <th>S/N</th>\n",
       "      <th>video_id</th>\n",
       "      <th>type</th>\n",
       "      <th>labels</th>\n",
       "      <th>list_animal_action</th>\n",
       "    </tr>\n",
       "  </thead>\n",
       "  <tbody>\n",
       "    <tr>\n",
       "      <th>0</th>\n",
       "      <td>1</td>\n",
       "      <td>AAACXZTV</td>\n",
       "      <td>train</td>\n",
       "      <td>2,40</td>\n",
       "      <td>[('Common Crane', 'Attending'), ('Common Crane...</td>\n",
       "    </tr>\n",
       "    <tr>\n",
       "      <th>1</th>\n",
       "      <td>2</td>\n",
       "      <td>AABCQPTK</td>\n",
       "      <td>train</td>\n",
       "      <td>2,15</td>\n",
       "      <td>[('Singing Nightingale', 'Attending'), ('Singi...</td>\n",
       "    </tr>\n",
       "    <tr>\n",
       "      <th>2</th>\n",
       "      <td>3</td>\n",
       "      <td>AABKMGHE</td>\n",
       "      <td>train</td>\n",
       "      <td>78</td>\n",
       "      <td>[('Snake', 'Moving')]</td>\n",
       "    </tr>\n",
       "    <tr>\n",
       "      <th>3</th>\n",
       "      <td>4</td>\n",
       "      <td>AACJGIQR</td>\n",
       "      <td>train</td>\n",
       "      <td>102,1,39,8,120,97</td>\n",
       "      <td>[('Mongoose', 'Biting'), ('Black Mamba', 'Sens...</td>\n",
       "    </tr>\n",
       "    <tr>\n",
       "      <th>4</th>\n",
       "      <td>5</td>\n",
       "      <td>AACKOHGA</td>\n",
       "      <td>train</td>\n",
       "      <td>2,68,133,116</td>\n",
       "      <td>[('Meerkat', 'Walking'), ('Meerkat', 'Attendin...</td>\n",
       "    </tr>\n",
       "  </tbody>\n",
       "</table>\n",
       "</div>"
      ],
      "text/plain": [
       "   S/N  video_id   type             labels  \\\n",
       "0    1  AAACXZTV  train               2,40   \n",
       "1    2  AABCQPTK  train               2,15   \n",
       "2    3  AABKMGHE  train                 78   \n",
       "3    4  AACJGIQR  train  102,1,39,8,120,97   \n",
       "4    5  AACKOHGA  train       2,68,133,116   \n",
       "\n",
       "                                  list_animal_action  \n",
       "0  [('Common Crane', 'Attending'), ('Common Crane...  \n",
       "1  [('Singing Nightingale', 'Attending'), ('Singi...  \n",
       "2                              [('Snake', 'Moving')]  \n",
       "3  [('Mongoose', 'Biting'), ('Black Mamba', 'Sens...  \n",
       "4  [('Meerkat', 'Walking'), ('Meerkat', 'Attendin...  "
      ]
     },
     "execution_count": 2,
     "metadata": {},
     "output_type": "execute_result"
    }
   ],
   "source": [
    "# Importing AR video metadata.\n",
    "video_metadata = pd.read_excel('../assets/AK_AR_metadata.xlsx', sheet_name='AR')\n",
    "\n",
    "video_metadata.head()"
   ]
  },
  {
   "cell_type": "code",
   "execution_count": 8,
   "id": "7adfc0e3",
   "metadata": {},
   "outputs": [],
   "source": [
    "# Ensuring that labels and animal actions are represented as lists.\n",
    "video_metadata['labels'] = video_metadata['labels'].apply(lambda labels: eval('[' + str(labels) + ']'))\n",
    "\n",
    "video_metadata['list_animal_action'] = video_metadata['list_animal_action'].apply(eval)"
   ]
  },
  {
   "cell_type": "code",
   "execution_count": 3,
   "id": "eec6d3b1",
   "metadata": {},
   "outputs": [
    {
     "name": "stdout",
     "output_type": "stream",
     "text": [
      "Number of videos in dataset: 30100\n",
      "Number of distinct video IDs: 30100\n"
     ]
    }
   ],
   "source": [
    "print(f'Number of videos in dataset: {len(video_metadata)}')\n",
    "\n",
    "distinct_IDs = video_metadata['video_id'].nunique()\n",
    "\n",
    "print(f'Number of distinct video IDs: {distinct_IDs}')"
   ]
  },
  {
   "cell_type": "markdown",
   "id": "55c49fbe",
   "metadata": {},
   "source": [
    "As can be seen, actions in the videos are represented in a list of (ACTOR, ACTION) tuples."
   ]
  },
  {
   "cell_type": "code",
   "execution_count": 4,
   "id": "716a9b58",
   "metadata": {},
   "outputs": [
    {
     "data": {
      "text/html": [
       "<div>\n",
       "<style scoped>\n",
       "    .dataframe tbody tr th:only-of-type {\n",
       "        vertical-align: middle;\n",
       "    }\n",
       "\n",
       "    .dataframe tbody tr th {\n",
       "        vertical-align: top;\n",
       "    }\n",
       "\n",
       "    .dataframe thead th {\n",
       "        text-align: right;\n",
       "    }\n",
       "</style>\n",
       "<table border=\"1\" class=\"dataframe\">\n",
       "  <thead>\n",
       "    <tr style=\"text-align: right;\">\n",
       "      <th></th>\n",
       "      <th>Animal</th>\n",
       "      <th>Parent Class</th>\n",
       "      <th>Class</th>\n",
       "      <th>Sub-Class</th>\n",
       "      <th>Young</th>\n",
       "      <th>Generic name</th>\n",
       "    </tr>\n",
       "  </thead>\n",
       "  <tbody>\n",
       "    <tr>\n",
       "      <th>0</th>\n",
       "      <td>Abalone</td>\n",
       "      <td>Sea animal</td>\n",
       "      <td>Sea animal / Shellfish</td>\n",
       "      <td>Shellfish / Abalone / Clam / Mussel / Scallop</td>\n",
       "      <td>NaN</td>\n",
       "      <td>NaN</td>\n",
       "    </tr>\n",
       "    <tr>\n",
       "      <th>1</th>\n",
       "      <td>Acyrthosiphon pisum Aphid</td>\n",
       "      <td>Insect</td>\n",
       "      <td>Insect</td>\n",
       "      <td>Ant / Termite / Aphid</td>\n",
       "      <td>NaN</td>\n",
       "      <td>NaN</td>\n",
       "    </tr>\n",
       "    <tr>\n",
       "      <th>2</th>\n",
       "      <td>Aedes aegypti Mosquito</td>\n",
       "      <td>Insect</td>\n",
       "      <td>Insect</td>\n",
       "      <td>Mosquito / Crane fly</td>\n",
       "      <td>NaN</td>\n",
       "      <td>NaN</td>\n",
       "    </tr>\n",
       "    <tr>\n",
       "      <th>3</th>\n",
       "      <td>Aedes aegypti Mosquito Larva</td>\n",
       "      <td>Insect</td>\n",
       "      <td>Insect / Larva / Pupa</td>\n",
       "      <td>Larva / Pupa</td>\n",
       "      <td>Yes</td>\n",
       "      <td>NaN</td>\n",
       "    </tr>\n",
       "    <tr>\n",
       "      <th>4</th>\n",
       "      <td>Aesculapian Snake</td>\n",
       "      <td>Reptile</td>\n",
       "      <td>Reptile / Snake</td>\n",
       "      <td>Snake / Cobra / Viper / Python</td>\n",
       "      <td>NaN</td>\n",
       "      <td>NaN</td>\n",
       "    </tr>\n",
       "  </tbody>\n",
       "</table>\n",
       "</div>"
      ],
      "text/plain": [
       "                         Animal Parent Class                   Class  \\\n",
       "0                       Abalone   Sea animal  Sea animal / Shellfish   \n",
       "1     Acyrthosiphon pisum Aphid       Insect                  Insect   \n",
       "2        Aedes aegypti Mosquito       Insect                  Insect   \n",
       "3  Aedes aegypti Mosquito Larva       Insect   Insect / Larva / Pupa   \n",
       "4             Aesculapian Snake      Reptile         Reptile / Snake   \n",
       "\n",
       "                                       Sub-Class Young Generic name  \n",
       "0  Shellfish / Abalone / Clam / Mussel / Scallop   NaN          NaN  \n",
       "1                          Ant / Termite / Aphid   NaN          NaN  \n",
       "2                           Mosquito / Crane fly   NaN          NaN  \n",
       "3                                   Larva / Pupa   Yes          NaN  \n",
       "4                 Snake / Cobra / Viper / Python   NaN          NaN  "
      ]
     },
     "execution_count": 4,
     "metadata": {},
     "output_type": "execute_result"
    }
   ],
   "source": [
    "# Importing metadata about animal species in the dataset.\n",
    "animal_data = pd.read_excel('../assets/AK_AR_metadata.xlsx', sheet_name='Animal')\n",
    "\n",
    "animal_data.head()"
   ]
  },
  {
   "cell_type": "markdown",
   "id": "43846288",
   "metadata": {},
   "source": [
    "# Finding relevant videos"
   ]
  },
  {
   "cell_type": "markdown",
   "id": "687b9cb8",
   "metadata": {},
   "source": [
    "## Finding videos with relevant species\n",
    "Identifying videos showing fish."
   ]
  },
  {
   "cell_type": "code",
   "execution_count": 5,
   "id": "8098da65",
   "metadata": {},
   "outputs": [],
   "source": [
    "# Saving list of fish species in the dataset.\n",
    "fish = list(animal_data[animal_data['Class'] == 'Fish']['Animal'])"
   ]
  },
  {
   "cell_type": "code",
   "execution_count": 6,
   "id": "1de445b8",
   "metadata": {},
   "outputs": [
    {
     "name": "stdout",
     "output_type": "stream",
     "text": [
      "Number of fish species in dataset: 59\n",
      "Examples: ['Archer Fish', 'Atlantic Blue Tang Fish', 'Barracuda Fish']\n"
     ]
    }
   ],
   "source": [
    "print('Number of fish species in dataset:', len(fish))\n",
    "print('Examples:', fish[:3])"
   ]
  },
  {
   "cell_type": "code",
   "execution_count": 18,
   "id": "4b999559",
   "metadata": {},
   "outputs": [],
   "source": [
    "def check_species_from_list(actions, list_of_species):\n",
    "    '''Checks if a video contains action performed by an animal from a list of species.'''\n",
    "\n",
    "    for action_tuple in actions:\n",
    "        species = action_tuple[0]\n",
    "\n",
    "        if species in list_of_species:\n",
    "            return True\n",
    "        \n",
    "    return False"
   ]
  },
  {
   "cell_type": "code",
   "execution_count": 19,
   "id": "bbdfa922",
   "metadata": {},
   "outputs": [],
   "source": [
    "fish_videos = video_metadata[video_metadata['list_animal_action'].apply(lambda actions: check_species_from_list(actions, fish))]"
   ]
  },
  {
   "cell_type": "code",
   "execution_count": 20,
   "id": "a788a8fc",
   "metadata": {},
   "outputs": [
    {
     "name": "stdout",
     "output_type": "stream",
     "text": [
      "Number of fish videos in dataset: 887\n"
     ]
    }
   ],
   "source": [
    "print('Number of fish videos in dataset:', len(fish_videos))"
   ]
  },
  {
   "cell_type": "markdown",
   "id": "27f127e2",
   "metadata": {},
   "source": [
    "## Finding videos with relevant actions\n",
    "In our case, these are actions related to predation, namely:\n",
    "\n",
    "* 1: **Attacking**\n",
    "* 7: **Being eaten**\n",
    "* 14: **Chasing**\n",
    "* 47: **Fighting**\n",
    "* 8: **Biting**\n",
    "* 51: **Fleeing**\n",
    "* 96: **Retaliating**\n",
    "* 120: **Struggling**"
   ]
  },
  {
   "cell_type": "code",
   "execution_count": 21,
   "id": "64b3d92f",
   "metadata": {},
   "outputs": [],
   "source": [
    "relevant_actions = ['Attacking', 'Chasing', 'Fighting', 'Biting', \\\n",
    "                    'Being eaten', 'Fleeing', 'Retaliating', 'Struggling']"
   ]
  },
  {
   "cell_type": "code",
   "execution_count": 23,
   "id": "62f2b9df",
   "metadata": {},
   "outputs": [
    {
     "name": "stdout",
     "output_type": "stream",
     "text": [
      "--Attacking\n",
      "Animal rushes and leaps on another another with bites, pecks or kicks\n",
      "\n",
      "--Chasing\n",
      "Animal \"runs\" after the fleeing animal, however no biting occurs\n",
      "\n",
      "--Fighting\n",
      "Include wrestling\n",
      "\n",
      "--Fleeing\n",
      "Different from escaping, animal 'runs' away from its predator or danger, often with rapid change of direction but without having been caught first\n",
      "\n",
      "--Retaliating\n",
      "Animal makes a defending attack (i.e., \"attacks\" its attacker back). Include ramming by goats\n",
      "\n",
      "--Struggling\n",
      "Animal struggles from the clutch, grip, or bite by its predator\n",
      "\n",
      "--Biting\n",
      "Animal sinks its teeth into the object or animal, but does not eat / feed / chew on the object or food\n",
      "\n",
      "--Being eaten\n",
      "nan\n",
      "\n"
     ]
    }
   ],
   "source": [
    "action_data = pd.read_excel('../assets/AK_AR_metadata.xlsx', sheet_name='Action')\n",
    "\n",
    "for i in action_data[action_data['Action'].isin(relevant_actions)].index:\n",
    "    print('--' + action_data['Action'][i])\n",
    "    print(action_data['Description'][i])\n",
    "    print()"
   ]
  },
  {
   "cell_type": "markdown",
   "id": "a244c372",
   "metadata": {},
   "source": [
    "## Collecting relevant videos\n",
    "\n",
    "Please note that during the selection of relevant videos, only clips in which fish are the performers of attack-related actions (either on the predator or prey side) are selected. However, the clip might contain animals other than fish, and they might be involved in the attack as well (e.g., snake eating fish)."
   ]
  },
  {
   "cell_type": "code",
   "execution_count": 25,
   "id": "8900c857",
   "metadata": {},
   "outputs": [],
   "source": [
    "def is_relevant_video(actions_in_video, relevant_actions, relevant_species):\n",
    "    '''Checks if a video contains a relevant action performed by a releveant species.'''\n",
    "\n",
    "    for action_tuple in actions_in_video:\n",
    "        species, action = action_tuple\n",
    "\n",
    "        if species in relevant_species and action in relevant_actions:\n",
    "            return True\n",
    "        \n",
    "    return False"
   ]
  },
  {
   "cell_type": "code",
   "execution_count": 26,
   "id": "82163cee",
   "metadata": {},
   "outputs": [
    {
     "name": "stdout",
     "output_type": "stream",
     "text": [
      "Number of relevant videos in dataset: 81\n"
     ]
    }
   ],
   "source": [
    "# Narrowing the dataset to only relevant fish videos (i.e., the ones containing attack-related action performed by fish.)\n",
    "relevant_videos = fish_videos[fish_videos['list_animal_action'].apply(lambda actions: \\\n",
    "                                                                      is_relevant_video(actions, relevant_actions, fish))]\n",
    "\n",
    "print('Number of relevant videos in dataset:', len(relevant_videos))"
   ]
  },
  {
   "cell_type": "code",
   "execution_count": 30,
   "id": "41f835fb",
   "metadata": {},
   "outputs": [
    {
     "name": "stdout",
     "output_type": "stream",
     "text": [
      "Number of relevant training samples: 74\n",
      "Number of relevant test samples: 7\n"
     ]
    }
   ],
   "source": [
    "print('Number of relevant training samples:', len(relevant_videos[relevant_videos['type'] == 'train']))\n",
    "print('Number of relevant test samples:', len(relevant_videos[relevant_videos['type'] == 'test']))"
   ]
  },
  {
   "cell_type": "markdown",
   "id": "24a659a1",
   "metadata": {},
   "source": [
    "# Inspecting relevant action videos"
   ]
  },
  {
   "cell_type": "code",
   "execution_count": 34,
   "id": "ba39bf6d",
   "metadata": {},
   "outputs": [],
   "source": [
    "# Setting up counters to record the distribution of actions and species in the relevant videos.\n",
    "action_counter = {action : 0 for action in relevant_actions}\n",
    "\n",
    "species_counter = {}"
   ]
  },
  {
   "cell_type": "code",
   "execution_count": 35,
   "id": "0d664e20",
   "metadata": {},
   "outputs": [],
   "source": [
    "for i in relevant_videos.index:\n",
    "    actions = relevant_videos.loc[i, 'list_animal_action']\n",
    "\n",
    "    for action_tuple in actions:\n",
    "        species, action = action_tuple\n",
    "\n",
    "        if species in fish and action in relevant_actions: \n",
    "            if species not in species_counter:\n",
    "                species_counter[species] = 1\n",
    "\n",
    "            else:\n",
    "                species_counter[species] += 1\n",
    "\n",
    "            action_counter[action] += 1"
   ]
  },
  {
   "cell_type": "markdown",
   "id": "7cd7a1a0",
   "metadata": {},
   "source": [
    "## Distribution of relevant action types"
   ]
  },
  {
   "cell_type": "code",
   "execution_count": 51,
   "id": "3a6c11bf",
   "metadata": {},
   "outputs": [
    {
     "data": {
      "image/png": "[encoded data removed]",
      "text/plain": [
       "<Figure size 640x480 with 1 Axes>"
      ]
     },
     "metadata": {},
     "output_type": "display_data"
    }
   ],
   "source": [
    "sorted_items = sorted(action_counter.items(), key=lambda x: x[1], reverse=True)\n",
    "\n",
    "actions, occurrences = zip(*sorted_items)\n",
    "\n",
    "plt.bar(actions, occurrences, color='cornflowerblue')\n",
    "plt.xlabel('Actions')\n",
    "plt.ylabel('Occurrences')\n",
    "plt.title('Distribution of Action Occurrences')\n",
    "plt.xticks(rotation=45)\n",
    "plt.show()"
   ]
  },
  {
   "cell_type": "markdown",
   "id": "36f2fe57",
   "metadata": {},
   "source": [
    "## Distribution of different fish species in relevant actions"
   ]
  },
  {
   "cell_type": "code",
   "execution_count": 38,
   "id": "c3aae869",
   "metadata": {},
   "outputs": [
    {
     "data": {
      "image/png": "[encoded data removed]",
      "text/plain": [
       "<Figure size 640x480 with 1 Axes>"
      ]
     },
     "metadata": {},
     "output_type": "display_data"
    }
   ],
   "source": [
    "sorted_items = sorted(species_counter.items(), key=lambda x: x[1], reverse=False)\n",
    "\n",
    "species, occurrences = zip(*sorted_items)\n",
    "\n",
    "plt.barh(species, \\\n",
    "        occurrences, \\\n",
    "            color='cornflowerblue')\n",
    "plt.ylabel('Species')\n",
    "plt.xlabel('Action occurrences')\n",
    "plt.title('Distribution of Species Occurences')\n",
    "plt.show()"
   ]
  },
  {
   "cell_type": "markdown",
   "id": "32923dfa",
   "metadata": {},
   "source": [
    "## Exploring possibility of \"baseline\" actions.\n",
    "The project builds on a binary classification task: predicting whether a video clip contains a predator attack or not. While the positive (\"attack\") examples can be collected using the action categories shown above, negative samples can either contain any fish video, or any fish video which contains a fish labelled as swimming. The latter is an option to ensure that only videos of moving fish are used. This section aims to explore the prevalence of \"swimming\" labels in fish videos of the AR dataset."
   ]
  },
  {
   "cell_type": "code",
   "execution_count": 49,
   "id": "efb19a62",
   "metadata": {},
   "outputs": [],
   "source": [
    "# Counting videos in which fish swim:\n",
    "\n",
    "relevant_video_ids = list(relevant_videos['video_id'])\n",
    "\n",
    "swim_counter = 0\n",
    "swim_counter_in_predation = 0 # Number of videos in which there is fish predation AND swimming.\n",
    "\n",
    "for i in fish_videos.index:\n",
    "    actions = fish_videos.loc[i, 'list_animal_action']\n",
    "\n",
    "    for action_tuple in actions:\n",
    "        species, action = action_tuple\n",
    "\n",
    "        if species in fish and action == 'Swimming':\n",
    "            swim_counter += 1\n",
    "\n",
    "            if fish_videos.loc[i, 'video_id'] in relevant_video_ids:\n",
    "                swim_counter_in_predation += 1\n",
    "\n",
    "            continue # Count each video only once."
   ]
  },
  {
   "cell_type": "code",
   "execution_count": 50,
   "id": "3367efdf",
   "metadata": {},
   "outputs": [
    {
     "name": "stdout",
     "output_type": "stream",
     "text": [
      "Number of videos with fish labelled as swimming: 504\n",
      "Number of videos with fish in predation and fish labelled as swimming: 38\n"
     ]
    }
   ],
   "source": [
    "print(f'Number of videos with fish labelled as swimming: {swim_counter}')\n",
    "print(f'Number of videos with fish in predation and fish labelled as swimming: {swim_counter_in_predation}')"
   ]
  }
 ],
 "metadata": {
  "kernelspec": {
   "display_name": "Python 3.8.8 ('base')",
   "language": "python",
   "name": "python3"
  },
  "language_info": {
   "codemirror_mode": {
    "name": "ipython",
    "version": 3
   },
   "file_extension": ".py",
   "mimetype": "text/x-python",
   "name": "python",
   "nbconvert_exporter": "python",
   "pygments_lexer": "ipython3",
   "version": "3.9.18"
  },
  "vscode": {
   "interpreter": {
    "hash": "f4bc7a400e35f160b13ed52195005e41b219907c1be09b125a1c17e685484faa"
   }
  }
 },
 "nbformat": 4,
 "nbformat_minor": 5
}
