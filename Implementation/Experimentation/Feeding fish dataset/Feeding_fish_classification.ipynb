{
  "nbformat": 4,
  "nbformat_minor": 0,
  "metadata": {
    "colab": {
      "provenance": [],
      "machine_shape": "hm",
      "gpuType": "L4",
      "authorship_tag": "ABX9TyMmejTf6SVkhlnqn7tid/JJ",
      "include_colab_link": true
    },
    "kernelspec": {
      "name": "python3",
      "display_name": "Python 3"
    },
    "language_info": {
      "name": "python"
    },
    "accelerator": "GPU"
  },
  "cells": [
    {
      "cell_type": "markdown",
      "metadata": {
        "id": "view-in-github",
        "colab_type": "text"
      },
      "source": [
        "<a href=\"https://colab.research.google.com/github/ZsofiaK/masterthesis/blob/main/Implementation/Experimentation/Feeding%20fish%20dataset/Feeding_fish_classification.ipynb\" target=\"_parent\"><img src=\"https://colab.research.google.com/assets/colab-badge.svg\" alt=\"Open In Colab\"/></a>"
      ]
    },
    {
      "cell_type": "markdown",
      "source": [
        "# Binary classification on Feeding fish dataset"
      ],
      "metadata": {
        "id": "mWH8ri454hxj"
      }
    },
    {
      "cell_type": "markdown",
      "source": [
        "## Preliminaries"
      ],
      "metadata": {
        "id": "oCIlfWxa5mby"
      }
    },
    {
      "cell_type": "code",
      "execution_count": 1,
      "metadata": {
        "id": "6-qieadA4OjS"
      },
      "outputs": [],
      "source": [
        "# Setting up dictionary for later ease of use.\n",
        "input_sizes_dict = {'dinov2-vits14-clf' : 384, 'dinov2-vitg14-clf' : 1536, \\\n",
        "                    'dinov2-vitb14-reg-clf' : 768}"
      ]
    },
    {
      "cell_type": "code",
      "source": [
        "# Set the dataset, model and embedding specifics for the classification.\n",
        "dataset_name = 'feedingFish'\n",
        "\n",
        "dataset_dir = 'Feeding fish'\n",
        "\n",
        "image_size = 196    # The size of the embedded images.\n",
        "\n",
        "embedding_method = 'dinov2-vitb14-reg-clf'\n",
        "\n",
        "val_score = 'roc_auc'  # Score to use during cross-validation.\n",
        "\n",
        "seed = 23   # For reproducability in pseudo-randomness.\n",
        "\n",
        "input_size = input_sizes_dict[embedding_method]   # Size of the input vectors (embeddings)."
      ],
      "metadata": {
        "id": "cyn-JCME43Dr"
      },
      "execution_count": 2,
      "outputs": []
    },
    {
      "cell_type": "code",
      "source": [
        "# Setting up parameters for cross validation.\n",
        "\n",
        "# Number of folds to use.\n",
        "cv_folds = 3\n",
        "\n",
        "# Parameter grids to use for the models.\n",
        "param_grid = { 'ShallowNetwork': {\n",
        "    'layers': [0, 1, 2, 3],\n",
        "    'dropout_rate': [0.0, 0.25, 0.5],\n",
        "    'learning_rate': [0.01, 0.001, 0.0001],\n",
        "    'pos_threshold' : [0.1, 0.15, 0.2, 0.5],  # Threshold for turning sigmoid prediction to binary label.\n",
        "    'epochs': [50],\n",
        "    'batch_size': [32]\n",
        "}\n",
        "}"
      ],
      "metadata": {
        "id": "6bVmpdHm5Xll"
      },
      "execution_count": 3,
      "outputs": []
    },
    {
      "cell_type": "code",
      "source": [
        "# Setting up folder to save outputs.\n",
        "import os\n",
        "\n",
        "output_dir = 'Output'\n",
        "os.makedirs(output_dir, exist_ok=True)"
      ],
      "metadata": {
        "id": "druN_Cme5Ybf"
      },
      "execution_count": 4,
      "outputs": []
    },
    {
      "cell_type": "code",
      "source": [
        "# Mount Drive.\n",
        "from google.colab import drive\n",
        "\n",
        "drive.mount('/content/drive')"
      ],
      "metadata": {
        "colab": {
          "base_uri": "https://localhost:8080/"
        },
        "id": "rWNyJ6uL5dAA",
        "outputId": "7cb00ee8-94ab-4521-873b-23f4a0c8811f"
      },
      "execution_count": 5,
      "outputs": [
        {
          "output_type": "stream",
          "name": "stdout",
          "text": [
            "Mounted at /content/drive\n"
          ]
        }
      ]
    },
    {
      "cell_type": "code",
      "source": [
        "# Specify data source\n",
        "data_dir = f\"/content/drive/MyDrive/UvA/M Thesis/Data/{dataset_dir}\""
      ],
      "metadata": {
        "id": "2YwrPZa25duz"
      },
      "execution_count": 6,
      "outputs": []
    },
    {
      "cell_type": "markdown",
      "source": [
        "## Loading data"
      ],
      "metadata": {
        "id": "St2nL1WZ5kPo"
      }
    },
    {
      "cell_type": "code",
      "source": [
        "# Import libraries\n",
        "import numpy as np\n",
        "import pandas as pd\n",
        "from sklearn.model_selection import train_test_split\n",
        "from sklearn.linear_model import LogisticRegression\n",
        "from sklearn.svm import SVC\n",
        "from sklearn.metrics import classification_report\n",
        "from IPython.display import clear_output\n",
        "import shutil"
      ],
      "metadata": {
        "id": "X1ObA_UT5leJ"
      },
      "execution_count": 7,
      "outputs": []
    },
    {
      "cell_type": "code",
      "source": [
        "# Load video embeddings and labels\n",
        "embeddings_dir = f'{data_dir}/Embeddings/{embedding_method}/{image_size}'\n",
        "clips_csv_path = f'{data_dir}/clips.csv'\n",
        "\n",
        "clips_df = pd.read_csv(clips_csv_path)\n",
        "\n",
        "nr_frames = len(clips_df)\n",
        "progress = 0\n",
        "\n",
        "X = []  # Embeddings\n",
        "y = []  # Labels\n",
        "frames_list = []  # Video names for saving predictions\n",
        "\n",
        "not_found_embeddings = []\n",
        "failed_embeddings = []\n",
        "\n",
        "for index, row in clips_df.iterrows():\n",
        "  video_name = row['video'].replace('.txt', '')\n",
        "  frame_idx = int(row['frame'])\n",
        "\n",
        "  label = row['label']\n",
        "\n",
        "  embedding_path = f'{embeddings_dir}/{video_name}/{video_name}_{frame_idx}.npy'\n",
        "\n",
        "  if (video_name, frame_idx) in frames_list:\n",
        "    continue      # Skip embeddings which have already been read.\n",
        "\n",
        "  if not os.path.exists(embedding_path):\n",
        "    not_found_embeddings.append((video_name, frame_idx))\n",
        "    continue\n",
        "\n",
        "  try:\n",
        "    embedding = np.load(embedding_path)\n",
        "\n",
        "    X.append(embedding)\n",
        "    y.append(label)\n",
        "    frames_list.append((video_name, frame_idx))\n",
        "\n",
        "  except:\n",
        "    failed_embeddings.append((video_name, frame_idx))\n",
        "\n",
        "  progress += 1\n",
        "\n",
        "  clear_output(wait=True)\n",
        "  print(f'Number of frames: {nr_frames}')\n",
        "  print(f'Progress: {progress/nr_frames * 100:.2f}%')"
      ],
      "metadata": {
        "colab": {
          "base_uri": "https://localhost:8080/"
        },
        "id": "FZ4M-t5_5oSE",
        "outputId": "99309e35-8636-4705-d8e7-3d11b75e1ba0"
      },
      "execution_count": 13,
      "outputs": [
        {
          "output_type": "stream",
          "name": "stdout",
          "text": [
            "Number of frames: 3348\n",
            "Progress: 99.88%\n"
          ]
        }
      ]
    },
    {
      "cell_type": "code",
      "source": [
        "# Check if all embeddings were successfully loaded.\n",
        "if len(not_found_embeddings) > 0:\n",
        "  print(f' WARNING: Failed to find embeddings for {len(not_found_embeddings)} frames.')\n",
        "\n",
        "if len(failed_embeddings) > 0:\n",
        "  print(f' WARNING: Failed to load embeddings for {len(not_found_embeddings)} frames.')\n",
        "\n",
        "if len(not_found_embeddings) + len(failed_embeddings) == 0:\n",
        "  print('Success! All embeddings read.')"
      ],
      "metadata": {
        "colab": {
          "base_uri": "https://localhost:8080/"
        },
        "id": "EE7v5sro7L2q",
        "outputId": "d8843b5e-79fb-475c-f23e-21a3849be1be"
      },
      "execution_count": 14,
      "outputs": [
        {
          "output_type": "stream",
          "name": "stdout",
          "text": [
            " WARNING: Failed to find embeddings for 4 frames.\n"
          ]
        }
      ]
    },
    {
      "cell_type": "code",
      "source": [
        "# Converting to numpy.\n",
        "X = np.array(X)\n",
        "y = np.array(y)"
      ],
      "metadata": {
        "id": "rlK-a8iJ7mgb"
      },
      "execution_count": 19,
      "outputs": []
    },
    {
      "cell_type": "code",
      "source": [
        "# Specify training and test sets\n",
        "from sklearn.model_selection import train_test_split\n",
        "\n",
        "X_train, X_test, y_train, y_test, frames_train, frames_test = train_test_split(\n",
        "    X, y, frames_list, test_size=0.2, stratify=y, random_state=seed)"
      ],
      "metadata": {
        "id": "W5TgmKs-7wk7"
      },
      "execution_count": 20,
      "outputs": []
    },
    {
      "cell_type": "code",
      "source": [
        "# Handle class imbalance through class weights\n",
        "from sklearn.utils.class_weight import compute_class_weight\n",
        "\n",
        "class_weights = compute_class_weight('balanced', classes=np.unique(y), y=y)\n",
        "class_weights_dict = {i: class_weights[i] for i in range(len(class_weights))}\n",
        "\n",
        "print('Class weights:')\n",
        "print(class_weights_dict)"
      ],
      "metadata": {
        "colab": {
          "base_uri": "https://localhost:8080/"
        },
        "id": "qu_wlMPG9PxV",
        "outputId": "c8284446-ab60-49cf-dbc2-a57af8fe9424"
      },
      "execution_count": 21,
      "outputs": [
        {
          "output_type": "stream",
          "name": "stdout",
          "text": [
            "Class weights:\n",
            "{0: 1.0011976047904192, 1: 0.998805256869773}\n"
          ]
        }
      ]
    },
    {
      "cell_type": "markdown",
      "source": [
        "## Cross-validate model"
      ],
      "metadata": {
        "id": "DBhjZL1a7uZj"
      }
    },
    {
      "cell_type": "code",
      "source": [
        "## FUNCTIONS FOR MODEL CROSS-VALIDATION.\n",
        "\n",
        "import numpy as np\n",
        "from keras.models import Sequential\n",
        "from keras.layers import Dense, Dropout\n",
        "from keras.optimizers import Adam\n",
        "from sklearn.model_selection import KFold\n",
        "from sklearn.metrics import recall_score, accuracy_score, f1_score, roc_auc_score\n",
        "from IPython.display import clear_output\n",
        "\n",
        "def create_shallow_network(input_dim, hidden_layers, dropout_rate, learning_rate):\n",
        "    model = Sequential()\n",
        "\n",
        "    # Dense input layer with ReLu\n",
        "    model.add(Dense(10, input_dim=input_dim, activation='relu'))\n",
        "\n",
        "    # Dense hidden layers with ReLu and dropout\n",
        "    for _ in range(hidden_layers):\n",
        "        model.add(Dense(128, activation='relu'))\n",
        "        model.add(Dropout(dropout_rate))\n",
        "\n",
        "    # Dense output layer with sigmoid activation\n",
        "    model.add(Dense(1, activation='sigmoid'))\n",
        "\n",
        "    optimizer = Adam(learning_rate=learning_rate)\n",
        "\n",
        "    model.compile(loss='binary_crossentropy', optimizer=optimizer, metrics=['accuracy'])\n",
        "\n",
        "    return model\n",
        "\n",
        "def crossval_shallow_network(n_splits, input_dim, X, y, params_grid, \\\n",
        "                             val_score = 'accuracy', verbose=False):\n",
        "\n",
        "  kf = KFold(n_splits=n_splits, shuffle=True, random_state=42)\n",
        "\n",
        "  # Set up best result tracker for grid search loop\n",
        "  best_score = 0\n",
        "\n",
        "  best_params = {}\n",
        "\n",
        "  # Calculate number of runs for progress monitoring.\n",
        "  total_runs = 1\n",
        "\n",
        "  for params in params_grid.values():\n",
        "    total_runs *= len(params)\n",
        "\n",
        "  total_runs *= n_splits\n",
        "\n",
        "  progress = 0\n",
        "\n",
        "  # Grid search loop\n",
        "  for hidden_layers in params_grid['layers']:\n",
        "      for dropout_rate in params_grid['dropout_rate']:\n",
        "          for learning_rate in params_grid['learning_rate']:\n",
        "\n",
        "            scores = {threshold : [] for threshold in params_grid['pos_threshold']}\n",
        "\n",
        "            for train_index, test_index in kf.split(X):\n",
        "                X_train, X_test = X[train_index], X[test_index]\n",
        "                y_train, y_test = y[train_index], y[test_index]\n",
        "\n",
        "                # Create and fit the model\n",
        "                model = create_shallow_network(input_dim, hidden_layers, \\\n",
        "                                                dropout_rate, learning_rate)\n",
        "\n",
        "                model.fit(X_train, y_train, epochs=10, verbose=0, class_weight=class_weights_dict)\n",
        "\n",
        "                # Sigmoid output\n",
        "                y_pred_raw = model.predict(X_test)\n",
        "\n",
        "                # Predicted labels based on sigmoid output\n",
        "                for threshold in params_grid['pos_threshold']:\n",
        "                  y_pred = (y_pred_raw > threshold).astype(int).squeeze()\n",
        "\n",
        "                  # Calculate performance based on selected score\n",
        "                  if val_score == 'accuracy':\n",
        "                    score = accuracy_score(y_test, y_pred)\n",
        "\n",
        "                  elif val_score == 'recall':\n",
        "                    score = recall_score(y_test, y_pred)\n",
        "\n",
        "                  elif val_score == 'f1_score':\n",
        "                    score = f1_score(y_test, y_pred)\n",
        "\n",
        "                  elif val_score == 'roc_auc':\n",
        "                    score = roc_auc_score(y_test, y_pred_raw)\n",
        "\n",
        "                  else:\n",
        "                    print(f'ERROR: unexpected validation score {val_score}.')\n",
        "                    print('Select one of: accuracy, recall, f1_score')\n",
        "\n",
        "                  scores[threshold].append(score)\n",
        "\n",
        "                  progress += 1\n",
        "\n",
        "                  clear_output(wait=True)\n",
        "                  print(f'Cross-validation progress: {progress / total_runs * 100:.2f}%')\n",
        "\n",
        "                # Best average score across all folds\n",
        "                best_threshold = max(scores, key=lambda thr: np.mean(scores[thr]))\n",
        "                best_average_score = np.mean(scores[best_threshold])\n",
        "\n",
        "                # Check if current model settings beat the current best\n",
        "                if best_average_score > best_score:\n",
        "                    best_score = best_average_score\n",
        "                    best_params = {'hidden_layers': hidden_layers,\n",
        "                                  'dropout_rate': dropout_rate,\n",
        "                                  'learning_rate': learning_rate,\n",
        "                                  'pos_threshold': best_threshold}\n",
        "\n",
        "  # Print best parameters and their score\n",
        "  if verbose:\n",
        "    print(f\"\\nBest Score: {best_score:.4f}\")\n",
        "    print(\"Best Parameters:\", best_params)\n",
        "\n",
        "  return best_params"
      ],
      "metadata": {
        "id": "hTjyIzy97v0S"
      },
      "execution_count": 27,
      "outputs": []
    },
    {
      "cell_type": "code",
      "source": [
        "# Selecting model with cross validation.\n",
        "from sklearn.model_selection import GridSearchCV\n",
        "from sklearn.metrics import classification_report\n",
        "\n",
        "best_params = crossval_shallow_network(cv_folds, input_size, X_train, \\\n",
        "                                        y_train, param_grid['ShallowNetwork'],\\\n",
        "                                        val_score = val_score, verbose=True)\n",
        "\n",
        "model = create_shallow_network(input_size, best_params['hidden_layers'], \\\n",
        "                                best_params['dropout_rate'], best_params['learning_rate'])"
      ],
      "metadata": {
        "colab": {
          "base_uri": "https://localhost:8080/"
        },
        "id": "lNthHXgr83MO",
        "outputId": "0e62c1e7-65a5-4093-853c-65c2b4a1f93c"
      },
      "execution_count": 28,
      "outputs": [
        {
          "output_type": "stream",
          "name": "stdout",
          "text": [
            "Cross-validation progress: 100.00%\n",
            "\n",
            "Best Score: 0.8928\n",
            "Best Parameters: {'hidden_layers': 0, 'dropout_rate': 0.0, 'learning_rate': 0.001, 'pos_threshold': 0.1}\n"
          ]
        }
      ]
    },
    {
      "cell_type": "code",
      "source": [
        "# Train model on the training set.\n",
        "model.fit(X_train, y_train, class_weight=class_weights_dict)"
      ],
      "metadata": {
        "colab": {
          "base_uri": "https://localhost:8080/"
        },
        "id": "RqKzYf9_9HnI",
        "outputId": "97bc9db0-a5d5-405e-8721-5482ff474636"
      },
      "execution_count": 29,
      "outputs": [
        {
          "output_type": "stream",
          "name": "stdout",
          "text": [
            "84/84 [==============================] - 1s 3ms/step - loss: 0.5919 - accuracy: 0.6964\n"
          ]
        },
        {
          "output_type": "execute_result",
          "data": {
            "text/plain": [
              "<keras.src.callbacks.History at 0x7fcb78711990>"
            ]
          },
          "metadata": {},
          "execution_count": 29
        }
      ]
    },
    {
      "cell_type": "code",
      "source": [
        "# Make predictions.\n",
        "y_pred_raw = model.predict(X_test)"
      ],
      "metadata": {
        "colab": {
          "base_uri": "https://localhost:8080/"
        },
        "id": "Gehdoq4e9aHL",
        "outputId": "1ed9c6a3-fec0-4e45-f75b-7f6ae07b6b41"
      },
      "execution_count": 30,
      "outputs": [
        {
          "output_type": "stream",
          "name": "stdout",
          "text": [
            "21/21 [==============================] - 0s 1ms/step\n"
          ]
        }
      ]
    },
    {
      "cell_type": "code",
      "source": [
        "# Choose best threshold in case of networks validated on ROC AUC.\n",
        "# Threshold is selected to maximize F1 score.\n",
        "from sklearn.metrics import precision_recall_curve\n",
        "\n",
        "precision, recall, thresholds = precision_recall_curve(y_test, y_pred_raw)\n",
        "\n",
        "# Calculate F1 Scores for different thresholds\n",
        "f1_scores = 2 * recall * precision / (recall + precision)\n",
        "\n",
        "f1_scores = f1_scores[:-1]    # Drop last score as that corresponds to -inf threshold.\n",
        "\n",
        "f1_scores_nonnull = f1_scores[~np.isnan(f1_scores)]\n",
        "\n",
        "thresholds_nonnull = thresholds[~np.isnan(f1_scores)]\n",
        "\n",
        "optimal_idx = np.argmax(f1_scores_nonnull)\n",
        "\n",
        "pos_threshold = thresholds_nonnull[optimal_idx]\n",
        "\n",
        "best_params['pos_threshold'] = pos_threshold\n",
        "\n",
        "print('Optimal threshold:', pos_threshold)"
      ],
      "metadata": {
        "colab": {
          "base_uri": "https://localhost:8080/"
        },
        "id": "YFpgp7279b0K",
        "outputId": "562b2687-dac2-4705-e96a-2a7535b9ba65"
      },
      "execution_count": 31,
      "outputs": [
        {
          "output_type": "stream",
          "name": "stdout",
          "text": [
            "Optimal threshold: 0.4098144\n"
          ]
        }
      ]
    },
    {
      "cell_type": "code",
      "source": [
        "# Saving best hyperparameters.\n",
        "best_params_df = pd.DataFrame([best_params])\n",
        "\n",
        "params_output_path = os.path.join(output_dir, 'Parameters')\n",
        "\n",
        "os.makedirs(params_output_path, exist_ok=True)\n",
        "\n",
        "params_csv_path = os.path.join(output_dir, f'Parameters/params_{dataset_name}_{embedding_method}_{image_size}_{val_score.replace(\"_\", \"-\")}.csv')\n",
        "\n",
        "best_params_df.to_csv(params_csv_path, index=False)"
      ],
      "metadata": {
        "id": "-VqTFQzS9laW"
      },
      "execution_count": 32,
      "outputs": []
    },
    {
      "cell_type": "code",
      "source": [
        "len(y_test)"
      ],
      "metadata": {
        "colab": {
          "base_uri": "https://localhost:8080/"
        },
        "id": "3Ym5fgewORk8",
        "outputId": "5f8fcbcb-b2fb-48f5-beec-18de30f17328"
      },
      "execution_count": 37,
      "outputs": [
        {
          "output_type": "execute_result",
          "data": {
            "text/plain": [
              "3344"
            ]
          },
          "metadata": {},
          "execution_count": 37
        }
      ]
    },
    {
      "cell_type": "markdown",
      "source": [
        "# Predictions and testing"
      ],
      "metadata": {
        "id": "UaDdi-gb9wWw"
      }
    },
    {
      "cell_type": "code",
      "source": [
        "# Prepare DataFrame with video names and predictions.\n",
        "predictions_df = pd.DataFrame({\n",
        "    'frame': frames_test,\n",
        "    'prediction': y_pred_raw.squeeze(),\n",
        "    'label' : y_test\n",
        "})\n",
        "\n",
        "# Create predictions output directory.\n",
        "pred_output_path = os.path.join(output_dir, 'Predictions')\n",
        "os.makedirs(pred_output_path, exist_ok=True)\n",
        "\n",
        "# Save predictions.\n",
        "predictions_csv_path = os.path.join(pred_output_path, f'pred_{dataset_name}_{embedding_method}_{image_size}_{val_score.replace(\"_\", \"-\")}.csv')\n",
        "predictions_df.to_csv(predictions_csv_path, index=False)\n",
        "\n",
        "# Copy predictions to Drive.\n",
        "drive_pred_dir = f'{data_dir}/Predictions'\n",
        "os.makedirs(drive_pred_dir, exist_ok=True)\n",
        "\n",
        "shutil.copy(predictions_csv_path, f'{drive_pred_dir}/pred_{dataset_name}_{embedding_method}_{image_size}_{val_score.replace(\"_\", \"-\")}.csv')"
      ],
      "metadata": {
        "colab": {
          "base_uri": "https://localhost:8080/",
          "height": 35
        },
        "id": "eFLXEA15OFVH",
        "outputId": "c1bc5718-5a46-4fc3-a1f6-40f04871deeb"
      },
      "execution_count": 39,
      "outputs": [
        {
          "output_type": "execute_result",
          "data": {
            "text/plain": [
              "'/content/drive/MyDrive/UvA/M Thesis/Data/Feeding fish/Predictions/pred_feedingFish_dinov2-vitb14-reg-clf_196_roc-auc.csv'"
            ],
            "application/vnd.google.colaboratory.intrinsic+json": {
              "type": "string"
            }
          },
          "metadata": {},
          "execution_count": 39
        }
      ]
    },
    {
      "cell_type": "markdown",
      "source": [
        "### Classification report on test set"
      ],
      "metadata": {
        "id": "03v2MPa299Jc"
      }
    },
    {
      "cell_type": "code",
      "source": [
        "y_pred = (y_pred_raw > best_params['pos_threshold']).astype(int).squeeze()"
      ],
      "metadata": {
        "id": "Fde_s-ul9zsa"
      },
      "execution_count": 33,
      "outputs": []
    },
    {
      "cell_type": "code",
      "source": [
        "# Producing classification report.\n",
        "report = classification_report(y_test, y_pred, target_names=['No feeding', 'Feeding'])\n",
        "\n",
        "print(report)"
      ],
      "metadata": {
        "colab": {
          "base_uri": "https://localhost:8080/"
        },
        "id": "tWuQeaiF95qU",
        "outputId": "1b5441f0-fca4-42f8-d9d2-8841dec45d1b"
      },
      "execution_count": 35,
      "outputs": [
        {
          "output_type": "stream",
          "name": "stdout",
          "text": [
            "              precision    recall  f1-score   support\n",
            "\n",
            "  No feeding       0.81      0.63      0.71       334\n",
            "     Feeding       0.70      0.85      0.77       335\n",
            "\n",
            "    accuracy                           0.74       669\n",
            "   macro avg       0.75      0.74      0.74       669\n",
            "weighted avg       0.75      0.74      0.74       669\n",
            "\n"
          ]
        }
      ]
    },
    {
      "cell_type": "markdown",
      "source": [
        "### Confusion matrix"
      ],
      "metadata": {
        "id": "LmIdSlYdQoT4"
      }
    },
    {
      "cell_type": "code",
      "source": [
        "import matplotlib.pyplot as plt\n",
        "import seaborn as sns\n",
        "from sklearn.metrics import confusion_matrix\n",
        "\n",
        "# Calculate confusion matrix\n",
        "cm = confusion_matrix(y_test, y_pred)\n",
        "\n",
        "# Plot confusion matrix as heatmap\n",
        "plt.figure(figsize=(8, 6))\n",
        "sns.heatmap(cm, annot=True, fmt=\"d\", cmap=\"Blues\",\n",
        "            xticklabels=[\"No Feeding\", \"Feeding\"],\n",
        "            yticklabels=[\"No Feeding\", \"Feeding\"])\n",
        "plt.xlabel('Predicted Label')\n",
        "plt.ylabel('True Label')\n",
        "plt.title('Confusion Matrix')\n",
        "plt.show()"
      ],
      "metadata": {
        "colab": {
          "base_uri": "https://localhost:8080/",
          "height": 564
        },
        "id": "tbfdWEQcQpy2",
        "outputId": "0c887871-b0be-4ec6-ea6f-ee55ce746a45"
      },
      "execution_count": 40,
      "outputs": [
        {
          "output_type": "display_data",
          "data": {
            "text/plain": [
              "<Figure size 800x600 with 2 Axes>"
            ],
            "image/png": "[encoded data removed]"
          },
          "metadata": {}
        }
      ]
    }
  ]
}