{
  "nbformat": 4,
  "nbformat_minor": 0,
  "metadata": {
    "colab": {
      "provenance": [],
      "authorship_tag": "ABX9TyPVEbP++8GtXWXbOQAWrhzt",
      "include_colab_link": true
    },
    "kernelspec": {
      "name": "python3",
      "display_name": "Python 3"
    },
    "language_info": {
      "name": "python"
    }
  },
  "cells": [
    {
      "cell_type": "markdown",
      "metadata": {
        "id": "view-in-github",
        "colab_type": "text"
      },
      "source": [
        "<a href=\"https://colab.research.google.com/github/ZsofiaK/masterthesis/blob/main/Implementation/Setup_AK_fish.ipynb\" target=\"_parent\"><img src=\"https://colab.research.google.com/assets/colab-badge.svg\" alt=\"Open In Colab\"/></a>"
      ]
    },
    {
      "cell_type": "markdown",
      "source": [
        "# Setting up Animal Kingdom dataset\n",
        "\n",
        "**The following steps are included in this notebook:**\n",
        "1. Extracting the AK AR video dataset.\n",
        "2. Selecting relevant videos (fish and fish attacks) based on list compiled during EDA.\n",
        "3. Copying relevant videos to dedicated data folder on Drive.\n",
        "4. Compiling dataframe containing metadata on videos (label, fps, length) and storing it in Drive.\n",
        "5. Data description steps (property distributions).\n",
        "\n",
        "`PLEASE NOTE` that it is a prerequisite of this notebook to have already gained access to the Animal Kingdom dataset on Google Drive."
      ],
      "metadata": {
        "id": "gnqLMkONfKWW"
      }
    },
    {
      "cell_type": "markdown",
      "source": [
        "## Extracting the dataset"
      ],
      "metadata": {
        "id": "ksmKPv49f_XU"
      }
    },
    {
      "cell_type": "code",
      "execution_count": 1,
      "metadata": {
        "colab": {
          "base_uri": "https://localhost:8080/"
        },
        "id": "fptBVqjxfDeD",
        "outputId": "c883f328-00d3-4fa6-d91e-9bb120062147"
      },
      "outputs": [
        {
          "output_type": "stream",
          "name": "stdout",
          "text": [
            "Mounted at /content/drive\n"
          ]
        }
      ],
      "source": [
        "# Mounting Drive.\n",
        "from google.colab import drive\n",
        "drive.mount('/content/drive')"
      ]
    },
    {
      "cell_type": "code",
      "source": [
        "# Specifying source and destination directories.\n",
        "\n",
        "import os\n",
        "\n",
        "source_path = '/content/drive/My Drive/UvA/M Thesis/Data/Animal Kingdom/video.tar.gz'\n",
        "\n",
        "destination_folder = '/content/Videos'\n",
        "\n",
        "# Create the destination folder if it does not exist\n",
        "os.makedirs(destination_folder, exist_ok=True)"
      ],
      "metadata": {
        "id": "tnowbmvAgsLH"
      },
      "execution_count": 2,
      "outputs": []
    },
    {
      "cell_type": "code",
      "source": [
        "# Extract videos.\n",
        "\n",
        "import tarfile\n",
        "\n",
        "with tarfile.open(source_path, 'r:gz') as file:\n",
        "    file.extractall(path=destination_folder)\n",
        "\n",
        "    print(\"Extraction completed.\")"
      ],
      "metadata": {
        "colab": {
          "base_uri": "https://localhost:8080/"
        },
        "id": "V8pEUjIGixiW",
        "outputId": "eb406753-e3d3-4194-9be9-99752afa2415"
      },
      "execution_count": 3,
      "outputs": [
        {
          "output_type": "stream",
          "name": "stdout",
          "text": [
            "Extraction completed.\n"
          ]
        }
      ]
    },
    {
      "cell_type": "markdown",
      "source": [
        "## Selecting relevant videos"
      ],
      "metadata": {
        "id": "AHJlCfIqpaK6"
      }
    },
    {
      "cell_type": "code",
      "source": [
        "# Copy fish metadata from Drive.\n",
        "import shutil\n",
        "\n",
        "metadata_source = '/content/drive/My Drive/UvA/M Thesis/Data/AK fish/clips.csv'\n",
        "\n",
        "metadata_dest = '/content/clips.csv'\n",
        "\n",
        "shutil.copy(metadata_source, metadata_dest)"
      ],
      "metadata": {
        "id": "dSss8ligpZWM"
      },
      "execution_count": null,
      "outputs": []
    },
    {
      "cell_type": "code",
      "source": [
        "# Load metadata table.\n",
        "import pandas as pd\n",
        "\n",
        "clips_df = pd.read_csv(metadata_dest)\n",
        "\n",
        "clips_df.head()"
      ],
      "metadata": {
        "colab": {
          "base_uri": "https://localhost:8080/",
          "height": 204
        },
        "id": "QJshGh0HtsU_",
        "outputId": "ee645d14-6b7b-41ab-9194-41f5a102dad9"
      },
      "execution_count": 6,
      "outputs": [
        {
          "output_type": "execute_result",
          "data": {
            "text/plain": [
              "   S/N  video_id   type                                 list_animal_action  \\\n",
              "0   11  AAFWRPDI  train                             [('Fish', 'Swimming')]   \n",
              "1   18  AAJNFNXN  train       [('Fish', 'Swimming'), ('Orca', 'Swimming')]   \n",
              "2   42  AATNWZAA  train        [('Fish', 'Swimming'), ('Fish', 'Sensing')]   \n",
              "3   97  ACFCJUPH  train                          [('Catfish', 'Swimming')]   \n",
              "4  124  ADBJMPIF  train  [('Sardine', 'Fleeing'), ('Sea Lion', 'Eating'...   \n",
              "\n",
              "   label  \n",
              "0      0  \n",
              "1      0  \n",
              "2      0  \n",
              "3      0  \n",
              "4      1  "
            ],
            "text/html": [
              "\n",
              "  <div id=\"df-6d32f903-8d6a-48fd-a846-fb022caa56d8\" class=\"colab-df-container\">\n",
              "    <div>\n",
              "<style scoped>\n",
              "    .dataframe tbody tr th:only-of-type {\n",
              "        vertical-align: middle;\n",
              "    }\n",
              "\n",
              "    .dataframe tbody tr th {\n",
              "        vertical-align: top;\n",
              "    }\n",
              "\n",
              "    .dataframe thead th {\n",
              "        text-align: right;\n",
              "    }\n",
              "</style>\n",
              "<table border=\"1\" class=\"dataframe\">\n",
              "  <thead>\n",
              "    <tr style=\"text-align: right;\">\n",
              "      <th></th>\n",
              "      <th>S/N</th>\n",
              "      <th>video_id</th>\n",
              "      <th>type</th>\n",
              "      <th>list_animal_action</th>\n",
              "      <th>label</th>\n",
              "    </tr>\n",
              "  </thead>\n",
              "  <tbody>\n",
              "    <tr>\n",
              "      <th>0</th>\n",
              "      <td>11</td>\n",
              "      <td>AAFWRPDI</td>\n",
              "      <td>train</td>\n",
              "      <td>[('Fish', 'Swimming')]</td>\n",
              "      <td>0</td>\n",
              "    </tr>\n",
              "    <tr>\n",
              "      <th>1</th>\n",
              "      <td>18</td>\n",
              "      <td>AAJNFNXN</td>\n",
              "      <td>train</td>\n",
              "      <td>[('Fish', 'Swimming'), ('Orca', 'Swimming')]</td>\n",
              "      <td>0</td>\n",
              "    </tr>\n",
              "    <tr>\n",
              "      <th>2</th>\n",
              "      <td>42</td>\n",
              "      <td>AATNWZAA</td>\n",
              "      <td>train</td>\n",
              "      <td>[('Fish', 'Swimming'), ('Fish', 'Sensing')]</td>\n",
              "      <td>0</td>\n",
              "    </tr>\n",
              "    <tr>\n",
              "      <th>3</th>\n",
              "      <td>97</td>\n",
              "      <td>ACFCJUPH</td>\n",
              "      <td>train</td>\n",
              "      <td>[('Catfish', 'Swimming')]</td>\n",
              "      <td>0</td>\n",
              "    </tr>\n",
              "    <tr>\n",
              "      <th>4</th>\n",
              "      <td>124</td>\n",
              "      <td>ADBJMPIF</td>\n",
              "      <td>train</td>\n",
              "      <td>[('Sardine', 'Fleeing'), ('Sea Lion', 'Eating'...</td>\n",
              "      <td>1</td>\n",
              "    </tr>\n",
              "  </tbody>\n",
              "</table>\n",
              "</div>\n",
              "    <div class=\"colab-df-buttons\">\n",
              "\n",
              "  <div class=\"colab-df-container\">\n",
              "    <button class=\"colab-df-convert\" onclick=\"convertToInteractive('df-6d32f903-8d6a-48fd-a846-fb022caa56d8')\"\n",
              "            title=\"Convert this dataframe to an interactive table.\"\n",
              "            style=\"display:none;\">\n",
              "\n",
              "  <svg xmlns=\"http://www.w3.org/2000/svg\" height=\"24px\" viewBox=\"0 -960 960 960\">\n",
              "    <path d=\"M120-120v-720h720v720H120Zm60-500h600v-160H180v160Zm220 220h160v-160H400v160Zm0 220h160v-160H400v160ZM180-400h160v-160H180v160Zm440 0h160v-160H620v160ZM180-180h160v-160H180v160Zm440 0h160v-160H620v160Z\"/>\n",
              "  </svg>\n",
              "    </button>\n",
              "\n",
              "  <style>\n",
              "    .colab-df-container {\n",
              "      display:flex;\n",
              "      gap: 12px;\n",
              "    }\n",
              "\n",
              "    .colab-df-convert {\n",
              "      background-color: #E8F0FE;\n",
              "      border: none;\n",
              "      border-radius: 50%;\n",
              "      cursor: pointer;\n",
              "      display: none;\n",
              "      fill: #1967D2;\n",
              "      height: 32px;\n",
              "      padding: 0 0 0 0;\n",
              "      width: 32px;\n",
              "    }\n",
              "\n",
              "    .colab-df-convert:hover {\n",
              "      background-color: #E2EBFA;\n",
              "      box-shadow: 0px 1px 2px rgba(60, 64, 67, 0.3), 0px 1px 3px 1px rgba(60, 64, 67, 0.15);\n",
              "      fill: #174EA6;\n",
              "    }\n",
              "\n",
              "    .colab-df-buttons div {\n",
              "      margin-bottom: 4px;\n",
              "    }\n",
              "\n",
              "    [theme=dark] .colab-df-convert {\n",
              "      background-color: #3B4455;\n",
              "      fill: #D2E3FC;\n",
              "    }\n",
              "\n",
              "    [theme=dark] .colab-df-convert:hover {\n",
              "      background-color: #434B5C;\n",
              "      box-shadow: 0px 1px 3px 1px rgba(0, 0, 0, 0.15);\n",
              "      filter: drop-shadow(0px 1px 2px rgba(0, 0, 0, 0.3));\n",
              "      fill: #FFFFFF;\n",
              "    }\n",
              "  </style>\n",
              "\n",
              "    <script>\n",
              "      const buttonEl =\n",
              "        document.querySelector('#df-6d32f903-8d6a-48fd-a846-fb022caa56d8 button.colab-df-convert');\n",
              "      buttonEl.style.display =\n",
              "        google.colab.kernel.accessAllowed ? 'block' : 'none';\n",
              "\n",
              "      async function convertToInteractive(key) {\n",
              "        const element = document.querySelector('#df-6d32f903-8d6a-48fd-a846-fb022caa56d8');\n",
              "        const dataTable =\n",
              "          await google.colab.kernel.invokeFunction('convertToInteractive',\n",
              "                                                    [key], {});\n",
              "        if (!dataTable) return;\n",
              "\n",
              "        const docLinkHtml = 'Like what you see? Visit the ' +\n",
              "          '<a target=\"_blank\" href=https://colab.research.google.com/notebooks/data_table.ipynb>data table notebook</a>'\n",
              "          + ' to learn more about interactive tables.';\n",
              "        element.innerHTML = '';\n",
              "        dataTable['output_type'] = 'display_data';\n",
              "        await google.colab.output.renderOutput(dataTable, element);\n",
              "        const docLink = document.createElement('div');\n",
              "        docLink.innerHTML = docLinkHtml;\n",
              "        element.appendChild(docLink);\n",
              "      }\n",
              "    </script>\n",
              "  </div>\n",
              "\n",
              "\n",
              "<div id=\"df-095b7db1-8dc6-4e57-be66-b7c0edab7e2d\">\n",
              "  <button class=\"colab-df-quickchart\" onclick=\"quickchart('df-095b7db1-8dc6-4e57-be66-b7c0edab7e2d')\"\n",
              "            title=\"Suggest charts\"\n",
              "            style=\"display:none;\">\n",
              "\n",
              "<svg xmlns=\"http://www.w3.org/2000/svg\" height=\"24px\"viewBox=\"0 0 24 24\"\n",
              "     width=\"24px\">\n",
              "    <g>\n",
              "        <path d=\"M19 3H5c-1.1 0-2 .9-2 2v14c0 1.1.9 2 2 2h14c1.1 0 2-.9 2-2V5c0-1.1-.9-2-2-2zM9 17H7v-7h2v7zm4 0h-2V7h2v10zm4 0h-2v-4h2v4z\"/>\n",
              "    </g>\n",
              "</svg>\n",
              "  </button>\n",
              "\n",
              "<style>\n",
              "  .colab-df-quickchart {\n",
              "      --bg-color: #E8F0FE;\n",
              "      --fill-color: #1967D2;\n",
              "      --hover-bg-color: #E2EBFA;\n",
              "      --hover-fill-color: #174EA6;\n",
              "      --disabled-fill-color: #AAA;\n",
              "      --disabled-bg-color: #DDD;\n",
              "  }\n",
              "\n",
              "  [theme=dark] .colab-df-quickchart {\n",
              "      --bg-color: #3B4455;\n",
              "      --fill-color: #D2E3FC;\n",
              "      --hover-bg-color: #434B5C;\n",
              "      --hover-fill-color: #FFFFFF;\n",
              "      --disabled-bg-color: #3B4455;\n",
              "      --disabled-fill-color: #666;\n",
              "  }\n",
              "\n",
              "  .colab-df-quickchart {\n",
              "    background-color: var(--bg-color);\n",
              "    border: none;\n",
              "    border-radius: 50%;\n",
              "    cursor: pointer;\n",
              "    display: none;\n",
              "    fill: var(--fill-color);\n",
              "    height: 32px;\n",
              "    padding: 0;\n",
              "    width: 32px;\n",
              "  }\n",
              "\n",
              "  .colab-df-quickchart:hover {\n",
              "    background-color: var(--hover-bg-color);\n",
              "    box-shadow: 0 1px 2px rgba(60, 64, 67, 0.3), 0 1px 3px 1px rgba(60, 64, 67, 0.15);\n",
              "    fill: var(--button-hover-fill-color);\n",
              "  }\n",
              "\n",
              "  .colab-df-quickchart-complete:disabled,\n",
              "  .colab-df-quickchart-complete:disabled:hover {\n",
              "    background-color: var(--disabled-bg-color);\n",
              "    fill: var(--disabled-fill-color);\n",
              "    box-shadow: none;\n",
              "  }\n",
              "\n",
              "  .colab-df-spinner {\n",
              "    border: 2px solid var(--fill-color);\n",
              "    border-color: transparent;\n",
              "    border-bottom-color: var(--fill-color);\n",
              "    animation:\n",
              "      spin 1s steps(1) infinite;\n",
              "  }\n",
              "\n",
              "  @keyframes spin {\n",
              "    0% {\n",
              "      border-color: transparent;\n",
              "      border-bottom-color: var(--fill-color);\n",
              "      border-left-color: var(--fill-color);\n",
              "    }\n",
              "    20% {\n",
              "      border-color: transparent;\n",
              "      border-left-color: var(--fill-color);\n",
              "      border-top-color: var(--fill-color);\n",
              "    }\n",
              "    30% {\n",
              "      border-color: transparent;\n",
              "      border-left-color: var(--fill-color);\n",
              "      border-top-color: var(--fill-color);\n",
              "      border-right-color: var(--fill-color);\n",
              "    }\n",
              "    40% {\n",
              "      border-color: transparent;\n",
              "      border-right-color: var(--fill-color);\n",
              "      border-top-color: var(--fill-color);\n",
              "    }\n",
              "    60% {\n",
              "      border-color: transparent;\n",
              "      border-right-color: var(--fill-color);\n",
              "    }\n",
              "    80% {\n",
              "      border-color: transparent;\n",
              "      border-right-color: var(--fill-color);\n",
              "      border-bottom-color: var(--fill-color);\n",
              "    }\n",
              "    90% {\n",
              "      border-color: transparent;\n",
              "      border-bottom-color: var(--fill-color);\n",
              "    }\n",
              "  }\n",
              "</style>\n",
              "\n",
              "  <script>\n",
              "    async function quickchart(key) {\n",
              "      const quickchartButtonEl =\n",
              "        document.querySelector('#' + key + ' button');\n",
              "      quickchartButtonEl.disabled = true;  // To prevent multiple clicks.\n",
              "      quickchartButtonEl.classList.add('colab-df-spinner');\n",
              "      try {\n",
              "        const charts = await google.colab.kernel.invokeFunction(\n",
              "            'suggestCharts', [key], {});\n",
              "      } catch (error) {\n",
              "        console.error('Error during call to suggestCharts:', error);\n",
              "      }\n",
              "      quickchartButtonEl.classList.remove('colab-df-spinner');\n",
              "      quickchartButtonEl.classList.add('colab-df-quickchart-complete');\n",
              "    }\n",
              "    (() => {\n",
              "      let quickchartButtonEl =\n",
              "        document.querySelector('#df-095b7db1-8dc6-4e57-be66-b7c0edab7e2d button');\n",
              "      quickchartButtonEl.style.display =\n",
              "        google.colab.kernel.accessAllowed ? 'block' : 'none';\n",
              "    })();\n",
              "  </script>\n",
              "</div>\n",
              "    </div>\n",
              "  </div>\n"
            ],
            "application/vnd.google.colaboratory.intrinsic+json": {
              "type": "dataframe",
              "variable_name": "clips_df",
              "summary": "{\n  \"name\": \"clips_df\",\n  \"rows\": 887,\n  \"fields\": [\n    {\n      \"column\": \"S/N\",\n      \"properties\": {\n        \"dtype\": \"number\",\n        \"std\": 8291,\n        \"min\": 11,\n        \"max\": 29958,\n        \"num_unique_values\": 887,\n        \"samples\": [\n          9669,\n          21331,\n          17057\n        ],\n        \"semantic_type\": \"\",\n        \"description\": \"\"\n      }\n    },\n    {\n      \"column\": \"video_id\",\n      \"properties\": {\n        \"dtype\": \"string\",\n        \"num_unique_values\": 887,\n        \"samples\": [\n          \"KIVJMUPH\",\n          \"WTMDXFFP\",\n          \"SCKAAUPH\"\n        ],\n        \"semantic_type\": \"\",\n        \"description\": \"\"\n      }\n    },\n    {\n      \"column\": \"type\",\n      \"properties\": {\n        \"dtype\": \"category\",\n        \"num_unique_values\": 2,\n        \"samples\": [\n          \"test\",\n          \"train\"\n        ],\n        \"semantic_type\": \"\",\n        \"description\": \"\"\n      }\n    },\n    {\n      \"column\": \"list_animal_action\",\n      \"properties\": {\n        \"dtype\": \"category\",\n        \"num_unique_values\": 332,\n        \"samples\": [\n          \"[('Perch Fish', 'Being Eaten'), ('Dice Snake', 'Eating')]\",\n          \"[('Carcharias Taurus', 'Eating'), ('Fish', 'Swimming')]\"\n        ],\n        \"semantic_type\": \"\",\n        \"description\": \"\"\n      }\n    },\n    {\n      \"column\": \"label\",\n      \"properties\": {\n        \"dtype\": \"number\",\n        \"std\": 0,\n        \"min\": 0,\n        \"max\": 1,\n        \"num_unique_values\": 2,\n        \"samples\": [\n          1,\n          0\n        ],\n        \"semantic_type\": \"\",\n        \"description\": \"\"\n      }\n    }\n  ]\n}"
            }
          },
          "metadata": {},
          "execution_count": 6
        }
      ]
    },
    {
      "cell_type": "code",
      "source": [
        "# Setting up directory for relevant fish videos.\n",
        "source_folder = '/content/Videos/video'\n",
        "destination_folder = '/content/Clips'\n",
        "\n",
        "# Create the destination folder if it does not exist\n",
        "os.makedirs(destination_folder, exist_ok=True)"
      ],
      "metadata": {
        "id": "NGeRTAd_unuX"
      },
      "execution_count": 7,
      "outputs": []
    },
    {
      "cell_type": "code",
      "source": [
        "# Loop through the video IDs and move each relevant video file to new directory\n",
        "\n",
        "from IPython.display import clear_output\n",
        "\n",
        "not_found_videos = 0\n",
        "\n",
        "progress = 0\n",
        "\n",
        "nr_videos = len(clips_df)\n",
        "\n",
        "for video_id in clips_df['video_id']:\n",
        "    source_file = os.path.join(source_folder, f\"{video_id}.mp4\")\n",
        "\n",
        "    destination_file = os.path.join(destination_folder, f\"{video_id}.mp4\")\n",
        "\n",
        "    # Check if the file exists before trying to move\n",
        "    if os.path.exists(source_file):\n",
        "        shutil.move(source_file, destination_file)\n",
        "\n",
        "    else:\n",
        "        not_found_videos += 1\n",
        "\n",
        "    progress += 1\n",
        "    clear_output(wait=True)\n",
        "    print(f'Progress: {progress / nr_videos * 100:.2f}%')"
      ],
      "metadata": {
        "colab": {
          "base_uri": "https://localhost:8080/"
        },
        "id": "OtbrZJzgu7SJ",
        "outputId": "5866b6ca-c0d8-4d58-b875-9c0f405ae107"
      },
      "execution_count": 10,
      "outputs": [
        {
          "output_type": "stream",
          "name": "stdout",
          "text": [
            "Progress: 100.00%\n"
          ]
        }
      ]
    },
    {
      "cell_type": "code",
      "source": [
        "# Checking if all relevant videos were found.\n",
        "\n",
        "if not_found_videos > 0:\n",
        "  print(f'WARNING: {not_found_videos} not found.')\n",
        "\n",
        "else:\n",
        "  print('Successfully moved relevant videos!')"
      ],
      "metadata": {
        "colab": {
          "base_uri": "https://localhost:8080/"
        },
        "id": "20_1Dp1WvuFo",
        "outputId": "1f680640-7753-4fa9-aef3-608b83f602c1"
      },
      "execution_count": 11,
      "outputs": [
        {
          "output_type": "stream",
          "name": "stdout",
          "text": [
            "Successfully moved relevant videos!\n"
          ]
        }
      ]
    },
    {
      "cell_type": "markdown",
      "source": [
        "## Copying relevant videos to data folder in Drive."
      ],
      "metadata": {
        "id": "WCIhG006x77_"
      }
    },
    {
      "cell_type": "code",
      "source": [
        "# Copying relevant videos to dedicated data folder on Drive.\n",
        "clips_source = '/content/Clips'\n",
        "\n",
        "drive_dest = '/content/drive/My Drive/UvA/M Thesis/Data/AK fish/Clips'\n",
        "\n",
        "os.makedirs(drive_dest, exist_ok=True)\n",
        "\n",
        "shutil.copytree(clips_source, drive_dest, dirs_exist_ok=True)"
      ],
      "metadata": {
        "colab": {
          "base_uri": "https://localhost:8080/",
          "height": 35
        },
        "id": "H5s_3NaYwb8N",
        "outputId": "37152c66-b6ed-4e4a-a95a-0605858ac2cf"
      },
      "execution_count": 12,
      "outputs": [
        {
          "output_type": "execute_result",
          "data": {
            "text/plain": [
              "'/content/drive/My Drive/UvA/M Thesis/Data/AK fish/Clips'"
            ],
            "application/vnd.google.colaboratory.intrinsic+json": {
              "type": "string"
            }
          },
          "metadata": {},
          "execution_count": 12
        }
      ]
    },
    {
      "cell_type": "markdown",
      "source": [
        "## Inspecting length and temporal resolution of videos"
      ],
      "metadata": {
        "id": "nhrff4Wnyt5j"
      }
    },
    {
      "cell_type": "code",
      "source": [
        "# Defining helper function.\n",
        "\n",
        "import cv2\n",
        "\n",
        "def get_video_properties(video_path):\n",
        "  '''\n",
        "  Returns the number of frames and frames per second for a video.\n",
        "  '''\n",
        "\n",
        "  cap = cv2.VideoCapture(video_path)\n",
        "\n",
        "  if not cap.isOpened():    # If the video cannot be opened.\n",
        "      return None, None\n",
        "\n",
        "  nr_frames = int(cap.get(cv2.CAP_PROP_FRAME_COUNT))\n",
        "  fps = cap.get(cv2.CAP_PROP_FPS)\n",
        "\n",
        "  cap.release()\n",
        "\n",
        "  return nr_frames, fps"
      ],
      "metadata": {
        "id": "Am7eMBzhyA40"
      },
      "execution_count": 13,
      "outputs": []
    },
    {
      "cell_type": "code",
      "source": [
        "# Collecting number of frames and fps for each video.\n",
        "\n",
        "clips_path = '/content/Clips'\n",
        "\n",
        "# Initialize lists to store the data\n",
        "frame_counts = []\n",
        "fps_values = []\n",
        "\n",
        "progress = 0\n",
        "nr_videos = len(clips_df)\n",
        "\n",
        "# Iterate over each row in the DataFrame\n",
        "for idx, row in clips_df.iterrows():\n",
        "    video_file = f\"{clips_path}/{row['video_id']}.mp4\"\n",
        "\n",
        "    nr_frames, fps = get_video_properties(video_file)\n",
        "\n",
        "    # Append the results\n",
        "    frame_counts.append(nr_frames)\n",
        "    fps_values.append(fps)\n",
        "\n",
        "    progress += 1\n",
        "\n",
        "    clear_output(wait=True)\n",
        "    print(f'Progress: {progress / nr_videos * 100:.2f}%')"
      ],
      "metadata": {
        "colab": {
          "base_uri": "https://localhost:8080/"
        },
        "id": "cWDUPG6tzQ4j",
        "outputId": "5e56c179-17fe-4b5f-e985-39a0149f016a"
      },
      "execution_count": 15,
      "outputs": [
        {
          "output_type": "stream",
          "name": "stdout",
          "text": [
            "Progress: 100.00%\n"
          ]
        }
      ]
    },
    {
      "cell_type": "code",
      "source": [
        "# Updating metadata table with these.\n",
        "clips_df['nr_frames'] = frame_counts\n",
        "clips_df['fps'] = fps_values"
      ],
      "metadata": {
        "id": "T-Seha7Uzip3"
      },
      "execution_count": 16,
      "outputs": []
    },
    {
      "cell_type": "code",
      "source": [
        "# Checking if any videos could not be processed.\n",
        "\n",
        "unprocessed = clips_df['nr_frames'].isna()\n",
        "\n",
        "if sum(unprocessed) > 0:\n",
        "  print(f'WARNING: {sum(unprocessed)} videos could not be processed.')\n",
        "\n",
        "else:\n",
        "  print('Success! All videos processed.')"
      ],
      "metadata": {
        "colab": {
          "base_uri": "https://localhost:8080/"
        },
        "id": "k9oeV4PKz-yz",
        "outputId": "c6426a5f-4aef-40f0-b9ad-a5f2673dd3c5"
      },
      "execution_count": 18,
      "outputs": [
        {
          "output_type": "stream",
          "name": "stdout",
          "text": [
            "Success! All videos processed.\n"
          ]
        }
      ]
    },
    {
      "cell_type": "code",
      "source": [
        "# Adding length of video (in seconds) to metadata table.\n",
        "clips_df['length'] = clips_df['nr_frames'] / clips_df['fps']"
      ],
      "metadata": {
        "id": "neKEvs4P0rmt"
      },
      "execution_count": 19,
      "outputs": []
    },
    {
      "cell_type": "code",
      "source": [
        "# Writing table to csv.\n",
        "clips_df.to_csv('/content/clips.csv', index=False)"
      ],
      "metadata": {
        "id": "NeKhP6lN1VVE"
      },
      "execution_count": 20,
      "outputs": []
    },
    {
      "cell_type": "code",
      "source": [
        "# Copying metadata table to Drive.\n",
        "\n",
        "metadata_source = '/content/clips.csv'\n",
        "\n",
        "metadata_dest = '/content/drive/My Drive/UvA/M Thesis/Data/AK fish/clips.csv'\n",
        "\n",
        "shutil.copy(metadata_source, metadata_dest)"
      ],
      "metadata": {
        "colab": {
          "base_uri": "https://localhost:8080/",
          "height": 35
        },
        "id": "Vlcq6Oxe01SB",
        "outputId": "8039230e-a806-4021-cef8-b23b1788a87f"
      },
      "execution_count": 21,
      "outputs": [
        {
          "output_type": "execute_result",
          "data": {
            "text/plain": [
              "'/content/drive/My Drive/UvA/M Thesis/Data/AK fish/clips.csv'"
            ],
            "application/vnd.google.colaboratory.intrinsic+json": {
              "type": "string"
            }
          },
          "metadata": {},
          "execution_count": 21
        }
      ]
    },
    {
      "cell_type": "markdown",
      "source": [
        "## Inspecting video property distributions."
      ],
      "metadata": {
        "id": "pOPCVaCf1i1Z"
      }
    },
    {
      "cell_type": "code",
      "source": [
        "# Distribution of the fps of videos.\n",
        "\n",
        "import matplotlib.pyplot as plt\n",
        "\n",
        "plt.hist(clips_df['fps'], color='cornflowerblue', edgecolor='black', bins=20)\n",
        "\n",
        "# Adding titles and labels\n",
        "plt.title('Distribution of Frames per Second in Videos')\n",
        "plt.xlabel('Frames per Second')\n",
        "plt.ylabel('Frequency')\n",
        "\n",
        "# Show the plot\n",
        "plt.show()"
      ],
      "metadata": {
        "colab": {
          "base_uri": "https://localhost:8080/",
          "height": 472
        },
        "id": "fL_GE0Oq2K2F",
        "outputId": "b2db3ee7-b21e-4daf-ffa1-73a594ff882e"
      },
      "execution_count": 25,
      "outputs": [
        {
          "output_type": "display_data",
          "data": {
            "text/plain": [
              "<Figure size 640x480 with 1 Axes>"
            ],
            "image/png": "[encoded data removed]"
          },
          "metadata": {}
        }
      ]
    },
    {
      "cell_type": "code",
      "source": [
        "# Distribution of the number of frames in a video.\n",
        "\n",
        "import matplotlib.pyplot as plt\n",
        "\n",
        "plt.hist(clips_df['nr_frames'], color='cornflowerblue', edgecolor='black', bins=20)\n",
        "\n",
        "# Adding titles and labels\n",
        "plt.title('Distribution of Number of Frames')\n",
        "plt.xlabel('Number of Frames')\n",
        "plt.ylabel('Frequency')\n",
        "\n",
        "# Show the plot\n",
        "plt.show()"
      ],
      "metadata": {
        "colab": {
          "base_uri": "https://localhost:8080/",
          "height": 472
        },
        "id": "K2WWgP9I1mYl",
        "outputId": "734f74a5-7bec-4af5-a15e-2b5d9546eb21"
      },
      "execution_count": 24,
      "outputs": [
        {
          "output_type": "display_data",
          "data": {
            "text/plain": [
              "<Figure size 640x480 with 1 Axes>"
            ],
            "image/png": "[encoded data removed]"
          },
          "metadata": {}
        }
      ]
    },
    {
      "cell_type": "code",
      "source": [
        "# Distribution of the length of videos.\n",
        "\n",
        "import matplotlib.pyplot as plt\n",
        "\n",
        "plt.hist(clips_df['length'], color='cornflowerblue', edgecolor='black', bins=20)\n",
        "\n",
        "# Adding titles and labels\n",
        "plt.title('Distribution of Length of Videos')\n",
        "plt.xlabel('Length (seconds)')\n",
        "plt.ylabel('Frequency')\n",
        "\n",
        "# Show the plot\n",
        "plt.show()"
      ],
      "metadata": {
        "colab": {
          "base_uri": "https://localhost:8080/",
          "height": 472
        },
        "id": "uHvSxgCH2SlQ",
        "outputId": "96896717-16f6-444c-dca2-e52e9dc8a99b"
      },
      "execution_count": 26,
      "outputs": [
        {
          "output_type": "display_data",
          "data": {
            "text/plain": [
              "<Figure size 640x480 with 1 Axes>"
            ],
            "image/png": "[encoded data removed]"
          },
          "metadata": {}
        }
      ]
    }
  ]
}