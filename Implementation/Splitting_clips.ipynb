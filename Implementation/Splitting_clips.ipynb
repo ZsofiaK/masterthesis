{
  "nbformat": 4,
  "nbformat_minor": 0,
  "metadata": {
    "colab": {
      "provenance": [],
      "authorship_tag": "ABX9TyNMCw4jdgYEuJ2ad2sj35DV",
      "include_colab_link": true
    },
    "kernelspec": {
      "name": "python3",
      "display_name": "Python 3"
    },
    "language_info": {
      "name": "python"
    }
  },
  "cells": [
    {
      "cell_type": "markdown",
      "metadata": {
        "id": "view-in-github",
        "colab_type": "text"
      },
      "source": [
        "<a href=\"https://colab.research.google.com/github/ZsofiaK/masterthesis/blob/main/Implementation/Splitting_clips.ipynb\" target=\"_parent\"><img src=\"https://colab.research.google.com/assets/colab-badge.svg\" alt=\"Open In Colab\"/></a>"
      ]
    },
    {
      "cell_type": "markdown",
      "source": [
        "# Splitting fish videos to clips"
      ],
      "metadata": {
        "id": "eDDtnmH06qVR"
      }
    },
    {
      "cell_type": "code",
      "execution_count": 1,
      "metadata": {
        "colab": {
          "base_uri": "https://localhost:8080/",
          "height": 52
        },
        "id": "1JUDOvta6pZs",
        "outputId": "9ef5d8e7-1765-48d8-8fff-07b8d05c2eb6"
      },
      "outputs": [
        {
          "output_type": "stream",
          "name": "stdout",
          "text": [
            "Mounted at /content/drive\n"
          ]
        },
        {
          "output_type": "execute_result",
          "data": {
            "text/plain": [
              "'/content/Fish data'"
            ],
            "application/vnd.google.colaboratory.intrinsic+json": {
              "type": "string"
            }
          },
          "metadata": {},
          "execution_count": 1
        }
      ],
      "source": [
        "# Copying fish data from Drive\n",
        "\n",
        "from google.colab import drive\n",
        "drive.mount('/content/drive')\n",
        "\n",
        "import shutil\n",
        "\n",
        "source_folder = \"/content/drive/My Drive/UvA/M Thesis/Data/Fish data\"\n",
        "destination_folder = \"/content/Fish data\"\n",
        "\n",
        "# Copy the folder to destination\n",
        "shutil.copytree(source_folder, destination_folder)"
      ]
    },
    {
      "cell_type": "code",
      "source": [
        "import subprocess\n",
        "import os\n",
        "import pandas as pd\n",
        "from IPython.display import clear_output\n",
        "\n",
        "unvalid_videos = []\n",
        "\n",
        "def split_videos_to_clips(source_folder:str, output_folder:str, clip_length:int=2):\n",
        "  '''\n",
        "  Splits videos to an odd number of clips of a specified length.\n",
        "  The middle clip coincides with the middle of the video.\n",
        "  A metadata file is written, where the label of the middle video is 1,\n",
        "    0 otherwise.\n",
        "\n",
        "  :param: source_folder: the folder of the original videos.\n",
        "  :param: output_folder: directory where the output should be saved. The clips\n",
        "    will be saved in a folder named Clips within this directory.\n",
        "  :clip_length: the length of the desired clips in seconds.\n",
        "  '''\n",
        "\n",
        "  # Ensure output directories exist\n",
        "  clips_folder = os.path.join(output_folder, \"Clips\")\n",
        "  os.makedirs(clips_folder, exist_ok=True)\n",
        "\n",
        "  video_files = [f for f in os.listdir(source_folder) if f.endswith('.MP4')]\n",
        "  metadata = []\n",
        "\n",
        "  for video_idx, video_file in enumerate(video_files, start=1):\n",
        "      video_path = os.path.join(source_folder, video_file)\n",
        "\n",
        "      # Get video duration\n",
        "      cmd = ['ffprobe', '-v', 'error', '-show_entries',\n",
        "              'format=duration', '-of',\n",
        "              'default=noprint_wrappers=1:nokey=1', video_path]\n",
        "\n",
        "      result = subprocess.run(cmd, stdout=subprocess.PIPE, text=True)\n",
        "\n",
        "      try:\n",
        "        duration = float(result.stdout)\n",
        "\n",
        "      except:\n",
        "        print(f'WARNING: Unvalid file {video_file}')\n",
        "\n",
        "        unvalid_videos.append(video_file)\n",
        "\n",
        "        continue\n",
        "\n",
        "      # Calculate number of clips and adjust if necessary to be odd\n",
        "      total_clips = int(duration) // clip_length\n",
        "      if total_clips % 2 == 0: total_clips -= 1\n",
        "\n",
        "      # Calculate total duration covered by the clips to center them in the video\n",
        "      total_clips_duration = total_clips * clip_length\n",
        "\n",
        "      # Calculate the start time offset to center clips in the video\n",
        "      start_offset = (duration - total_clips_duration) / 2\n",
        "\n",
        "      for clip_idx in range(1, int(total_clips) + 1):\n",
        "          start_time = start_offset + (clip_idx - 1) * clip_length\n",
        "\n",
        "          clip_name = f\"video{video_idx}_clip{clip_idx}.mp4\"\n",
        "\n",
        "          clip_path = os.path.join(clips_folder, clip_name)\n",
        "\n",
        "          label = 1 if clip_idx == (total_clips // 2) + 1 else 0\n",
        "\n",
        "          # Save metadata\n",
        "          metadata.append([clip_name, video_file, round(start_time, 2), label])\n",
        "\n",
        "          # Use ffmpeg to cut the clip without re-encoding\n",
        "          cmd = ['ffmpeg', '-ss', str(start_time), '-t', str(clip_length),\n",
        "                  '-i', video_path, '-c', 'copy', '-y', clip_path]\n",
        "          subprocess.run(cmd)\n",
        "\n",
        "          clear_output(wait=True)\n",
        "          print(f\"Processed {clip_name} from {video_file}\")\n",
        "\n",
        "  clear_output(wait=True)\n",
        "  print('All clips processed.')\n",
        "\n",
        "  # Save metadata to CSV\n",
        "  metadata_df = pd.DataFrame(metadata, columns=[\"clip\", \"origin_video\", \"timestamp\", \"label\"])\n",
        "  metadata_df.to_csv(os.path.join(output_folder, 'clips.csv'), index=False)\n",
        "  print('Metadata CSV saved.')\n"
      ],
      "metadata": {
        "id": "GIajQT6iA1Rc"
      },
      "execution_count": 2,
      "outputs": []
    },
    {
      "cell_type": "code",
      "source": [
        "source_folder_path = '/content/Fish data'\n",
        "output_folder_path = '/content/Fish clips'\n",
        "\n",
        "split_videos_to_clips(source_folder_path, output_folder_path)"
      ],
      "metadata": {
        "colab": {
          "base_uri": "https://localhost:8080/"
        },
        "id": "VdAA-5eEA3eh",
        "outputId": "e3490e40-2bfd-486a-b76a-7b4c55330d1c"
      },
      "execution_count": 3,
      "outputs": [
        {
          "output_type": "stream",
          "name": "stdout",
          "text": [
            "All clips processed.\n",
            "Metadata CSV saved.\n"
          ]
        }
      ]
    },
    {
      "cell_type": "code",
      "source": [
        "if len(unvalid_videos) > 0:\n",
        "  print('The following videos could not be processed:')\n",
        "\n",
        "  for video in unvalid_videos:\n",
        "    print(video)\n",
        "\n",
        "else:\n",
        "  print('All videos could be processed.')"
      ],
      "metadata": {
        "colab": {
          "base_uri": "https://localhost:8080/"
        },
        "id": "o_2nA2yuFwmg",
        "outputId": "f506ae33-036e-4415-e5e2-fc41e972e861"
      },
      "execution_count": 4,
      "outputs": [
        {
          "output_type": "stream",
          "name": "stdout",
          "text": [
            "All videos could be processed.\n"
          ]
        }
      ]
    },
    {
      "cell_type": "code",
      "source": [
        "# Copying clips to drive.\n",
        "source_folder = '/content/Fish clips'\n",
        "\n",
        "destination_folder = '/content/drive/My Drive/UvA/M Thesis/Data/Fish clips'\n",
        "\n",
        "shutil.copytree(source_folder, destination_folder)"
      ],
      "metadata": {
        "colab": {
          "base_uri": "https://localhost:8080/",
          "height": 35
        },
        "id": "oTaRMM3eGQsn",
        "outputId": "04f1e0f2-3b84-45df-8be9-8e339f948f1d"
      },
      "execution_count": 5,
      "outputs": [
        {
          "output_type": "execute_result",
          "data": {
            "text/plain": [
              "'/content/drive/My Drive/UvA/M Thesis/Data/Fish clips'"
            ],
            "application/vnd.google.colaboratory.intrinsic+json": {
              "type": "string"
            }
          },
          "metadata": {},
          "execution_count": 5
        }
      ]
    }
  ]
}