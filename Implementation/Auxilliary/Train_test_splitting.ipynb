{
  "nbformat": 4,
  "nbformat_minor": 0,
  "metadata": {
    "colab": {
      "provenance": [],
      "authorship_tag": "ABX9TyODrKnvSoNhLN+t93Rb9Kie",
      "include_colab_link": true
    },
    "kernelspec": {
      "name": "python3",
      "display_name": "Python 3"
    },
    "language_info": {
      "name": "python"
    }
  },
  "cells": [
    {
      "cell_type": "markdown",
      "metadata": {
        "id": "view-in-github",
        "colab_type": "text"
      },
      "source": [
        "<a href=\"https://colab.research.google.com/github/ZsofiaK/masterthesis/blob/main/Implementation/Auxilliary/Train_test_splitting.ipynb\" target=\"_parent\"><img src=\"https://colab.research.google.com/assets/colab-badge.svg\" alt=\"Open In Colab\"/></a>"
      ]
    },
    {
      "cell_type": "markdown",
      "source": [
        "# Setting up train and test sets for fish video dataset\n",
        "\n"
      ],
      "metadata": {
        "id": "4mP0LJBct1Gi"
      }
    },
    {
      "cell_type": "markdown",
      "source": [
        "## Preliminaries"
      ],
      "metadata": {
        "id": "EpwK6yUXuVEI"
      }
    },
    {
      "cell_type": "code",
      "source": [
        "# Setting up dictionaries for later ease of use.\n",
        "dataset_dict = {'fishClips' : 'Fish clips'}"
      ],
      "metadata": {
        "id": "BLNZIP_suB_W"
      },
      "execution_count": null,
      "outputs": []
    },
    {
      "cell_type": "code",
      "execution_count": null,
      "metadata": {
        "id": "8JA_r5m0tus8"
      },
      "outputs": [],
      "source": [
        "dataset_name = 'fishClips'\n",
        "\n",
        "dataset_dir = dataset_dict[dataset_name]\n",
        "\n",
        "test_size = 0.2   # Relative size of the test set\n",
        "\n",
        "seed = 23   # For reproducability in pseudo-randomness."
      ]
    },
    {
      "cell_type": "code",
      "source": [
        "# Mount Drive.\n",
        "from google.colab import drive\n",
        "\n",
        "drive.mount('/content/drive')"
      ],
      "metadata": {
        "id": "M4n9uwU8uONC"
      },
      "execution_count": null,
      "outputs": []
    },
    {
      "cell_type": "code",
      "source": [
        "# Specify data source\n",
        "drive_dir = f\"/content/drive/My Drive/UvA/M Thesis/Data/{dataset_dir}\"\n",
        "\n",
        "# Specify directory to copy to\n",
        "data_dir = f\"/content/{dataset_dir}\""
      ],
      "metadata": {
        "id": "XwIXKTv8uO_O"
      },
      "execution_count": null,
      "outputs": []
    },
    {
      "cell_type": "code",
      "source": [
        "# Copy the folder to destination\n",
        "import shutil\n",
        "shutil.copytree(drive_dir, data_dir)"
      ],
      "metadata": {
        "id": "eT5HLtrPuRmV"
      },
      "execution_count": null,
      "outputs": []
    },
    {
      "cell_type": "markdown",
      "source": [
        "## Splitting dataset"
      ],
      "metadata": {
        "id": "Ov3X1juRunzy"
      }
    },
    {
      "cell_type": "code",
      "source": [
        "import pandas as pd\n",
        "\n",
        "clips_df = pd.read_csv(f'{data_dir}/clips.csv')"
      ],
      "metadata": {
        "id": "t12yF6N2unJS"
      },
      "execution_count": null,
      "outputs": []
    },
    {
      "cell_type": "code",
      "source": [
        "clips_df.head()"
      ],
      "metadata": {
        "id": "V_GJrzyqvRuD"
      },
      "execution_count": null,
      "outputs": []
    },
    {
      "cell_type": "code",
      "source": [
        "# Create split.\n",
        "from sklearn.model_selection import train_test_split\n",
        "\n",
        "# This dataset has to be handled carefully as we must ensure that all clips\n",
        "# from the same original video go to the same split.\n",
        "\n",
        "nr_og_videos = 44   # Number of videos in the original dataset\n",
        "\n",
        "video_numbers = [i + 1 for i in range(nr_og_videos)]\n",
        "\n",
        "train_video_nrs, test_video_nrs = train_test_split(\n",
        "    video_numbers, test_size=test_size, random_state=seed)\n",
        "\n",
        "X_train = []\n",
        "X_test = []\n",
        "y_train = []\n",
        "y_test = []\n",
        "\n",
        "for index, row in clips_df.iterrows():\n",
        "  video_nr = int(row['video'].split('_')[0].replace('video', ''))\n",
        "\n",
        "  if video_nr in train_video_nrs:\n",
        "    X_train.append(row['video'])\n",
        "    y_train.append(row['label'])\n",
        "\n",
        "  else:\n",
        "    X_test.append(row['video'])\n",
        "    y_test.append(row['label'])"
      ],
      "metadata": {
        "id": "ixgrgC5bv43Q"
      },
      "execution_count": null,
      "outputs": []
    },
    {
      "cell_type": "code",
      "source": [
        "# Add test/train type to clips dataframe.\n",
        "clips_df['type'] = None\n",
        "\n",
        "clips_df.loc[clips_df['video'].isin(X_train), 'type'] = 'train'\n",
        "clips_df.loc[clips_df['video'].isin(X_test), 'type'] = 'test'"
      ],
      "metadata": {
        "id": "1okumdCpxCZX"
      },
      "execution_count": null,
      "outputs": []
    },
    {
      "cell_type": "code",
      "source": [
        "# Write clips dataframe to file and save to Drive.\n",
        "clips_df.to_csv(f'{data_dir}/clips.csv', index=False)\n",
        "\n",
        "shutil.copy(f'{data_dir}/clips.csv', f'{drive_dir}/clips.csv')"
      ],
      "metadata": {
        "id": "wSqN7yD9xz2H"
      },
      "execution_count": null,
      "outputs": []
    }
  ]
}